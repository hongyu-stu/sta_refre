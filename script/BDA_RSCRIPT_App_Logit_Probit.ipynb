{
 "cells": [
  {
   "cell_type": "code",
   "execution_count": 3,
   "metadata": {},
   "outputs": [],
   "source": [
    "from datetime import datetime\n",
    "import pandas as pd \n",
    "import statsmodels.api as sm\n",
    "import numpy as np\n",
    "import matplotlib.pyplot as plt\n",
    "from scipy.stats import norm\n",
    "import statsmodels.api as sm\n",
    "from scipy.optimize import minimize\n",
    "from scipy import optimize\n",
    "import warnings\n",
    "warnings.simplefilter('ignore')"
   ]
  },
  {
   "cell_type": "code",
   "execution_count": null,
   "metadata": {},
   "outputs": [],
   "source": [
    "#original dataset\n",
    "AER_App_data  =pd.read_csv(\"AER_App_data.CSV\")\n",
    "#category 5 is the column that is 1 is the app is a game and 0 otherwise\n",
    "game=AER_App_data['cat5']\n"
   ]
  },
  {
   "cell_type": "code",
   "execution_count": null,
   "metadata": {},
   "outputs": [],
   "source": [
    "AER_App_data.shape"
   ]
  },
  {
   "cell_type": "code",
   "execution_count": null,
   "metadata": {},
   "outputs": [],
   "source": [
    "AER_App_data"
   ]
  },
  {
   "cell_type": "code",
   "execution_count": null,
   "metadata": {},
   "outputs": [],
   "source": [
    "#Bernoulli model or unconditional probability model\n",
    "#likelihood function\n",
    "def bernlik(prob):\n",
    "    vlog=game*np.log(prob)+(1-game)*np.log(1-prob);\n",
    "    loglik=np.sum(vlog);\n",
    "    return loglik"
   ]
  },
  {
   "cell_type": "code",
   "execution_count": null,
   "metadata": {},
   "outputs": [],
   "source": [
    "#the best way to numerically optimize a one dimensional parameter probem is grid search\n",
    "vgrid= pd.Series(np.arange(0.01, 1, 0.01), name='vgrid')\n",
    "vloglik = pd.Series(np.zeros(len(vgrid)), name='vloglik')\n",
    "for j in range(0,len(vgrid)) :\n",
    "    vloglik[j]=bernlik(vgrid[j])"
   ]
  },
  {
   "cell_type": "code",
   "execution_count": null,
   "metadata": {},
   "outputs": [],
   "source": [
    "plt.plot(vgrid,vloglik,color='blue')\n",
    "plt.show()"
   ]
  },
  {
   "cell_type": "code",
   "execution_count": null,
   "metadata": {},
   "outputs": [],
   "source": [
    "vgrid"
   ]
  },
  {
   "cell_type": "code",
   "execution_count": null,
   "metadata": {},
   "outputs": [],
   "source": [
    "#rather than visually maximize, we take the point on the grid corresponding to the highest loglikelihood\n",
    "mloglik=pd.concat([vgrid, vloglik], axis=1)\n",
    "mloglik.shape\n"
   ]
  },
  {
   "cell_type": "code",
   "execution_count": null,
   "metadata": {},
   "outputs": [],
   "source": [
    "mloglik=mloglik.sort_values(\"vloglik\", ascending = False)\n",
    "mloglik.iloc[0,]"
   ]
  },
  {
   "cell_type": "code",
   "execution_count": null,
   "metadata": {},
   "outputs": [],
   "source": [
    "#Alternatively, maximising the loglikelihood function analytically we obtain the empirical mean\n",
    "game.describe()"
   ]
  },
  {
   "cell_type": "code",
   "execution_count": null,
   "metadata": {},
   "outputs": [],
   "source": [
    "def bernlik(prob):\n",
    "    vlog=game*np.log(prob)+(1-game)*np.log(1-prob);\n",
    "    loglik=np.sum(-vlog);\n",
    "    return loglik"
   ]
  },
  {
   "cell_type": "code",
   "execution_count": null,
   "metadata": {},
   "outputs": [],
   "source": [
    "#rather than a numerical grid search, we can maximise the loglikelihood function numerically \n",
    "initParams = [0.5]\n",
    "results = minimize(bernlik, initParams, method='nelder-mead')\n",
    "print(results.x)"
   ]
  },
  {
   "cell_type": "code",
   "execution_count": null,
   "metadata": {},
   "outputs": [],
   "source": []
  },
  {
   "cell_type": "code",
   "execution_count": null,
   "metadata": {},
   "outputs": [],
   "source": [
    "#conditional probability models PROBIT\n",
    "############## Now concentrating only on games which are potentially killer apps\n",
    "AER_App_data_gameonly=AER_App_data[AER_App_data['cat5']==1]\n",
    "killer=AER_App_data_gameonly['killerappgros']\n",
    "score=AER_App_data_gameonly['scoreapp']\n",
    "killer.describe()"
   ]
  },
  {
   "cell_type": "code",
   "execution_count": null,
   "metadata": {},
   "outputs": [],
   "source": [
    "def probitlik(beta):\n",
    "    beta0=beta[0]\n",
    "    beta1=beta[1]\n",
    "    vlog=killer*np.log(norm.cdf(beta0+beta1*score))+(1-killer)*np.log(1-norm.cdf(beta0+beta1*score));\n",
    "    probit=sum(-vlog);\n",
    "    return probit"
   ]
  },
  {
   "cell_type": "code",
   "execution_count": null,
   "metadata": {},
   "outputs": [],
   "source": [
    "n=len(killer)\n",
    "initParams = [0.1,0.1]\n",
    "results = minimize(probitlik, initParams, method='nelder-mead')\n",
    "print(results.x)\n"
   ]
  },
  {
   "cell_type": "code",
   "execution_count": null,
   "metadata": {},
   "outputs": [],
   "source": [
    "########conditional probability models LOGIT\n",
    "\n",
    "def logitlik(beta):\n",
    "    beta0=beta[0]\n",
    "    beta1=beta[1]\n",
    "    vlog=killer*np.log(1/(1+np.exp(-beta0-beta1*score)))+(1-killer)*np.log(1-1/(1+np.exp(-beta0-beta1*score)))\n",
    "    probit=sum(-vlog)\n",
    "    return probit"
   ]
  },
  {
   "cell_type": "code",
   "execution_count": null,
   "metadata": {},
   "outputs": [],
   "source": [
    "n=len(killer)\n",
    "initParams = [0.1,0.1]\n",
    "results = minimize(logitlik, initParams, method='nelder-mead')\n",
    "print(results.x)\n",
    "\n"
   ]
  },
  {
   "cell_type": "code",
   "execution_count": null,
   "metadata": {},
   "outputs": [],
   "source": [
    "######\n",
    "def probitlik_restrict(beta0):\n",
    "    vlog=killer*np.log(norm.cdf(beta0))+(1-killer)*np.log(1-norm.cdf(beta0))\n",
    "    probit=sum(-vlog);\n",
    "    return probit"
   ]
  },
  {
   "cell_type": "code",
   "execution_count": null,
   "metadata": {},
   "outputs": [],
   "source": [
    "n=len(killer)\n",
    "initParams = [0.1]\n",
    "results = minimize(probitlik_restrict, initParams, method='nelder-mead')\n",
    "print(results.x)\n"
   ]
  },
  {
   "cell_type": "code",
   "execution_count": null,
   "metadata": {},
   "outputs": [],
   "source": [
    "#estimation of the models with the glm function\n",
    "\n",
    "import statsmodels.api as sm\n",
    "score=sm.add_constant(score)\n",
    "probitmodel2 = sm.GLM(killer, score, family=sm.families.Binomial(link=sm.families.links.probit)) \n",
    "probitmodel2 =probitmodel2.fit()\n",
    "print(probitmodel2.summary())"
   ]
  },
  {
   "cell_type": "code",
   "execution_count": null,
   "metadata": {},
   "outputs": [],
   "source": [
    "logitmodel = sm.GLM(killer, score, family=sm.families.Binomial(link=sm.families.links.logit)) \n",
    "logitmodel =logitmodel.fit()\n",
    "print(logitmodel.summary())"
   ]
  },
  {
   "cell_type": "code",
   "execution_count": null,
   "metadata": {},
   "outputs": [],
   "source": [
    "logitmodel2 = sm.GLM(killer, score, family=sm.families.Binomial()) \n",
    "logitmodel2=logitmodel2.fit()\n",
    "print(logitmodel2.summary())"
   ]
  },
  {
   "cell_type": "code",
   "execution_count": null,
   "metadata": {},
   "outputs": [],
   "source": [
    "(0.5261-1)/0.033\n"
   ]
  },
  {
   "cell_type": "code",
   "execution_count": null,
   "metadata": {},
   "outputs": [],
   "source": []
  }
 ],
 "metadata": {
  "kernelspec": {
   "display_name": "Python 3",
   "language": "python",
   "name": "python3"
  },
  "language_info": {
   "codemirror_mode": {
    "name": "ipython",
    "version": 3
   },
   "file_extension": ".py",
   "mimetype": "text/x-python",
   "name": "python",
   "nbconvert_exporter": "python",
   "pygments_lexer": "ipython3",
   "version": "3.7.1"
  }
 },
 "nbformat": 4,
 "nbformat_minor": 2
}
