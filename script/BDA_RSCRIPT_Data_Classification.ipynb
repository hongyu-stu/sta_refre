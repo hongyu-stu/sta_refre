{
 "cells": [
  {
   "cell_type": "code",
   "execution_count": 1,
   "metadata": {},
   "outputs": [],
   "source": [
    "from datetime import datetime\n",
    "import pandas as pd \n",
    "import statsmodels.api as sm\n",
    "import numpy as np\n",
    "import matplotlib.pyplot as plt\n",
    "from scipy.stats import norm\n",
    "import statsmodels.api as sm\n",
    "from scipy.optimize import minimize\n",
    "import scipy.stats\n",
    "from scipy import stats\n",
    "from sklearn.metrics import confusion_matrix\n",
    "import warnings\n",
    "warnings.simplefilter('ignore')"
   ]
  },
  {
   "cell_type": "code",
   "execution_count": 6,
   "metadata": {},
   "outputs": [
    {
     "data": {
      "text/plain": [
       "(352, 9)"
      ]
     },
     "execution_count": 6,
     "metadata": {},
     "output_type": "execute_result"
    }
   ],
   "source": [
    "ABBELECTRIC_univariate=pd.read_csv(\"ABBELECTRIC_univariate.csv\",sep=';')\n",
    "rawdata=ABBELECTRIC_univariate\n",
    "rawdata.shape"
   ]
  },
  {
   "cell_type": "code",
   "execution_count": 7,
   "metadata": {},
   "outputs": [
    {
     "data": {
      "text/html": [
       "<div>\n",
       "<style scoped>\n",
       "    .dataframe tbody tr th:only-of-type {\n",
       "        vertical-align: middle;\n",
       "    }\n",
       "\n",
       "    .dataframe tbody tr th {\n",
       "        vertical-align: top;\n",
       "    }\n",
       "\n",
       "    .dataframe thead th {\n",
       "        text-align: right;\n",
       "    }\n",
       "</style>\n",
       "<table border=\"1\" class=\"dataframe\">\n",
       "  <thead>\n",
       "    <tr style=\"text-align: right;\">\n",
       "      <th></th>\n",
       "      <th>Choice</th>\n",
       "      <th>Price</th>\n",
       "      <th>Energy</th>\n",
       "      <th>Maintenance</th>\n",
       "      <th>Warranty</th>\n",
       "      <th>Spare</th>\n",
       "      <th>Install</th>\n",
       "      <th>Solver</th>\n",
       "      <th>Quality</th>\n",
       "    </tr>\n",
       "  </thead>\n",
       "  <tbody>\n",
       "    <tr>\n",
       "      <th>0</th>\n",
       "      <td>0</td>\n",
       "      <td>6</td>\n",
       "      <td>6</td>\n",
       "      <td>7</td>\n",
       "      <td>6</td>\n",
       "      <td>6</td>\n",
       "      <td>5</td>\n",
       "      <td>7</td>\n",
       "      <td>5</td>\n",
       "    </tr>\n",
       "    <tr>\n",
       "      <th>1</th>\n",
       "      <td>1</td>\n",
       "      <td>6</td>\n",
       "      <td>6</td>\n",
       "      <td>6</td>\n",
       "      <td>7</td>\n",
       "      <td>9</td>\n",
       "      <td>9</td>\n",
       "      <td>7</td>\n",
       "      <td>5</td>\n",
       "    </tr>\n",
       "    <tr>\n",
       "      <th>2</th>\n",
       "      <td>0</td>\n",
       "      <td>6</td>\n",
       "      <td>5</td>\n",
       "      <td>7</td>\n",
       "      <td>5</td>\n",
       "      <td>3</td>\n",
       "      <td>4</td>\n",
       "      <td>7</td>\n",
       "      <td>6</td>\n",
       "    </tr>\n",
       "    <tr>\n",
       "      <th>3</th>\n",
       "      <td>0</td>\n",
       "      <td>5</td>\n",
       "      <td>5</td>\n",
       "      <td>6</td>\n",
       "      <td>7</td>\n",
       "      <td>8</td>\n",
       "      <td>2</td>\n",
       "      <td>6</td>\n",
       "      <td>5</td>\n",
       "    </tr>\n",
       "    <tr>\n",
       "      <th>4</th>\n",
       "      <td>0</td>\n",
       "      <td>3</td>\n",
       "      <td>4</td>\n",
       "      <td>5</td>\n",
       "      <td>4</td>\n",
       "      <td>4</td>\n",
       "      <td>5</td>\n",
       "      <td>6</td>\n",
       "      <td>4</td>\n",
       "    </tr>\n",
       "  </tbody>\n",
       "</table>\n",
       "</div>"
      ],
      "text/plain": [
       "   Choice  Price  Energy  Maintenance  Warranty  Spare  Install  Solver  \\\n",
       "0       0      6       6            7         6      6        5       7   \n",
       "1       1      6       6            6         7      9        9       7   \n",
       "2       0      6       5            7         5      3        4       7   \n",
       "3       0      5       5            6         7      8        2       6   \n",
       "4       0      3       4            5         4      4        5       6   \n",
       "\n",
       "   Quality  \n",
       "0        5  \n",
       "1        5  \n",
       "2        6  \n",
       "3        5  \n",
       "4        4  "
      ]
     },
     "execution_count": 7,
     "metadata": {},
     "output_type": "execute_result"
    }
   ],
   "source": [
    "rawdata.head()"
   ]
  },
  {
   "cell_type": "code",
   "execution_count": 15,
   "metadata": {},
   "outputs": [
    {
     "data": {
      "text/html": [
       "<div>\n",
       "<style scoped>\n",
       "    .dataframe tbody tr th:only-of-type {\n",
       "        vertical-align: middle;\n",
       "    }\n",
       "\n",
       "    .dataframe tbody tr th {\n",
       "        vertical-align: top;\n",
       "    }\n",
       "\n",
       "    .dataframe thead th {\n",
       "        text-align: right;\n",
       "    }\n",
       "</style>\n",
       "<table border=\"1\" class=\"dataframe\">\n",
       "  <thead>\n",
       "    <tr style=\"text-align: right;\">\n",
       "      <th></th>\n",
       "      <th>Choice</th>\n",
       "      <th>Price</th>\n",
       "      <th>Energy</th>\n",
       "      <th>Maintenance</th>\n",
       "      <th>Warranty</th>\n",
       "      <th>Spare</th>\n",
       "      <th>Install</th>\n",
       "      <th>Solver</th>\n",
       "      <th>Quality</th>\n",
       "      <th>fittedvalues</th>\n",
       "    </tr>\n",
       "  </thead>\n",
       "  <tbody>\n",
       "    <tr>\n",
       "      <th>count</th>\n",
       "      <td>352.000000</td>\n",
       "      <td>352.000000</td>\n",
       "      <td>352.000000</td>\n",
       "      <td>352.000000</td>\n",
       "      <td>352.000000</td>\n",
       "      <td>352.000000</td>\n",
       "      <td>352.000000</td>\n",
       "      <td>352.000000</td>\n",
       "      <td>352.000000</td>\n",
       "      <td>352.000000</td>\n",
       "    </tr>\n",
       "    <tr>\n",
       "      <th>mean</th>\n",
       "      <td>0.250000</td>\n",
       "      <td>4.511364</td>\n",
       "      <td>4.840909</td>\n",
       "      <td>5.659091</td>\n",
       "      <td>5.230114</td>\n",
       "      <td>5.147727</td>\n",
       "      <td>5.207386</td>\n",
       "      <td>5.857955</td>\n",
       "      <td>4.735795</td>\n",
       "      <td>0.250000</td>\n",
       "    </tr>\n",
       "    <tr>\n",
       "      <th>std</th>\n",
       "      <td>0.433629</td>\n",
       "      <td>1.244881</td>\n",
       "      <td>1.092699</td>\n",
       "      <td>1.158507</td>\n",
       "      <td>2.027138</td>\n",
       "      <td>1.767318</td>\n",
       "      <td>1.914007</td>\n",
       "      <td>1.140922</td>\n",
       "      <td>1.112515</td>\n",
       "      <td>0.177204</td>\n",
       "    </tr>\n",
       "    <tr>\n",
       "      <th>min</th>\n",
       "      <td>0.000000</td>\n",
       "      <td>1.000000</td>\n",
       "      <td>1.000000</td>\n",
       "      <td>2.000000</td>\n",
       "      <td>1.000000</td>\n",
       "      <td>1.000000</td>\n",
       "      <td>1.000000</td>\n",
       "      <td>3.000000</td>\n",
       "      <td>2.000000</td>\n",
       "      <td>0.005348</td>\n",
       "    </tr>\n",
       "    <tr>\n",
       "      <th>25%</th>\n",
       "      <td>0.000000</td>\n",
       "      <td>4.000000</td>\n",
       "      <td>4.000000</td>\n",
       "      <td>5.000000</td>\n",
       "      <td>4.000000</td>\n",
       "      <td>4.000000</td>\n",
       "      <td>4.000000</td>\n",
       "      <td>5.000000</td>\n",
       "      <td>4.000000</td>\n",
       "      <td>0.111268</td>\n",
       "    </tr>\n",
       "    <tr>\n",
       "      <th>50%</th>\n",
       "      <td>0.000000</td>\n",
       "      <td>5.000000</td>\n",
       "      <td>5.000000</td>\n",
       "      <td>6.000000</td>\n",
       "      <td>5.000000</td>\n",
       "      <td>5.000000</td>\n",
       "      <td>5.000000</td>\n",
       "      <td>6.000000</td>\n",
       "      <td>5.000000</td>\n",
       "      <td>0.207845</td>\n",
       "    </tr>\n",
       "    <tr>\n",
       "      <th>75%</th>\n",
       "      <td>0.250000</td>\n",
       "      <td>5.000000</td>\n",
       "      <td>6.000000</td>\n",
       "      <td>6.000000</td>\n",
       "      <td>7.000000</td>\n",
       "      <td>6.000000</td>\n",
       "      <td>7.000000</td>\n",
       "      <td>7.000000</td>\n",
       "      <td>6.000000</td>\n",
       "      <td>0.371515</td>\n",
       "    </tr>\n",
       "    <tr>\n",
       "      <th>max</th>\n",
       "      <td>1.000000</td>\n",
       "      <td>7.000000</td>\n",
       "      <td>7.000000</td>\n",
       "      <td>9.000000</td>\n",
       "      <td>9.000000</td>\n",
       "      <td>9.000000</td>\n",
       "      <td>9.000000</td>\n",
       "      <td>9.000000</td>\n",
       "      <td>7.000000</td>\n",
       "      <td>0.802775</td>\n",
       "    </tr>\n",
       "  </tbody>\n",
       "</table>\n",
       "</div>"
      ],
      "text/plain": [
       "           Choice       Price      Energy  Maintenance    Warranty  \\\n",
       "count  352.000000  352.000000  352.000000   352.000000  352.000000   \n",
       "mean     0.250000    4.511364    4.840909     5.659091    5.230114   \n",
       "std      0.433629    1.244881    1.092699     1.158507    2.027138   \n",
       "min      0.000000    1.000000    1.000000     2.000000    1.000000   \n",
       "25%      0.000000    4.000000    4.000000     5.000000    4.000000   \n",
       "50%      0.000000    5.000000    5.000000     6.000000    5.000000   \n",
       "75%      0.250000    5.000000    6.000000     6.000000    7.000000   \n",
       "max      1.000000    7.000000    7.000000     9.000000    9.000000   \n",
       "\n",
       "            Spare     Install      Solver     Quality  fittedvalues  \n",
       "count  352.000000  352.000000  352.000000  352.000000    352.000000  \n",
       "mean     5.147727    5.207386    5.857955    4.735795      0.250000  \n",
       "std      1.767318    1.914007    1.140922    1.112515      0.177204  \n",
       "min      1.000000    1.000000    3.000000    2.000000      0.005348  \n",
       "25%      4.000000    4.000000    5.000000    4.000000      0.111268  \n",
       "50%      5.000000    5.000000    6.000000    5.000000      0.207845  \n",
       "75%      6.000000    7.000000    7.000000    6.000000      0.371515  \n",
       "max      9.000000    9.000000    9.000000    7.000000      0.802775  "
      ]
     },
     "execution_count": 15,
     "metadata": {},
     "output_type": "execute_result"
    }
   ],
   "source": [
    "rawdata.describe()"
   ]
  },
  {
   "cell_type": "code",
   "execution_count": 4,
   "metadata": {},
   "outputs": [
    {
     "name": "stdout",
     "output_type": "stream",
     "text": [
      "                 Generalized Linear Model Regression Results                  \n",
      "==============================================================================\n",
      "Dep. Variable:                 Choice   No. Observations:                  352\n",
      "Model:                            GLM   Df Residuals:                      343\n",
      "Model Family:                Binomial   Df Model:                            8\n",
      "Link Function:                  logit   Scale:                          1.0000\n",
      "Method:                          IRLS   Log-Likelihood:                -167.76\n",
      "Date:                Thu, 11 Feb 2021   Deviance:                       335.52\n",
      "Time:                        10:38:50   Pearson chi2:                     319.\n",
      "No. Iterations:                     5   Covariance Type:             nonrobust\n",
      "===============================================================================\n",
      "                  coef    std err          z      P>|z|      [0.025      0.975]\n",
      "-------------------------------------------------------------------------------\n",
      "const          -6.6287      1.025     -6.465      0.000      -8.638      -4.619\n",
      "Price           0.3925      0.204      1.920      0.055      -0.008       0.793\n",
      "Energy          0.3506      0.208      1.686      0.092      -0.057       0.758\n",
      "Maintenance    -0.2451      0.182     -1.349      0.177      -0.601       0.111\n",
      "Warranty        0.2464      0.110      2.248      0.025       0.032       0.461\n",
      "Spare          -0.0301      0.095     -0.317      0.751      -0.216       0.156\n",
      "Install         0.0754      0.075      1.001      0.317      -0.072       0.223\n",
      "Solver          0.1840      0.204      0.902      0.367      -0.216       0.584\n",
      "Quality         0.1166      0.184      0.632      0.527      -0.245       0.478\n",
      "===============================================================================\n"
     ]
    }
   ],
   "source": [
    "#################################\n",
    "#### Classification         ####\n",
    "#### Logistic Regression    ####\n",
    "#################################\n",
    "exo=rawdata.iloc[:, 1:9] #exogenous variables\n",
    "exo=sm.add_constant(exo) #add constant to the exogenous variables\n",
    "logreg = sm.GLM(rawdata['Choice'], exo, family=sm.families.Binomial()) \n",
    "logreg1=logreg.fit()\n",
    "print(logreg1.summary())"
   ]
  },
  {
   "cell_type": "code",
   "execution_count": 8,
   "metadata": {},
   "outputs": [],
   "source": [
    "#fitted probabilities of having a 1 in the Choice variable for each line \n",
    "rawdata['fittedvalues']=logreg1.fittedvalues"
   ]
  },
  {
   "cell_type": "code",
   "execution_count": 9,
   "metadata": {},
   "outputs": [
    {
     "data": {
      "text/html": [
       "<div>\n",
       "<style scoped>\n",
       "    .dataframe tbody tr th:only-of-type {\n",
       "        vertical-align: middle;\n",
       "    }\n",
       "\n",
       "    .dataframe tbody tr th {\n",
       "        vertical-align: top;\n",
       "    }\n",
       "\n",
       "    .dataframe thead th {\n",
       "        text-align: right;\n",
       "    }\n",
       "</style>\n",
       "<table border=\"1\" class=\"dataframe\">\n",
       "  <thead>\n",
       "    <tr style=\"text-align: right;\">\n",
       "      <th></th>\n",
       "      <th>Choice</th>\n",
       "      <th>Price</th>\n",
       "      <th>Energy</th>\n",
       "      <th>Maintenance</th>\n",
       "      <th>Warranty</th>\n",
       "      <th>Spare</th>\n",
       "      <th>Install</th>\n",
       "      <th>Solver</th>\n",
       "      <th>Quality</th>\n",
       "      <th>fittedvalues</th>\n",
       "    </tr>\n",
       "  </thead>\n",
       "  <tbody>\n",
       "    <tr>\n",
       "      <th>0</th>\n",
       "      <td>0</td>\n",
       "      <td>6</td>\n",
       "      <td>6</td>\n",
       "      <td>7</td>\n",
       "      <td>6</td>\n",
       "      <td>6</td>\n",
       "      <td>5</td>\n",
       "      <td>7</td>\n",
       "      <td>5</td>\n",
       "      <td>0.415791</td>\n",
       "    </tr>\n",
       "    <tr>\n",
       "      <th>1</th>\n",
       "      <td>1</td>\n",
       "      <td>6</td>\n",
       "      <td>6</td>\n",
       "      <td>6</td>\n",
       "      <td>7</td>\n",
       "      <td>9</td>\n",
       "      <td>9</td>\n",
       "      <td>7</td>\n",
       "      <td>5</td>\n",
       "      <td>0.589753</td>\n",
       "    </tr>\n",
       "    <tr>\n",
       "      <th>2</th>\n",
       "      <td>0</td>\n",
       "      <td>6</td>\n",
       "      <td>5</td>\n",
       "      <td>7</td>\n",
       "      <td>5</td>\n",
       "      <td>3</td>\n",
       "      <td>4</td>\n",
       "      <td>7</td>\n",
       "      <td>6</td>\n",
       "      <td>0.308819</td>\n",
       "    </tr>\n",
       "    <tr>\n",
       "      <th>3</th>\n",
       "      <td>0</td>\n",
       "      <td>5</td>\n",
       "      <td>5</td>\n",
       "      <td>6</td>\n",
       "      <td>7</td>\n",
       "      <td>8</td>\n",
       "      <td>2</td>\n",
       "      <td>6</td>\n",
       "      <td>5</td>\n",
       "      <td>0.256935</td>\n",
       "    </tr>\n",
       "    <tr>\n",
       "      <th>4</th>\n",
       "      <td>0</td>\n",
       "      <td>3</td>\n",
       "      <td>4</td>\n",
       "      <td>5</td>\n",
       "      <td>4</td>\n",
       "      <td>4</td>\n",
       "      <td>5</td>\n",
       "      <td>6</td>\n",
       "      <td>4</td>\n",
       "      <td>0.078586</td>\n",
       "    </tr>\n",
       "  </tbody>\n",
       "</table>\n",
       "</div>"
      ],
      "text/plain": [
       "   Choice  Price  Energy  Maintenance  Warranty  Spare  Install  Solver  \\\n",
       "0       0      6       6            7         6      6        5       7   \n",
       "1       1      6       6            6         7      9        9       7   \n",
       "2       0      6       5            7         5      3        4       7   \n",
       "3       0      5       5            6         7      8        2       6   \n",
       "4       0      3       4            5         4      4        5       6   \n",
       "\n",
       "   Quality  fittedvalues  \n",
       "0        5      0.415791  \n",
       "1        5      0.589753  \n",
       "2        6      0.308819  \n",
       "3        5      0.256935  \n",
       "4        4      0.078586  "
      ]
     },
     "execution_count": 9,
     "metadata": {},
     "output_type": "execute_result"
    }
   ],
   "source": [
    "rawdata.head()"
   ]
  },
  {
   "cell_type": "code",
   "execution_count": 10,
   "metadata": {},
   "outputs": [
    {
     "data": {
      "text/plain": [
       "(88,)"
      ]
     },
     "execution_count": 10,
     "metadata": {},
     "output_type": "execute_result"
    }
   ],
   "source": [
    "purchase=rawdata[rawdata['Choice']==1].fittedvalues\n",
    "purchase.shape"
   ]
  },
  {
   "cell_type": "code",
   "execution_count": 11,
   "metadata": {},
   "outputs": [
    {
     "data": {
      "text/plain": [
       "(264,)"
      ]
     },
     "execution_count": 11,
     "metadata": {},
     "output_type": "execute_result"
    }
   ],
   "source": [
    "nonpurchase=rawdata[rawdata['Choice']==0].fittedvalues\n",
    "nonpurchase.shape"
   ]
  },
  {
   "cell_type": "code",
   "execution_count": null,
   "metadata": {},
   "outputs": [],
   "source": []
  },
  {
   "cell_type": "code",
   "execution_count": 12,
   "metadata": {},
   "outputs": [
    {
     "data": {
      "image/png": "[encoded data removed]",
      "text/plain": [
       "<Figure size 864x504 with 1 Axes>"
      ]
     },
     "metadata": {
      "needs_background": "light"
     },
     "output_type": "display_data"
    }
   ],
   "source": [
    "#estimate Gaussian kernel density estimators\n",
    "p=stats.gaussian_kde(purchase)\n",
    "nonp=stats.gaussian_kde(nonpurchase)\n",
    "ind = np.linspace(-.2,1,10000)\n",
    "kdepdf = p.evaluate(ind)\n",
    "nonpkdepdf = nonp.evaluate(ind)\n",
    "plt.figure(figsize=(12,7))\n",
    "# plot estimated density\n",
    "plt.plot(ind, kdepdf, label='kde purchased', color=\"g\")\n",
    "plt.plot(ind, nonpkdepdf , label='kde nonpurchased', color=\"r\")\n",
    "plt.title('Purchased (green) vs. Non-Purchased (red)')\n",
    "plt.legend()\n",
    "plt.show()"
   ]
  },
  {
   "cell_type": "code",
   "execution_count": 17,
   "metadata": {},
   "outputs": [
    {
     "data": {
      "image/png": "[encoded data removed]",
      "text/plain": [
       "<Figure size 864x504 with 1 Axes>"
      ]
     },
     "metadata": {
      "needs_background": "light"
     },
     "output_type": "display_data"
    }
   ],
   "source": [
    "#plot fitted probabilities against true values\n",
    "import matplotlib.pyplot as plt\n",
    "pred=logreg1.predict()\n",
    "t = np.linspace(0,1,352)\n",
    "plt.figure(figsize=(12,7))\n",
    "plt.plot(t, pred, 'bo')\n",
    "plt.plot(t, rawdata['Choice'], 'go')\n",
    "plt.show()"
   ]
  },
  {
   "cell_type": "code",
   "execution_count": 18,
   "metadata": {},
   "outputs": [
    {
     "data": {
      "text/plain": [
       "array([[249,  15],\n",
       "       [ 65,  23]])"
      ]
     },
     "execution_count": 18,
     "metadata": {},
     "output_type": "execute_result"
    }
   ],
   "source": [
    "confusion_matrix(rawdata['Choice'],rawdata['fittedvalues'].round())"
   ]
  },
  {
   "cell_type": "code",
   "execution_count": 21,
   "metadata": {},
   "outputs": [],
   "source": [
    "threshold=0.25\n",
    "rawdata['classified']=(rawdata['fittedvalues']>threshold)*1"
   ]
  },
  {
   "cell_type": "code",
   "execution_count": 22,
   "metadata": {},
   "outputs": [
    {
     "data": {
      "text/html": [
       "<div>\n",
       "<style scoped>\n",
       "    .dataframe tbody tr th:only-of-type {\n",
       "        vertical-align: middle;\n",
       "    }\n",
       "\n",
       "    .dataframe tbody tr th {\n",
       "        vertical-align: top;\n",
       "    }\n",
       "\n",
       "    .dataframe thead th {\n",
       "        text-align: right;\n",
       "    }\n",
       "</style>\n",
       "<table border=\"1\" class=\"dataframe\">\n",
       "  <thead>\n",
       "    <tr style=\"text-align: right;\">\n",
       "      <th></th>\n",
       "      <th>Choice</th>\n",
       "      <th>Price</th>\n",
       "      <th>Energy</th>\n",
       "      <th>Maintenance</th>\n",
       "      <th>Warranty</th>\n",
       "      <th>Spare</th>\n",
       "      <th>Install</th>\n",
       "      <th>Solver</th>\n",
       "      <th>Quality</th>\n",
       "      <th>fittedvalues</th>\n",
       "      <th>classified</th>\n",
       "    </tr>\n",
       "  </thead>\n",
       "  <tbody>\n",
       "    <tr>\n",
       "      <th>0</th>\n",
       "      <td>0</td>\n",
       "      <td>6</td>\n",
       "      <td>6</td>\n",
       "      <td>7</td>\n",
       "      <td>6</td>\n",
       "      <td>6</td>\n",
       "      <td>5</td>\n",
       "      <td>7</td>\n",
       "      <td>5</td>\n",
       "      <td>0.415791</td>\n",
       "      <td>1</td>\n",
       "    </tr>\n",
       "    <tr>\n",
       "      <th>1</th>\n",
       "      <td>1</td>\n",
       "      <td>6</td>\n",
       "      <td>6</td>\n",
       "      <td>6</td>\n",
       "      <td>7</td>\n",
       "      <td>9</td>\n",
       "      <td>9</td>\n",
       "      <td>7</td>\n",
       "      <td>5</td>\n",
       "      <td>0.589753</td>\n",
       "      <td>1</td>\n",
       "    </tr>\n",
       "    <tr>\n",
       "      <th>2</th>\n",
       "      <td>0</td>\n",
       "      <td>6</td>\n",
       "      <td>5</td>\n",
       "      <td>7</td>\n",
       "      <td>5</td>\n",
       "      <td>3</td>\n",
       "      <td>4</td>\n",
       "      <td>7</td>\n",
       "      <td>6</td>\n",
       "      <td>0.308819</td>\n",
       "      <td>1</td>\n",
       "    </tr>\n",
       "    <tr>\n",
       "      <th>3</th>\n",
       "      <td>0</td>\n",
       "      <td>5</td>\n",
       "      <td>5</td>\n",
       "      <td>6</td>\n",
       "      <td>7</td>\n",
       "      <td>8</td>\n",
       "      <td>2</td>\n",
       "      <td>6</td>\n",
       "      <td>5</td>\n",
       "      <td>0.256935</td>\n",
       "      <td>1</td>\n",
       "    </tr>\n",
       "    <tr>\n",
       "      <th>4</th>\n",
       "      <td>0</td>\n",
       "      <td>3</td>\n",
       "      <td>4</td>\n",
       "      <td>5</td>\n",
       "      <td>4</td>\n",
       "      <td>4</td>\n",
       "      <td>5</td>\n",
       "      <td>6</td>\n",
       "      <td>4</td>\n",
       "      <td>0.078586</td>\n",
       "      <td>0</td>\n",
       "    </tr>\n",
       "  </tbody>\n",
       "</table>\n",
       "</div>"
      ],
      "text/plain": [
       "   Choice  Price  Energy  Maintenance  Warranty  Spare  Install  Solver  \\\n",
       "0       0      6       6            7         6      6        5       7   \n",
       "1       1      6       6            6         7      9        9       7   \n",
       "2       0      6       5            7         5      3        4       7   \n",
       "3       0      5       5            6         7      8        2       6   \n",
       "4       0      3       4            5         4      4        5       6   \n",
       "\n",
       "   Quality  fittedvalues  classified  \n",
       "0        5      0.415791           1  \n",
       "1        5      0.589753           1  \n",
       "2        6      0.308819           1  \n",
       "3        5      0.256935           1  \n",
       "4        4      0.078586           0  "
      ]
     },
     "execution_count": 22,
     "metadata": {},
     "output_type": "execute_result"
    }
   ],
   "source": [
    "rawdata.head()"
   ]
  },
  {
   "cell_type": "code",
   "execution_count": 23,
   "metadata": {},
   "outputs": [
    {
     "data": {
      "text/plain": [
       "array([[176,  88],\n",
       "       [ 27,  61]])"
      ]
     },
     "execution_count": 23,
     "metadata": {},
     "output_type": "execute_result"
    }
   ],
   "source": [
    "#you can do this to try but makes not much sense to me\n",
    "confusion_matrix(rawdata['Choice'],rawdata['classified'].round())"
   ]
  },
  {
   "cell_type": "code",
   "execution_count": 36,
   "metadata": {},
   "outputs": [
    {
     "data": {
      "text/plain": [
       "array([[176,  88],\n",
       "       [ 27,  61]])"
      ]
     },
     "execution_count": 36,
     "metadata": {},
     "output_type": "execute_result"
    }
   ],
   "source": [
    "#Decide the cutoff and make the confusion matrix\n",
    "#threshold=0.001\n",
    "threshold=0.25\n",
    "rawdata['classified']=(rawdata['fittedvalues']>threshold)*1\n",
    "confusion_matrix(rawdata['Choice'],rawdata['classified']) # True (0-1) / Predicted (0-1)"
   ]
  },
  {
   "cell_type": "code",
   "execution_count": 37,
   "metadata": {},
   "outputs": [
    {
     "data": {
      "text/plain": [
       "array([[176,  27],\n",
       "       [ 88,  61]])"
      ]
     },
     "execution_count": 37,
     "metadata": {},
     "output_type": "execute_result"
    }
   ],
   "source": [
    "#threshold=0.001\n",
    "threshold=0.25\n",
    "rawdata['classified']=(rawdata['fittedvalues']>threshold)*1\n",
    "confusion_matrix(rawdata['classified'],rawdata['Choice']) #Predicted / True (as in slides)"
   ]
  },
  {
   "cell_type": "code",
   "execution_count": 47,
   "metadata": {},
   "outputs": [
    {
     "data": {
      "text/plain": [
       "67.32954545454545"
      ]
     },
     "execution_count": 47,
     "metadata": {},
     "output_type": "execute_result"
    }
   ],
   "source": [
    "mconf=confusion_matrix(rawdata['classified'],rawdata['Choice']) #Predicted / True\n",
    "hitrate = (mconf[0,0]+mconf[1,1])/sum(sum(mconf))\n",
    "hitrate*100"
   ]
  },
  {
   "cell_type": "code",
   "execution_count": 49,
   "metadata": {},
   "outputs": [
    {
     "data": {
      "text/html": [
       "<div>\n",
       "<style scoped>\n",
       "    .dataframe tbody tr th:only-of-type {\n",
       "        vertical-align: middle;\n",
       "    }\n",
       "\n",
       "    .dataframe tbody tr th {\n",
       "        vertical-align: top;\n",
       "    }\n",
       "\n",
       "    .dataframe thead th {\n",
       "        text-align: right;\n",
       "    }\n",
       "</style>\n",
       "<table border=\"1\" class=\"dataframe\">\n",
       "  <thead>\n",
       "    <tr style=\"text-align: right;\">\n",
       "      <th></th>\n",
       "      <th>Choice</th>\n",
       "      <th>Price</th>\n",
       "      <th>Energy</th>\n",
       "      <th>Maintenance</th>\n",
       "      <th>Warranty</th>\n",
       "      <th>Spare</th>\n",
       "      <th>Install</th>\n",
       "      <th>Solver</th>\n",
       "      <th>Quality</th>\n",
       "      <th>fittedvalues</th>\n",
       "      <th>classified</th>\n",
       "      <th>naive</th>\n",
       "    </tr>\n",
       "  </thead>\n",
       "  <tbody>\n",
       "    <tr>\n",
       "      <th>0</th>\n",
       "      <td>0</td>\n",
       "      <td>6</td>\n",
       "      <td>6</td>\n",
       "      <td>7</td>\n",
       "      <td>6</td>\n",
       "      <td>6</td>\n",
       "      <td>5</td>\n",
       "      <td>7</td>\n",
       "      <td>5</td>\n",
       "      <td>0.415791</td>\n",
       "      <td>1</td>\n",
       "      <td>0</td>\n",
       "    </tr>\n",
       "    <tr>\n",
       "      <th>1</th>\n",
       "      <td>1</td>\n",
       "      <td>6</td>\n",
       "      <td>6</td>\n",
       "      <td>6</td>\n",
       "      <td>7</td>\n",
       "      <td>9</td>\n",
       "      <td>9</td>\n",
       "      <td>7</td>\n",
       "      <td>5</td>\n",
       "      <td>0.589753</td>\n",
       "      <td>1</td>\n",
       "      <td>0</td>\n",
       "    </tr>\n",
       "    <tr>\n",
       "      <th>2</th>\n",
       "      <td>0</td>\n",
       "      <td>6</td>\n",
       "      <td>5</td>\n",
       "      <td>7</td>\n",
       "      <td>5</td>\n",
       "      <td>3</td>\n",
       "      <td>4</td>\n",
       "      <td>7</td>\n",
       "      <td>6</td>\n",
       "      <td>0.308819</td>\n",
       "      <td>1</td>\n",
       "      <td>0</td>\n",
       "    </tr>\n",
       "    <tr>\n",
       "      <th>3</th>\n",
       "      <td>0</td>\n",
       "      <td>5</td>\n",
       "      <td>5</td>\n",
       "      <td>6</td>\n",
       "      <td>7</td>\n",
       "      <td>8</td>\n",
       "      <td>2</td>\n",
       "      <td>6</td>\n",
       "      <td>5</td>\n",
       "      <td>0.256935</td>\n",
       "      <td>1</td>\n",
       "      <td>0</td>\n",
       "    </tr>\n",
       "    <tr>\n",
       "      <th>4</th>\n",
       "      <td>0</td>\n",
       "      <td>3</td>\n",
       "      <td>4</td>\n",
       "      <td>5</td>\n",
       "      <td>4</td>\n",
       "      <td>4</td>\n",
       "      <td>5</td>\n",
       "      <td>6</td>\n",
       "      <td>4</td>\n",
       "      <td>0.078586</td>\n",
       "      <td>0</td>\n",
       "      <td>0</td>\n",
       "    </tr>\n",
       "  </tbody>\n",
       "</table>\n",
       "</div>"
      ],
      "text/plain": [
       "   Choice  Price  Energy  Maintenance  Warranty  Spare  Install  Solver  \\\n",
       "0       0      6       6            7         6      6        5       7   \n",
       "1       1      6       6            6         7      9        9       7   \n",
       "2       0      6       5            7         5      3        4       7   \n",
       "3       0      5       5            6         7      8        2       6   \n",
       "4       0      3       4            5         4      4        5       6   \n",
       "\n",
       "   Quality  fittedvalues  classified  naive  \n",
       "0        5      0.415791           1      0  \n",
       "1        5      0.589753           1      0  \n",
       "2        6      0.308819           1      0  \n",
       "3        5      0.256935           1      0  \n",
       "4        4      0.078586           0      0  "
      ]
     },
     "execution_count": 49,
     "metadata": {},
     "output_type": "execute_result"
    }
   ],
   "source": [
    "#what happens is we classify all = 0 \n",
    "rawdata['naive']= 0\n",
    "rawdata.head()"
   ]
  },
  {
   "cell_type": "code",
   "execution_count": 50,
   "metadata": {},
   "outputs": [
    {
     "data": {
      "text/plain": [
       "array([[203,   0],\n",
       "       [149,   0]])"
      ]
     },
     "execution_count": 50,
     "metadata": {},
     "output_type": "execute_result"
    }
   ],
   "source": [
    "confusion_matrix(rawdata['classified'],rawdata['naive']) #Predicted / True (as in slides)"
   ]
  },
  {
   "cell_type": "code",
   "execution_count": 51,
   "metadata": {},
   "outputs": [
    {
     "data": {
      "text/plain": [
       "57.67045454545454"
      ]
     },
     "execution_count": 51,
     "metadata": {},
     "output_type": "execute_result"
    }
   ],
   "source": [
    "#reality check if all this stuff is worthile? It is.\n",
    "mconf=confusion_matrix(rawdata['classified'],rawdata['naive']) #Predicted / True (as in slides)\n",
    "hitrate = (mconf[0,0]+mconf[1,1])/sum(sum(mconf))\n",
    "hitrate*100"
   ]
  }
 ],
 "metadata": {
  "kernelspec": {
   "display_name": "Python 3",
   "language": "python",
   "name": "python3"
  },
  "language_info": {
   "codemirror_mode": {
    "name": "ipython",
    "version": 3
   },
   "file_extension": ".py",
   "mimetype": "text/x-python",
   "name": "python",
   "nbconvert_exporter": "python",
   "pygments_lexer": "ipython3",
   "version": "3.8.5"
  }
 },
 "nbformat": 4,
 "nbformat_minor": 2
}
