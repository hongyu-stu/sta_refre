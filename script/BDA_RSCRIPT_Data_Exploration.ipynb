{
 "cells": [
  {
   "cell_type": "code",
   "execution_count": 1,
   "metadata": {},
   "outputs": [],
   "source": [
    "from datetime import datetime\n",
    "import pandas as pd \n",
    "import statsmodels.api as sm\n",
    "import numpy as np\n",
    "import matplotlib.pyplot as plt\n",
    "from scipy.stats import norm\n",
    "import statsmodels.api as sm\n",
    "from scipy.optimize import minimize\n",
    "import scipy.stats\n",
    "from scipy import stats\n",
    "from sklearn.metrics import confusion_matrix\n",
    "import warnings\n",
    "import statsmodels.api as sm\n",
    "\n",
    "warnings.simplefilter('ignore')"
   ]
  },
  {
   "cell_type": "code",
   "execution_count": 2,
   "metadata": {},
   "outputs": [],
   "source": [
    "\n",
    "#################################\n",
    "#### PCA & ANOVA             ####\n",
    "#################################\n",
    "\n",
    "\n",
    "#rawdata=Blackberry\n",
    "\n",
    "rawdata=pd.read_csv('Blackberry.csv',sep=';')\n",
    "# Note that we can select only the numeric part of the data: rawdata[1:22,2:7]\n",
    "Brands=rawdata.iloc[0:22,1:7]\n",
    "# To access specific rows or columns, use [] after the variable name\n",
    "\n",
    "for i in range(0,len(Brands)):\n",
    "    Brands.rename(index={i:rawdata.iloc[i,0]}, inplace=True)\n"
   ]
  },
  {
   "cell_type": "code",
   "execution_count": 6,
   "metadata": {},
   "outputs": [
    {
     "data": {
      "text/html": [
       "<div>\n",
       "<style scoped>\n",
       "    .dataframe tbody tr th:only-of-type {\n",
       "        vertical-align: middle;\n",
       "    }\n",
       "\n",
       "    .dataframe tbody tr th {\n",
       "        vertical-align: top;\n",
       "    }\n",
       "\n",
       "    .dataframe thead th {\n",
       "        text-align: right;\n",
       "    }\n",
       "</style>\n",
       "<table border=\"1\" class=\"dataframe\">\n",
       "  <thead>\n",
       "    <tr style=\"text-align: right;\">\n",
       "      <th></th>\n",
       "      <th>RIM BlackBerry Pearl</th>\n",
       "      <th>Palm Treo 700p</th>\n",
       "      <th>Motorola Q</th>\n",
       "      <th>Nokia 9300</th>\n",
       "      <th>Sidekick3</th>\n",
       "      <th>Sony Ericsson M600i</th>\n",
       "    </tr>\n",
       "  </thead>\n",
       "  <tbody>\n",
       "    <tr>\n",
       "      <th>Push email availability</th>\n",
       "      <td>8.2</td>\n",
       "      <td>7.4</td>\n",
       "      <td>6.4</td>\n",
       "      <td>6.4</td>\n",
       "      <td>4.5</td>\n",
       "      <td>6.0</td>\n",
       "    </tr>\n",
       "    <tr>\n",
       "      <th>Email folders synchronization</th>\n",
       "      <td>8.0</td>\n",
       "      <td>7.1</td>\n",
       "      <td>6.3</td>\n",
       "      <td>6.4</td>\n",
       "      <td>1.2</td>\n",
       "      <td>6.2</td>\n",
       "    </tr>\n",
       "    <tr>\n",
       "      <th>Instant messaging availability</th>\n",
       "      <td>7.2</td>\n",
       "      <td>5.1</td>\n",
       "      <td>5.3</td>\n",
       "      <td>6.7</td>\n",
       "      <td>7.2</td>\n",
       "      <td>1.5</td>\n",
       "    </tr>\n",
       "    <tr>\n",
       "      <th>Speed in accessing email</th>\n",
       "      <td>6.4</td>\n",
       "      <td>6.5</td>\n",
       "      <td>8.0</td>\n",
       "      <td>6.3</td>\n",
       "      <td>6.2</td>\n",
       "      <td>8.1</td>\n",
       "    </tr>\n",
       "    <tr>\n",
       "      <th>Software selection</th>\n",
       "      <td>7.0</td>\n",
       "      <td>6.8</td>\n",
       "      <td>6.5</td>\n",
       "      <td>6.3</td>\n",
       "      <td>3.0</td>\n",
       "      <td>6.5</td>\n",
       "    </tr>\n",
       "    <tr>\n",
       "      <th>Display size</th>\n",
       "      <td>6.5</td>\n",
       "      <td>6.5</td>\n",
       "      <td>7.4</td>\n",
       "      <td>6.4</td>\n",
       "      <td>7.2</td>\n",
       "      <td>7.3</td>\n",
       "    </tr>\n",
       "    <tr>\n",
       "      <th>Ease of use for navigation</th>\n",
       "      <td>5.5</td>\n",
       "      <td>6.5</td>\n",
       "      <td>6.1</td>\n",
       "      <td>4.2</td>\n",
       "      <td>3.6</td>\n",
       "      <td>6.1</td>\n",
       "    </tr>\n",
       "    <tr>\n",
       "      <th>Ease of use for typing</th>\n",
       "      <td>5.7</td>\n",
       "      <td>6.2</td>\n",
       "      <td>7.4</td>\n",
       "      <td>4.5</td>\n",
       "      <td>6.8</td>\n",
       "      <td>5.0</td>\n",
       "    </tr>\n",
       "    <tr>\n",
       "      <th>Voice/call quality</th>\n",
       "      <td>5.6</td>\n",
       "      <td>8.0</td>\n",
       "      <td>4.8</td>\n",
       "      <td>7.8</td>\n",
       "      <td>6.3</td>\n",
       "      <td>8.0</td>\n",
       "    </tr>\n",
       "    <tr>\n",
       "      <th>Comfortable to call</th>\n",
       "      <td>7.4</td>\n",
       "      <td>6.9</td>\n",
       "      <td>6.1</td>\n",
       "      <td>4.2</td>\n",
       "      <td>3.1</td>\n",
       "      <td>5.2</td>\n",
       "    </tr>\n",
       "    <tr>\n",
       "      <th>User friendliness</th>\n",
       "      <td>6.6</td>\n",
       "      <td>7.2</td>\n",
       "      <td>7.3</td>\n",
       "      <td>4.1</td>\n",
       "      <td>4.0</td>\n",
       "      <td>6.0</td>\n",
       "    </tr>\n",
       "    <tr>\n",
       "      <th>Media quality</th>\n",
       "      <td>6.1</td>\n",
       "      <td>7.0</td>\n",
       "      <td>6.9</td>\n",
       "      <td>5.9</td>\n",
       "      <td>6.4</td>\n",
       "      <td>7.8</td>\n",
       "    </tr>\n",
       "    <tr>\n",
       "      <th>Camera quality</th>\n",
       "      <td>5.7</td>\n",
       "      <td>6.2</td>\n",
       "      <td>6.6</td>\n",
       "      <td>0.5</td>\n",
       "      <td>4.2</td>\n",
       "      <td>1.3</td>\n",
       "    </tr>\n",
       "    <tr>\n",
       "      <th>Compact</th>\n",
       "      <td>6.9</td>\n",
       "      <td>5.7</td>\n",
       "      <td>6.7</td>\n",
       "      <td>4.5</td>\n",
       "      <td>3.6</td>\n",
       "      <td>5.1</td>\n",
       "    </tr>\n",
       "    <tr>\n",
       "      <th>Quality of display</th>\n",
       "      <td>7.5</td>\n",
       "      <td>6.3</td>\n",
       "      <td>7.3</td>\n",
       "      <td>5.1</td>\n",
       "      <td>3.8</td>\n",
       "      <td>6.2</td>\n",
       "    </tr>\n",
       "    <tr>\n",
       "      <th>Finish</th>\n",
       "      <td>7.4</td>\n",
       "      <td>5.5</td>\n",
       "      <td>7.4</td>\n",
       "      <td>6.1</td>\n",
       "      <td>5.2</td>\n",
       "      <td>5.1</td>\n",
       "    </tr>\n",
       "    <tr>\n",
       "      <th>Product image</th>\n",
       "      <td>5.9</td>\n",
       "      <td>5.4</td>\n",
       "      <td>4.9</td>\n",
       "      <td>5.0</td>\n",
       "      <td>4.0</td>\n",
       "      <td>4.1</td>\n",
       "    </tr>\n",
       "    <tr>\n",
       "      <th>Brand image</th>\n",
       "      <td>8.6</td>\n",
       "      <td>8.5</td>\n",
       "      <td>7.2</td>\n",
       "      <td>6.5</td>\n",
       "      <td>3.0</td>\n",
       "      <td>4.5</td>\n",
       "    </tr>\n",
       "    <tr>\n",
       "      <th>High prestige</th>\n",
       "      <td>7.2</td>\n",
       "      <td>6.9</td>\n",
       "      <td>6.8</td>\n",
       "      <td>5.5</td>\n",
       "      <td>1.2</td>\n",
       "      <td>4.0</td>\n",
       "    </tr>\n",
       "    <tr>\n",
       "      <th>Value for money</th>\n",
       "      <td>6.0</td>\n",
       "      <td>5.4</td>\n",
       "      <td>4.2</td>\n",
       "      <td>4.6</td>\n",
       "      <td>5.3</td>\n",
       "      <td>4.0</td>\n",
       "    </tr>\n",
       "    <tr>\n",
       "      <th>Average user rating (CNET)</th>\n",
       "      <td>8.0</td>\n",
       "      <td>7.5</td>\n",
       "      <td>6.2</td>\n",
       "      <td>7.3</td>\n",
       "      <td>6.3</td>\n",
       "      <td>6.4</td>\n",
       "    </tr>\n",
       "    <tr>\n",
       "      <th>CNET Editor_s rating</th>\n",
       "      <td>7.3</td>\n",
       "      <td>7.7</td>\n",
       "      <td>8.0</td>\n",
       "      <td>6.3</td>\n",
       "      <td>7.3</td>\n",
       "      <td>7.7</td>\n",
       "    </tr>\n",
       "  </tbody>\n",
       "</table>\n",
       "</div>"
      ],
      "text/plain": [
       "                                RIM BlackBerry Pearl  Palm Treo 700p  \\\n",
       "Push email availability                          8.2             7.4   \n",
       "Email folders synchronization                    8.0             7.1   \n",
       "Instant messaging availability                   7.2             5.1   \n",
       "Speed in accessing email                         6.4             6.5   \n",
       "Software selection                               7.0             6.8   \n",
       "Display size                                     6.5             6.5   \n",
       "Ease of use for navigation                       5.5             6.5   \n",
       "Ease of use for typing                           5.7             6.2   \n",
       "Voice/call quality                               5.6             8.0   \n",
       "Comfortable to call                              7.4             6.9   \n",
       "User friendliness                                6.6             7.2   \n",
       "Media quality                                    6.1             7.0   \n",
       "Camera quality                                   5.7             6.2   \n",
       "Compact                                          6.9             5.7   \n",
       "Quality of display                               7.5             6.3   \n",
       "Finish                                           7.4             5.5   \n",
       "Product image                                    5.9             5.4   \n",
       "Brand image                                      8.6             8.5   \n",
       "High prestige                                    7.2             6.9   \n",
       "Value for money                                  6.0             5.4   \n",
       "Average user rating (CNET)                       8.0             7.5   \n",
       "CNET Editor_s rating                             7.3             7.7   \n",
       "\n",
       "                                Motorola Q  Nokia 9300  Sidekick3  \\\n",
       "Push email availability                6.4         6.4        4.5   \n",
       "Email folders synchronization          6.3         6.4        1.2   \n",
       "Instant messaging availability         5.3         6.7        7.2   \n",
       "Speed in accessing email               8.0         6.3        6.2   \n",
       "Software selection                     6.5         6.3        3.0   \n",
       "Display size                           7.4         6.4        7.2   \n",
       "Ease of use for navigation             6.1         4.2        3.6   \n",
       "Ease of use for typing                 7.4         4.5        6.8   \n",
       "Voice/call quality                     4.8         7.8        6.3   \n",
       "Comfortable to call                    6.1         4.2        3.1   \n",
       "User friendliness                      7.3         4.1        4.0   \n",
       "Media quality                          6.9         5.9        6.4   \n",
       "Camera quality                         6.6         0.5        4.2   \n",
       "Compact                                6.7         4.5        3.6   \n",
       "Quality of display                     7.3         5.1        3.8   \n",
       "Finish                                 7.4         6.1        5.2   \n",
       "Product image                          4.9         5.0        4.0   \n",
       "Brand image                            7.2         6.5        3.0   \n",
       "High prestige                          6.8         5.5        1.2   \n",
       "Value for money                        4.2         4.6        5.3   \n",
       "Average user rating (CNET)             6.2         7.3        6.3   \n",
       "CNET Editor_s rating                   8.0         6.3        7.3   \n",
       "\n",
       "                                Sony Ericsson M600i  \n",
       "Push email availability                         6.0  \n",
       "Email folders synchronization                   6.2  \n",
       "Instant messaging availability                  1.5  \n",
       "Speed in accessing email                        8.1  \n",
       "Software selection                              6.5  \n",
       "Display size                                    7.3  \n",
       "Ease of use for navigation                      6.1  \n",
       "Ease of use for typing                          5.0  \n",
       "Voice/call quality                              8.0  \n",
       "Comfortable to call                             5.2  \n",
       "User friendliness                               6.0  \n",
       "Media quality                                   7.8  \n",
       "Camera quality                                  1.3  \n",
       "Compact                                         5.1  \n",
       "Quality of display                              6.2  \n",
       "Finish                                          5.1  \n",
       "Product image                                   4.1  \n",
       "Brand image                                     4.5  \n",
       "High prestige                                   4.0  \n",
       "Value for money                                 4.0  \n",
       "Average user rating (CNET)                      6.4  \n",
       "CNET Editor_s rating                            7.7  "
      ]
     },
     "execution_count": 6,
     "metadata": {},
     "output_type": "execute_result"
    }
   ],
   "source": [
    "Brands"
   ]
  },
  {
   "cell_type": "code",
   "execution_count": 16,
   "metadata": {},
   "outputs": [],
   "source": [
    "# To transpose a matrix, use the t() command\n",
    "corBrands=Brands.transpose()\n",
    "tBrands=Brands.transpose()\n",
    " # Cor() computes a correlation matrix\n",
    "corBrands=corBrands.corr()"
   ]
  },
  {
   "cell_type": "code",
   "execution_count": 5,
   "metadata": {},
   "outputs": [
    {
     "data": {
      "text/html": [
       "<div>\n",
       "<style scoped>\n",
       "    .dataframe tbody tr th:only-of-type {\n",
       "        vertical-align: middle;\n",
       "    }\n",
       "\n",
       "    .dataframe tbody tr th {\n",
       "        vertical-align: top;\n",
       "    }\n",
       "\n",
       "    .dataframe thead th {\n",
       "        text-align: right;\n",
       "    }\n",
       "</style>\n",
       "<table border=\"1\" class=\"dataframe\">\n",
       "  <thead>\n",
       "    <tr style=\"text-align: right;\">\n",
       "      <th></th>\n",
       "      <th>Push email availability</th>\n",
       "      <th>Email folders synchronization</th>\n",
       "      <th>Instant messaging availability</th>\n",
       "      <th>Speed in accessing email</th>\n",
       "      <th>Software selection</th>\n",
       "      <th>Display size</th>\n",
       "      <th>Ease of use for navigation</th>\n",
       "      <th>Ease of use for typing</th>\n",
       "      <th>Voice/call quality</th>\n",
       "      <th>Comfortable to call</th>\n",
       "      <th>...</th>\n",
       "      <th>Camera quality</th>\n",
       "      <th>Compact</th>\n",
       "      <th>Quality of display</th>\n",
       "      <th>Finish</th>\n",
       "      <th>Product image</th>\n",
       "      <th>Brand image</th>\n",
       "      <th>High prestige</th>\n",
       "      <th>Value for money</th>\n",
       "      <th>Average user rating (CNET)</th>\n",
       "      <th>CNET Editor_s rating</th>\n",
       "    </tr>\n",
       "  </thead>\n",
       "  <tbody>\n",
       "    <tr>\n",
       "      <th>Push email availability</th>\n",
       "      <td>1.000000</td>\n",
       "      <td>0.917257</td>\n",
       "      <td>0.075398</td>\n",
       "      <td>-0.082130</td>\n",
       "      <td>0.855454</td>\n",
       "      <td>-0.631210</td>\n",
       "      <td>0.602630</td>\n",
       "      <td>-0.207137</td>\n",
       "      <td>-0.053291</td>\n",
       "      <td>0.917833</td>\n",
       "      <td>...</td>\n",
       "      <td>0.359414</td>\n",
       "      <td>0.809606</td>\n",
       "      <td>0.805137</td>\n",
       "      <td>0.577770</td>\n",
       "      <td>0.933874</td>\n",
       "      <td>0.940208</td>\n",
       "      <td>0.910716</td>\n",
       "      <td>0.423129</td>\n",
       "      <td>0.822403</td>\n",
       "      <td>0.052836</td>\n",
       "    </tr>\n",
       "    <tr>\n",
       "      <th>Email folders synchronization</th>\n",
       "      <td>0.917257</td>\n",
       "      <td>1.000000</td>\n",
       "      <td>-0.216235</td>\n",
       "      <td>0.214703</td>\n",
       "      <td>0.988556</td>\n",
       "      <td>-0.483235</td>\n",
       "      <td>0.706815</td>\n",
       "      <td>-0.357660</td>\n",
       "      <td>0.080084</td>\n",
       "      <td>0.840441</td>\n",
       "      <td>...</td>\n",
       "      <td>0.121094</td>\n",
       "      <td>0.784347</td>\n",
       "      <td>0.841620</td>\n",
       "      <td>0.514590</td>\n",
       "      <td>0.767680</td>\n",
       "      <td>0.858371</td>\n",
       "      <td>0.920526</td>\n",
       "      <td>0.036041</td>\n",
       "      <td>0.629296</td>\n",
       "      <td>0.055941</td>\n",
       "    </tr>\n",
       "    <tr>\n",
       "      <th>Instant messaging availability</th>\n",
       "      <td>0.075398</td>\n",
       "      <td>-0.216235</td>\n",
       "      <td>1.000000</td>\n",
       "      <td>-0.796463</td>\n",
       "      <td>-0.336699</td>\n",
       "      <td>-0.461812</td>\n",
       "      <td>-0.608569</td>\n",
       "      <td>0.227813</td>\n",
       "      <td>-0.439194</td>\n",
       "      <td>-0.106417</td>\n",
       "      <td>...</td>\n",
       "      <td>0.298616</td>\n",
       "      <td>-0.055671</td>\n",
       "      <td>-0.228740</td>\n",
       "      <td>0.408800</td>\n",
       "      <td>0.413096</td>\n",
       "      <td>0.193148</td>\n",
       "      <td>0.030249</td>\n",
       "      <td>0.682650</td>\n",
       "      <td>0.397805</td>\n",
       "      <td>-0.481711</td>\n",
       "    </tr>\n",
       "    <tr>\n",
       "      <th>Speed in accessing email</th>\n",
       "      <td>-0.082130</td>\n",
       "      <td>0.214703</td>\n",
       "      <td>-0.796463</td>\n",
       "      <td>1.000000</td>\n",
       "      <td>0.339396</td>\n",
       "      <td>0.725106</td>\n",
       "      <td>0.600272</td>\n",
       "      <td>0.156866</td>\n",
       "      <td>-0.144821</td>\n",
       "      <td>0.172519</td>\n",
       "      <td>...</td>\n",
       "      <td>-0.013730</td>\n",
       "      <td>0.353676</td>\n",
       "      <td>0.466885</td>\n",
       "      <td>0.096277</td>\n",
       "      <td>-0.334515</td>\n",
       "      <td>-0.102880</td>\n",
       "      <td>0.122114</td>\n",
       "      <td>-0.787903</td>\n",
       "      <td>-0.598447</td>\n",
       "      <td>0.639679</td>\n",
       "    </tr>\n",
       "    <tr>\n",
       "      <th>Software selection</th>\n",
       "      <td>0.855454</td>\n",
       "      <td>0.988556</td>\n",
       "      <td>-0.336699</td>\n",
       "      <td>0.339396</td>\n",
       "      <td>1.000000</td>\n",
       "      <td>-0.380640</td>\n",
       "      <td>0.766816</td>\n",
       "      <td>-0.340430</td>\n",
       "      <td>0.112474</td>\n",
       "      <td>0.811687</td>\n",
       "      <td>...</td>\n",
       "      <td>0.089614</td>\n",
       "      <td>0.769387</td>\n",
       "      <td>0.844234</td>\n",
       "      <td>0.464761</td>\n",
       "      <td>0.676697</td>\n",
       "      <td>0.808337</td>\n",
       "      <td>0.899219</td>\n",
       "      <td>-0.101802</td>\n",
       "      <td>0.514934</td>\n",
       "      <td>0.126049</td>\n",
       "    </tr>\n",
       "    <tr>\n",
       "      <th>Display size</th>\n",
       "      <td>-0.631210</td>\n",
       "      <td>-0.483235</td>\n",
       "      <td>-0.461812</td>\n",
       "      <td>0.725106</td>\n",
       "      <td>-0.380640</td>\n",
       "      <td>1.000000</td>\n",
       "      <td>0.075146</td>\n",
       "      <td>0.524730</td>\n",
       "      <td>-0.367764</td>\n",
       "      <td>-0.319428</td>\n",
       "      <td>...</td>\n",
       "      <td>0.079334</td>\n",
       "      <td>-0.094220</td>\n",
       "      <td>-0.061051</td>\n",
       "      <td>-0.122537</td>\n",
       "      <td>-0.729963</td>\n",
       "      <td>-0.609010</td>\n",
       "      <td>-0.466508</td>\n",
       "      <td>-0.601501</td>\n",
       "      <td>-0.925513</td>\n",
       "      <td>0.624483</td>\n",
       "    </tr>\n",
       "    <tr>\n",
       "      <th>Ease of use for navigation</th>\n",
       "      <td>0.602630</td>\n",
       "      <td>0.706815</td>\n",
       "      <td>-0.608569</td>\n",
       "      <td>0.600272</td>\n",
       "      <td>0.766816</td>\n",
       "      <td>0.075146</td>\n",
       "      <td>1.000000</td>\n",
       "      <td>0.125766</td>\n",
       "      <td>0.039544</td>\n",
       "      <td>0.813258</td>\n",
       "      <td>...</td>\n",
       "      <td>0.418655</td>\n",
       "      <td>0.735989</td>\n",
       "      <td>0.806883</td>\n",
       "      <td>0.211901</td>\n",
       "      <td>0.367511</td>\n",
       "      <td>0.591527</td>\n",
       "      <td>0.678136</td>\n",
       "      <td>-0.179124</td>\n",
       "      <td>0.125220</td>\n",
       "      <td>0.701859</td>\n",
       "    </tr>\n",
       "    <tr>\n",
       "      <th>Ease of use for typing</th>\n",
       "      <td>-0.207137</td>\n",
       "      <td>-0.357660</td>\n",
       "      <td>0.227813</td>\n",
       "      <td>0.156866</td>\n",
       "      <td>-0.340430</td>\n",
       "      <td>0.524730</td>\n",
       "      <td>0.125766</td>\n",
       "      <td>1.000000</td>\n",
       "      <td>-0.705369</td>\n",
       "      <td>0.097531</td>\n",
       "      <td>...</td>\n",
       "      <td>0.822963</td>\n",
       "      <td>0.236134</td>\n",
       "      <td>0.109586</td>\n",
       "      <td>0.277813</td>\n",
       "      <td>-0.068901</td>\n",
       "      <td>-0.007913</td>\n",
       "      <td>-0.034998</td>\n",
       "      <td>0.110272</td>\n",
       "      <td>-0.427483</td>\n",
       "      <td>0.675993</td>\n",
       "    </tr>\n",
       "    <tr>\n",
       "      <th>Voice/call quality</th>\n",
       "      <td>-0.053291</td>\n",
       "      <td>0.080084</td>\n",
       "      <td>-0.439194</td>\n",
       "      <td>-0.144821</td>\n",
       "      <td>0.112474</td>\n",
       "      <td>-0.367764</td>\n",
       "      <td>0.039544</td>\n",
       "      <td>-0.705369</td>\n",
       "      <td>1.000000</td>\n",
       "      <td>-0.199662</td>\n",
       "      <td>...</td>\n",
       "      <td>-0.633053</td>\n",
       "      <td>-0.497481</td>\n",
       "      <td>-0.372645</td>\n",
       "      <td>-0.772549</td>\n",
       "      <td>-0.199526</td>\n",
       "      <td>-0.142472</td>\n",
       "      <td>-0.166999</td>\n",
       "      <td>-0.166934</td>\n",
       "      <td>0.176428</td>\n",
       "      <td>-0.344238</td>\n",
       "    </tr>\n",
       "    <tr>\n",
       "      <th>Comfortable to call</th>\n",
       "      <td>0.917833</td>\n",
       "      <td>0.840441</td>\n",
       "      <td>-0.106417</td>\n",
       "      <td>0.172519</td>\n",
       "      <td>0.811687</td>\n",
       "      <td>-0.319428</td>\n",
       "      <td>0.813258</td>\n",
       "      <td>0.097531</td>\n",
       "      <td>-0.199662</td>\n",
       "      <td>1.000000</td>\n",
       "      <td>...</td>\n",
       "      <td>0.595959</td>\n",
       "      <td>0.918286</td>\n",
       "      <td>0.913057</td>\n",
       "      <td>0.563559</td>\n",
       "      <td>0.806069</td>\n",
       "      <td>0.881558</td>\n",
       "      <td>0.877378</td>\n",
       "      <td>0.325462</td>\n",
       "      <td>0.582228</td>\n",
       "      <td>0.444311</td>\n",
       "    </tr>\n",
       "    <tr>\n",
       "      <th>User friendliness</th>\n",
       "      <td>0.656737</td>\n",
       "      <td>0.658565</td>\n",
       "      <td>-0.336539</td>\n",
       "      <td>0.488699</td>\n",
       "      <td>0.688856</td>\n",
       "      <td>0.077813</td>\n",
       "      <td>0.935109</td>\n",
       "      <td>0.380308</td>\n",
       "      <td>-0.275150</td>\n",
       "      <td>0.892226</td>\n",
       "      <td>...</td>\n",
       "      <td>0.690578</td>\n",
       "      <td>0.873070</td>\n",
       "      <td>0.879338</td>\n",
       "      <td>0.456258</td>\n",
       "      <td>0.512537</td>\n",
       "      <td>0.691335</td>\n",
       "      <td>0.743793</td>\n",
       "      <td>0.023185</td>\n",
       "      <td>0.170773</td>\n",
       "      <td>0.761310</td>\n",
       "    </tr>\n",
       "    <tr>\n",
       "      <th>Media quality</th>\n",
       "      <td>-0.145872</td>\n",
       "      <td>0.062179</td>\n",
       "      <td>-0.934849</td>\n",
       "      <td>0.782830</td>\n",
       "      <td>0.182252</td>\n",
       "      <td>0.601198</td>\n",
       "      <td>0.655312</td>\n",
       "      <td>0.098189</td>\n",
       "      <td>0.279224</td>\n",
       "      <td>0.144842</td>\n",
       "      <td>...</td>\n",
       "      <td>-0.006784</td>\n",
       "      <td>0.085697</td>\n",
       "      <td>0.216884</td>\n",
       "      <td>-0.416373</td>\n",
       "      <td>-0.445178</td>\n",
       "      <td>-0.215538</td>\n",
       "      <td>-0.089408</td>\n",
       "      <td>-0.561759</td>\n",
       "      <td>-0.499134</td>\n",
       "      <td>0.727882</td>\n",
       "    </tr>\n",
       "    <tr>\n",
       "      <th>Camera quality</th>\n",
       "      <td>0.359414</td>\n",
       "      <td>0.121094</td>\n",
       "      <td>0.298616</td>\n",
       "      <td>-0.013730</td>\n",
       "      <td>0.089614</td>\n",
       "      <td>0.079334</td>\n",
       "      <td>0.418655</td>\n",
       "      <td>0.822963</td>\n",
       "      <td>-0.633053</td>\n",
       "      <td>0.595959</td>\n",
       "      <td>...</td>\n",
       "      <td>1.000000</td>\n",
       "      <td>0.610705</td>\n",
       "      <td>0.480920</td>\n",
       "      <td>0.493554</td>\n",
       "      <td>0.462326</td>\n",
       "      <td>0.498116</td>\n",
       "      <td>0.417920</td>\n",
       "      <td>0.464696</td>\n",
       "      <td>0.120054</td>\n",
       "      <td>0.654665</td>\n",
       "    </tr>\n",
       "    <tr>\n",
       "      <th>Compact</th>\n",
       "      <td>0.809606</td>\n",
       "      <td>0.784347</td>\n",
       "      <td>-0.055671</td>\n",
       "      <td>0.353676</td>\n",
       "      <td>0.769387</td>\n",
       "      <td>-0.094220</td>\n",
       "      <td>0.735989</td>\n",
       "      <td>0.236134</td>\n",
       "      <td>-0.497481</td>\n",
       "      <td>0.918286</td>\n",
       "      <td>...</td>\n",
       "      <td>0.610705</td>\n",
       "      <td>1.000000</td>\n",
       "      <td>0.980833</td>\n",
       "      <td>0.798913</td>\n",
       "      <td>0.727478</td>\n",
       "      <td>0.808661</td>\n",
       "      <td>0.867597</td>\n",
       "      <td>0.142892</td>\n",
       "      <td>0.372248</td>\n",
       "      <td>0.474052</td>\n",
       "    </tr>\n",
       "    <tr>\n",
       "      <th>Quality of display</th>\n",
       "      <td>0.805137</td>\n",
       "      <td>0.841620</td>\n",
       "      <td>-0.228740</td>\n",
       "      <td>0.466885</td>\n",
       "      <td>0.844234</td>\n",
       "      <td>-0.061051</td>\n",
       "      <td>0.806883</td>\n",
       "      <td>0.109586</td>\n",
       "      <td>-0.372645</td>\n",
       "      <td>0.913057</td>\n",
       "      <td>...</td>\n",
       "      <td>0.480920</td>\n",
       "      <td>0.980833</td>\n",
       "      <td>1.000000</td>\n",
       "      <td>0.713328</td>\n",
       "      <td>0.659644</td>\n",
       "      <td>0.767946</td>\n",
       "      <td>0.857002</td>\n",
       "      <td>0.017883</td>\n",
       "      <td>0.338493</td>\n",
       "      <td>0.480965</td>\n",
       "    </tr>\n",
       "    <tr>\n",
       "      <th>Finish</th>\n",
       "      <td>0.577770</td>\n",
       "      <td>0.514590</td>\n",
       "      <td>0.408800</td>\n",
       "      <td>0.096277</td>\n",
       "      <td>0.464761</td>\n",
       "      <td>-0.122537</td>\n",
       "      <td>0.211901</td>\n",
       "      <td>0.277813</td>\n",
       "      <td>-0.772549</td>\n",
       "      <td>0.563559</td>\n",
       "      <td>...</td>\n",
       "      <td>0.493554</td>\n",
       "      <td>0.798913</td>\n",
       "      <td>0.713328</td>\n",
       "      <td>1.000000</td>\n",
       "      <td>0.673729</td>\n",
       "      <td>0.644562</td>\n",
       "      <td>0.691258</td>\n",
       "      <td>0.185616</td>\n",
       "      <td>0.302376</td>\n",
       "      <td>0.083538</td>\n",
       "    </tr>\n",
       "    <tr>\n",
       "      <th>Product image</th>\n",
       "      <td>0.933874</td>\n",
       "      <td>0.767680</td>\n",
       "      <td>0.413096</td>\n",
       "      <td>-0.334515</td>\n",
       "      <td>0.676697</td>\n",
       "      <td>-0.729963</td>\n",
       "      <td>0.367511</td>\n",
       "      <td>-0.068901</td>\n",
       "      <td>-0.199526</td>\n",
       "      <td>0.806069</td>\n",
       "      <td>...</td>\n",
       "      <td>0.462326</td>\n",
       "      <td>0.727478</td>\n",
       "      <td>0.659644</td>\n",
       "      <td>0.673729</td>\n",
       "      <td>1.000000</td>\n",
       "      <td>0.951283</td>\n",
       "      <td>0.871575</td>\n",
       "      <td>0.589150</td>\n",
       "      <td>0.863770</td>\n",
       "      <td>-0.096721</td>\n",
       "    </tr>\n",
       "    <tr>\n",
       "      <th>Brand image</th>\n",
       "      <td>0.940208</td>\n",
       "      <td>0.858371</td>\n",
       "      <td>0.193148</td>\n",
       "      <td>-0.102880</td>\n",
       "      <td>0.808337</td>\n",
       "      <td>-0.609010</td>\n",
       "      <td>0.591527</td>\n",
       "      <td>-0.007913</td>\n",
       "      <td>-0.142472</td>\n",
       "      <td>0.881558</td>\n",
       "      <td>...</td>\n",
       "      <td>0.498116</td>\n",
       "      <td>0.808661</td>\n",
       "      <td>0.767946</td>\n",
       "      <td>0.644562</td>\n",
       "      <td>0.951283</td>\n",
       "      <td>1.000000</td>\n",
       "      <td>0.968181</td>\n",
       "      <td>0.372135</td>\n",
       "      <td>0.732700</td>\n",
       "      <td>0.082357</td>\n",
       "    </tr>\n",
       "    <tr>\n",
       "      <th>High prestige</th>\n",
       "      <td>0.910716</td>\n",
       "      <td>0.920526</td>\n",
       "      <td>0.030249</td>\n",
       "      <td>0.122114</td>\n",
       "      <td>0.899219</td>\n",
       "      <td>-0.466508</td>\n",
       "      <td>0.678136</td>\n",
       "      <td>-0.034998</td>\n",
       "      <td>-0.166999</td>\n",
       "      <td>0.877378</td>\n",
       "      <td>...</td>\n",
       "      <td>0.417920</td>\n",
       "      <td>0.867597</td>\n",
       "      <td>0.857002</td>\n",
       "      <td>0.691258</td>\n",
       "      <td>0.871575</td>\n",
       "      <td>0.968181</td>\n",
       "      <td>1.000000</td>\n",
       "      <td>0.145850</td>\n",
       "      <td>0.596977</td>\n",
       "      <td>0.142916</td>\n",
       "    </tr>\n",
       "    <tr>\n",
       "      <th>Value for money</th>\n",
       "      <td>0.423129</td>\n",
       "      <td>0.036041</td>\n",
       "      <td>0.682650</td>\n",
       "      <td>-0.787903</td>\n",
       "      <td>-0.101802</td>\n",
       "      <td>-0.601501</td>\n",
       "      <td>-0.179124</td>\n",
       "      <td>0.110272</td>\n",
       "      <td>-0.166934</td>\n",
       "      <td>0.325462</td>\n",
       "      <td>...</td>\n",
       "      <td>0.464696</td>\n",
       "      <td>0.142892</td>\n",
       "      <td>0.017883</td>\n",
       "      <td>0.185616</td>\n",
       "      <td>0.589150</td>\n",
       "      <td>0.372135</td>\n",
       "      <td>0.145850</td>\n",
       "      <td>1.000000</td>\n",
       "      <td>0.716480</td>\n",
       "      <td>-0.155361</td>\n",
       "    </tr>\n",
       "    <tr>\n",
       "      <th>Average user rating (CNET)</th>\n",
       "      <td>0.822403</td>\n",
       "      <td>0.629296</td>\n",
       "      <td>0.397805</td>\n",
       "      <td>-0.598447</td>\n",
       "      <td>0.514934</td>\n",
       "      <td>-0.925513</td>\n",
       "      <td>0.125220</td>\n",
       "      <td>-0.427483</td>\n",
       "      <td>0.176428</td>\n",
       "      <td>0.582228</td>\n",
       "      <td>...</td>\n",
       "      <td>0.120054</td>\n",
       "      <td>0.372248</td>\n",
       "      <td>0.338493</td>\n",
       "      <td>0.302376</td>\n",
       "      <td>0.863770</td>\n",
       "      <td>0.732700</td>\n",
       "      <td>0.596977</td>\n",
       "      <td>0.716480</td>\n",
       "      <td>1.000000</td>\n",
       "      <td>-0.392181</td>\n",
       "    </tr>\n",
       "    <tr>\n",
       "      <th>CNET Editor_s rating</th>\n",
       "      <td>0.052836</td>\n",
       "      <td>0.055941</td>\n",
       "      <td>-0.481711</td>\n",
       "      <td>0.639679</td>\n",
       "      <td>0.126049</td>\n",
       "      <td>0.624483</td>\n",
       "      <td>0.701859</td>\n",
       "      <td>0.675993</td>\n",
       "      <td>-0.344238</td>\n",
       "      <td>0.444311</td>\n",
       "      <td>...</td>\n",
       "      <td>0.654665</td>\n",
       "      <td>0.474052</td>\n",
       "      <td>0.480965</td>\n",
       "      <td>0.083538</td>\n",
       "      <td>-0.096721</td>\n",
       "      <td>0.082357</td>\n",
       "      <td>0.142916</td>\n",
       "      <td>-0.155361</td>\n",
       "      <td>-0.392181</td>\n",
       "      <td>1.000000</td>\n",
       "    </tr>\n",
       "  </tbody>\n",
       "</table>\n",
       "<p>22 rows × 22 columns</p>\n",
       "</div>"
      ],
      "text/plain": [
       "                                Push email availability  \\\n",
       "Push email availability                        1.000000   \n",
       "Email folders synchronization                  0.917257   \n",
       "Instant messaging availability                 0.075398   \n",
       "Speed in accessing email                      -0.082130   \n",
       "Software selection                             0.855454   \n",
       "Display size                                  -0.631210   \n",
       "Ease of use for navigation                     0.602630   \n",
       "Ease of use for typing                        -0.207137   \n",
       "Voice/call quality                            -0.053291   \n",
       "Comfortable to call                            0.917833   \n",
       "User friendliness                              0.656737   \n",
       "Media quality                                 -0.145872   \n",
       "Camera quality                                 0.359414   \n",
       "Compact                                        0.809606   \n",
       "Quality of display                             0.805137   \n",
       "Finish                                         0.577770   \n",
       "Product image                                  0.933874   \n",
       "Brand image                                    0.940208   \n",
       "High prestige                                  0.910716   \n",
       "Value for money                                0.423129   \n",
       "Average user rating (CNET)                     0.822403   \n",
       "CNET Editor_s rating                           0.052836   \n",
       "\n",
       "                                Email folders synchronization  \\\n",
       "Push email availability                              0.917257   \n",
       "Email folders synchronization                        1.000000   \n",
       "Instant messaging availability                      -0.216235   \n",
       "Speed in accessing email                             0.214703   \n",
       "Software selection                                   0.988556   \n",
       "Display size                                        -0.483235   \n",
       "Ease of use for navigation                           0.706815   \n",
       "Ease of use for typing                              -0.357660   \n",
       "Voice/call quality                                   0.080084   \n",
       "Comfortable to call                                  0.840441   \n",
       "User friendliness                                    0.658565   \n",
       "Media quality                                        0.062179   \n",
       "Camera quality                                       0.121094   \n",
       "Compact                                              0.784347   \n",
       "Quality of display                                   0.841620   \n",
       "Finish                                               0.514590   \n",
       "Product image                                        0.767680   \n",
       "Brand image                                          0.858371   \n",
       "High prestige                                        0.920526   \n",
       "Value for money                                      0.036041   \n",
       "Average user rating (CNET)                           0.629296   \n",
       "CNET Editor_s rating                                 0.055941   \n",
       "\n",
       "                                Instant messaging availability  \\\n",
       "Push email availability                               0.075398   \n",
       "Email folders synchronization                        -0.216235   \n",
       "Instant messaging availability                        1.000000   \n",
       "Speed in accessing email                             -0.796463   \n",
       "Software selection                                   -0.336699   \n",
       "Display size                                         -0.461812   \n",
       "Ease of use for navigation                           -0.608569   \n",
       "Ease of use for typing                                0.227813   \n",
       "Voice/call quality                                   -0.439194   \n",
       "Comfortable to call                                  -0.106417   \n",
       "User friendliness                                    -0.336539   \n",
       "Media quality                                        -0.934849   \n",
       "Camera quality                                        0.298616   \n",
       "Compact                                              -0.055671   \n",
       "Quality of display                                   -0.228740   \n",
       "Finish                                                0.408800   \n",
       "Product image                                         0.413096   \n",
       "Brand image                                           0.193148   \n",
       "High prestige                                         0.030249   \n",
       "Value for money                                       0.682650   \n",
       "Average user rating (CNET)                            0.397805   \n",
       "CNET Editor_s rating                                 -0.481711   \n",
       "\n",
       "                                Speed in accessing email  Software selection  \\\n",
       "Push email availability                        -0.082130            0.855454   \n",
       "Email folders synchronization                   0.214703            0.988556   \n",
       "Instant messaging availability                 -0.796463           -0.336699   \n",
       "Speed in accessing email                        1.000000            0.339396   \n",
       "Software selection                              0.339396            1.000000   \n",
       "Display size                                    0.725106           -0.380640   \n",
       "Ease of use for navigation                      0.600272            0.766816   \n",
       "Ease of use for typing                          0.156866           -0.340430   \n",
       "Voice/call quality                             -0.144821            0.112474   \n",
       "Comfortable to call                             0.172519            0.811687   \n",
       "User friendliness                               0.488699            0.688856   \n",
       "Media quality                                   0.782830            0.182252   \n",
       "Camera quality                                 -0.013730            0.089614   \n",
       "Compact                                         0.353676            0.769387   \n",
       "Quality of display                              0.466885            0.844234   \n",
       "Finish                                          0.096277            0.464761   \n",
       "Product image                                  -0.334515            0.676697   \n",
       "Brand image                                    -0.102880            0.808337   \n",
       "High prestige                                   0.122114            0.899219   \n",
       "Value for money                                -0.787903           -0.101802   \n",
       "Average user rating (CNET)                     -0.598447            0.514934   \n",
       "CNET Editor_s rating                            0.639679            0.126049   \n",
       "\n",
       "                                Display size   Ease of use for navigation  \\\n",
       "Push email availability             -0.631210                    0.602630   \n",
       "Email folders synchronization       -0.483235                    0.706815   \n",
       "Instant messaging availability      -0.461812                   -0.608569   \n",
       "Speed in accessing email             0.725106                    0.600272   \n",
       "Software selection                  -0.380640                    0.766816   \n",
       "Display size                         1.000000                    0.075146   \n",
       "Ease of use for navigation           0.075146                    1.000000   \n",
       "Ease of use for typing               0.524730                    0.125766   \n",
       "Voice/call quality                  -0.367764                    0.039544   \n",
       "Comfortable to call                 -0.319428                    0.813258   \n",
       "User friendliness                    0.077813                    0.935109   \n",
       "Media quality                        0.601198                    0.655312   \n",
       "Camera quality                       0.079334                    0.418655   \n",
       "Compact                             -0.094220                    0.735989   \n",
       "Quality of display                  -0.061051                    0.806883   \n",
       "Finish                              -0.122537                    0.211901   \n",
       "Product image                       -0.729963                    0.367511   \n",
       "Brand image                         -0.609010                    0.591527   \n",
       "High prestige                       -0.466508                    0.678136   \n",
       "Value for money                     -0.601501                   -0.179124   \n",
       "Average user rating (CNET)          -0.925513                    0.125220   \n",
       "CNET Editor_s rating                 0.624483                    0.701859   \n",
       "\n",
       "                                Ease of use for typing   Voice/call quality  \\\n",
       "Push email availability                       -0.207137           -0.053291   \n",
       "Email folders synchronization                 -0.357660            0.080084   \n",
       "Instant messaging availability                 0.227813           -0.439194   \n",
       "Speed in accessing email                       0.156866           -0.144821   \n",
       "Software selection                            -0.340430            0.112474   \n",
       "Display size                                   0.524730           -0.367764   \n",
       "Ease of use for navigation                     0.125766            0.039544   \n",
       "Ease of use for typing                         1.000000           -0.705369   \n",
       "Voice/call quality                            -0.705369            1.000000   \n",
       "Comfortable to call                            0.097531           -0.199662   \n",
       "User friendliness                              0.380308           -0.275150   \n",
       "Media quality                                  0.098189            0.279224   \n",
       "Camera quality                                 0.822963           -0.633053   \n",
       "Compact                                        0.236134           -0.497481   \n",
       "Quality of display                             0.109586           -0.372645   \n",
       "Finish                                         0.277813           -0.772549   \n",
       "Product image                                 -0.068901           -0.199526   \n",
       "Brand image                                   -0.007913           -0.142472   \n",
       "High prestige                                 -0.034998           -0.166999   \n",
       "Value for money                                0.110272           -0.166934   \n",
       "Average user rating (CNET)                    -0.427483            0.176428   \n",
       "CNET Editor_s rating                           0.675993           -0.344238   \n",
       "\n",
       "                                Comfortable to call          ...           \\\n",
       "Push email availability                    0.917833          ...            \n",
       "Email folders synchronization              0.840441          ...            \n",
       "Instant messaging availability            -0.106417          ...            \n",
       "Speed in accessing email                   0.172519          ...            \n",
       "Software selection                         0.811687          ...            \n",
       "Display size                              -0.319428          ...            \n",
       "Ease of use for navigation                 0.813258          ...            \n",
       "Ease of use for typing                     0.097531          ...            \n",
       "Voice/call quality                        -0.199662          ...            \n",
       "Comfortable to call                        1.000000          ...            \n",
       "User friendliness                          0.892226          ...            \n",
       "Media quality                              0.144842          ...            \n",
       "Camera quality                             0.595959          ...            \n",
       "Compact                                    0.918286          ...            \n",
       "Quality of display                         0.913057          ...            \n",
       "Finish                                     0.563559          ...            \n",
       "Product image                              0.806069          ...            \n",
       "Brand image                                0.881558          ...            \n",
       "High prestige                              0.877378          ...            \n",
       "Value for money                            0.325462          ...            \n",
       "Average user rating (CNET)                 0.582228          ...            \n",
       "CNET Editor_s rating                       0.444311          ...            \n",
       "\n",
       "                                Camera quality   Compact  Quality of display  \\\n",
       "Push email availability               0.359414  0.809606            0.805137   \n",
       "Email folders synchronization         0.121094  0.784347            0.841620   \n",
       "Instant messaging availability        0.298616 -0.055671           -0.228740   \n",
       "Speed in accessing email             -0.013730  0.353676            0.466885   \n",
       "Software selection                    0.089614  0.769387            0.844234   \n",
       "Display size                          0.079334 -0.094220           -0.061051   \n",
       "Ease of use for navigation            0.418655  0.735989            0.806883   \n",
       "Ease of use for typing                0.822963  0.236134            0.109586   \n",
       "Voice/call quality                   -0.633053 -0.497481           -0.372645   \n",
       "Comfortable to call                   0.595959  0.918286            0.913057   \n",
       "User friendliness                     0.690578  0.873070            0.879338   \n",
       "Media quality                        -0.006784  0.085697            0.216884   \n",
       "Camera quality                        1.000000  0.610705            0.480920   \n",
       "Compact                               0.610705  1.000000            0.980833   \n",
       "Quality of display                    0.480920  0.980833            1.000000   \n",
       "Finish                                0.493554  0.798913            0.713328   \n",
       "Product image                         0.462326  0.727478            0.659644   \n",
       "Brand image                           0.498116  0.808661            0.767946   \n",
       "High prestige                         0.417920  0.867597            0.857002   \n",
       "Value for money                       0.464696  0.142892            0.017883   \n",
       "Average user rating (CNET)            0.120054  0.372248            0.338493   \n",
       "CNET Editor_s rating                  0.654665  0.474052            0.480965   \n",
       "\n",
       "                                  Finish  Product image  Brand image  \\\n",
       "Push email availability         0.577770       0.933874     0.940208   \n",
       "Email folders synchronization   0.514590       0.767680     0.858371   \n",
       "Instant messaging availability  0.408800       0.413096     0.193148   \n",
       "Speed in accessing email        0.096277      -0.334515    -0.102880   \n",
       "Software selection              0.464761       0.676697     0.808337   \n",
       "Display size                   -0.122537      -0.729963    -0.609010   \n",
       "Ease of use for navigation      0.211901       0.367511     0.591527   \n",
       "Ease of use for typing          0.277813      -0.068901    -0.007913   \n",
       "Voice/call quality             -0.772549      -0.199526    -0.142472   \n",
       "Comfortable to call             0.563559       0.806069     0.881558   \n",
       "User friendliness               0.456258       0.512537     0.691335   \n",
       "Media quality                  -0.416373      -0.445178    -0.215538   \n",
       "Camera quality                  0.493554       0.462326     0.498116   \n",
       "Compact                         0.798913       0.727478     0.808661   \n",
       "Quality of display              0.713328       0.659644     0.767946   \n",
       "Finish                          1.000000       0.673729     0.644562   \n",
       "Product image                   0.673729       1.000000     0.951283   \n",
       "Brand image                     0.644562       0.951283     1.000000   \n",
       "High prestige                   0.691258       0.871575     0.968181   \n",
       "Value for money                 0.185616       0.589150     0.372135   \n",
       "Average user rating (CNET)      0.302376       0.863770     0.732700   \n",
       "CNET Editor_s rating            0.083538      -0.096721     0.082357   \n",
       "\n",
       "                                High prestige  Value for money  \\\n",
       "Push email availability              0.910716         0.423129   \n",
       "Email folders synchronization        0.920526         0.036041   \n",
       "Instant messaging availability       0.030249         0.682650   \n",
       "Speed in accessing email             0.122114        -0.787903   \n",
       "Software selection                   0.899219        -0.101802   \n",
       "Display size                        -0.466508        -0.601501   \n",
       "Ease of use for navigation           0.678136        -0.179124   \n",
       "Ease of use for typing              -0.034998         0.110272   \n",
       "Voice/call quality                  -0.166999        -0.166934   \n",
       "Comfortable to call                  0.877378         0.325462   \n",
       "User friendliness                    0.743793         0.023185   \n",
       "Media quality                       -0.089408        -0.561759   \n",
       "Camera quality                       0.417920         0.464696   \n",
       "Compact                              0.867597         0.142892   \n",
       "Quality of display                   0.857002         0.017883   \n",
       "Finish                               0.691258         0.185616   \n",
       "Product image                        0.871575         0.589150   \n",
       "Brand image                          0.968181         0.372135   \n",
       "High prestige                        1.000000         0.145850   \n",
       "Value for money                      0.145850         1.000000   \n",
       "Average user rating (CNET)           0.596977         0.716480   \n",
       "CNET Editor_s rating                 0.142916        -0.155361   \n",
       "\n",
       "                                Average user rating (CNET)   \\\n",
       "Push email availability                            0.822403   \n",
       "Email folders synchronization                      0.629296   \n",
       "Instant messaging availability                     0.397805   \n",
       "Speed in accessing email                          -0.598447   \n",
       "Software selection                                 0.514934   \n",
       "Display size                                      -0.925513   \n",
       "Ease of use for navigation                         0.125220   \n",
       "Ease of use for typing                            -0.427483   \n",
       "Voice/call quality                                 0.176428   \n",
       "Comfortable to call                                0.582228   \n",
       "User friendliness                                  0.170773   \n",
       "Media quality                                     -0.499134   \n",
       "Camera quality                                     0.120054   \n",
       "Compact                                            0.372248   \n",
       "Quality of display                                 0.338493   \n",
       "Finish                                             0.302376   \n",
       "Product image                                      0.863770   \n",
       "Brand image                                        0.732700   \n",
       "High prestige                                      0.596977   \n",
       "Value for money                                    0.716480   \n",
       "Average user rating (CNET)                         1.000000   \n",
       "CNET Editor_s rating                              -0.392181   \n",
       "\n",
       "                                CNET Editor_s rating  \n",
       "Push email availability                     0.052836  \n",
       "Email folders synchronization               0.055941  \n",
       "Instant messaging availability             -0.481711  \n",
       "Speed in accessing email                    0.639679  \n",
       "Software selection                          0.126049  \n",
       "Display size                                0.624483  \n",
       "Ease of use for navigation                  0.701859  \n",
       "Ease of use for typing                      0.675993  \n",
       "Voice/call quality                         -0.344238  \n",
       "Comfortable to call                         0.444311  \n",
       "User friendliness                           0.761310  \n",
       "Media quality                               0.727882  \n",
       "Camera quality                              0.654665  \n",
       "Compact                                     0.474052  \n",
       "Quality of display                          0.480965  \n",
       "Finish                                      0.083538  \n",
       "Product image                              -0.096721  \n",
       "Brand image                                 0.082357  \n",
       "High prestige                               0.142916  \n",
       "Value for money                            -0.155361  \n",
       "Average user rating (CNET)                 -0.392181  \n",
       "CNET Editor_s rating                        1.000000  \n",
       "\n",
       "[22 rows x 22 columns]"
      ]
     },
     "execution_count": 5,
     "metadata": {},
     "output_type": "execute_result"
    }
   ],
   "source": [
    "corBrands"
   ]
  },
  {
   "cell_type": "code",
   "execution_count": 7,
   "metadata": {},
   "outputs": [
    {
     "data": {
      "text/plain": [
       "2.592096938036982e-268"
      ]
     },
     "execution_count": 7,
     "metadata": {},
     "output_type": "execute_result"
    }
   ],
   "source": [
    "np.linalg.det(corBrands.values)"
   ]
  },
  {
   "cell_type": "code",
   "execution_count": 23,
   "metadata": {},
   "outputs": [],
   "source": [
    "from sklearn.preprocessing import StandardScaler\n",
    "tBrands = StandardScaler().fit_transform(tBrands)"
   ]
  },
  {
   "cell_type": "code",
   "execution_count": 28,
   "metadata": {},
   "outputs": [
    {
     "data": {
      "text/plain": [
       "array([[ 1.48962809,  0.97998732,  0.86046082, -0.64016256,  0.71881766,\n",
       "        -0.90844538,  0.15594572, -0.23424607, -0.91129318,  1.27927905,\n",
       "         0.54176676, -0.9169344 ,  0.67885304,  1.27129885,  1.15271754,\n",
       "         1.33454686,  1.51322376,  1.08445937,  0.91217071,  1.52994125,\n",
       "         1.532942  , -0.15350139],\n",
       "       [ 0.79543247,  0.56655517, -0.20246137, -0.51626013,  0.57261746,\n",
       "        -0.90844538,  1.09162001,  0.26770979,  0.99053606,  0.94555408,\n",
       "         0.98503047,  0.49776439,  0.88880759,  0.24283237,  0.20958501,\n",
       "        -0.64127576,  0.76901535,  1.03553639,  0.77062698,  0.68258917,\n",
       "         0.80296962,  0.58330528],\n",
       "       [-0.07231204,  0.19905992, -0.10123068,  1.34227633,  0.35331715,\n",
       "         1.22442638,  0.71735029,  1.47240386, -1.54523626,  0.41159413,\n",
       "         1.05890775,  0.34057564,  1.05677123,  1.09988777,  0.99552878,\n",
       "         1.33454686,  0.02480695,  0.39953766,  0.72344574, -1.01211498,\n",
       "        -1.09495857,  1.13591029],\n",
       "       [-0.07231204,  0.24499683,  0.60738411, -0.76406499,  0.20711695,\n",
       "        -1.14543113, -1.06043086, -1.43894014,  0.83205029, -0.85656075,\n",
       "        -1.30516537, -1.23131192, -1.50467427, -0.78563412, -0.73354752,\n",
       "        -0.01733178,  0.17364863,  0.05707681,  0.11008957, -0.4472136 ,\n",
       "         0.51098067, -1.99551807],\n",
       "       [-1.72102663, -2.14372226,  0.86046082, -0.88796742, -2.20518638,\n",
       "         0.75045488, -1.62183544,  0.87005683, -0.35659298, -1.59075569,\n",
       "        -1.37904265, -0.44536814,  0.04898939, -1.55698399, -1.75527443,\n",
       "        -0.95324776, -1.31476819, -1.65522746, -1.91870391,  0.54136383,\n",
       "        -0.9489641 , -0.15350139],\n",
       "       [-0.41940985,  0.15312302, -2.0246137 ,  1.46617876,  0.35331715,\n",
       "         0.98744063,  0.71735029, -0.93698427,  0.99053606, -0.18911082,\n",
       "         0.09850305,  1.75527443, -1.16874699, -0.27140088,  0.13099063,\n",
       "        -1.05723842, -1.16592651, -0.92138277, -0.59762909, -1.29456567,\n",
       "        -0.80296962,  0.58330528]])"
      ]
     },
     "execution_count": 28,
     "metadata": {},
     "output_type": "execute_result"
    }
   ],
   "source": [
    "tBrands"
   ]
  },
  {
   "cell_type": "code",
   "execution_count": 30,
   "metadata": {},
   "outputs": [
    {
     "name": "stdout",
     "output_type": "stream",
     "text": [
      "[[-0.291506   -0.27550393  0.00053319 -0.04382198 -0.2654274   0.1201924\n",
      "  -0.22913557 -0.01730191  0.07772674 -0.29990006 -0.25846367  0.00088118\n",
      "  -0.16862826 -0.29028629 -0.28551085 -0.21281896 -0.26982698 -0.29183614\n",
      "  -0.29537007 -0.08581376 -0.18881696 -0.09471447]\n",
      " [-0.10278095 -0.01157412 -0.32487155  0.38075684  0.04139927  0.34475539\n",
      "   0.23889259  0.15710684 -0.05019068  0.03862917  0.20177981  0.36782295\n",
      "   0.0616626   0.0862413   0.12278843 -0.04763024 -0.19681261 -0.09941626\n",
      "  -0.02839215 -0.27981611 -0.29508033  0.33624758]]\n"
     ]
    }
   ],
   "source": [
    "from sklearn.decomposition import PCA\n",
    "pcabb = PCA(n_components=2)\n",
    "#pcabb.fit(corBrands)\n",
    "pcabb.fit(tBrands)\n",
    "\n",
    "print(pcabb.components_)"
   ]
  },
  {
   "cell_type": "code",
   "execution_count": 25,
   "metadata": {},
   "outputs": [
    {
     "name": "stdout",
     "output_type": "stream",
     "text": [
      "[0.47834687 0.26802719 0.16739163]\n"
     ]
    }
   ],
   "source": [
    "print(pcabb.explained_variance_ratio_)  "
   ]
  },
  {
   "cell_type": "code",
   "execution_count": 26,
   "metadata": {},
   "outputs": [
    {
     "name": "stdout",
     "output_type": "stream",
     "text": [
      "[7.94618064 5.94807439 4.7006058 ]\n"
     ]
    }
   ],
   "source": [
    "print(pcabb.singular_values_)"
   ]
  },
  {
   "cell_type": "code",
   "execution_count": 27,
   "metadata": {
    "scrolled": true
   },
   "outputs": [
    {
     "data": {
      "application/vnd.plotly.v1+json": {
       "config": {
        "plotlyServerURL": "https://plot.ly"
       },
       "data": [
        {
         "hovertemplate": "0=%{x}<br>1=%{y}<extra></extra>",
         "legendgroup": "",
         "marker": {
          "color": "#636efa",
          "symbol": "circle"
         },
         "mode": "markers",
         "name": "",
         "showlegend": false,
         "type": "scatter",
         "x": [
          -4.099760869083856,
          -2.4886175317914407,
          -1.9627284259897764,
          1.4502128229689948,
          5.66867295295744,
          1.4322210509386375
         ],
         "xaxis": "x",
         "y": [
          -2.237626428547512,
          -0.2130548508613396,
          2.9627435091815224,
          -3.129862837525712,
          -0.7315523443283998,
          3.3493529520814387
         ],
         "yaxis": "y"
        }
       ],
       "layout": {
        "legend": {
         "tracegroupgap": 0
        },
        "margin": {
         "t": 60
        },
        "template": {
         "data": {
          "bar": [
           {
            "error_x": {
             "color": "#2a3f5f"
            },
            "error_y": {
             "color": "#2a3f5f"
            },
            "marker": {
             "line": {
              "color": "#E5ECF6",
              "width": 0.5
             }
            },
            "type": "bar"
           }
          ],
          "barpolar": [
           {
            "marker": {
             "line": {
              "color": "#E5ECF6",
              "width": 0.5
             }
            },
            "type": "barpolar"
           }
          ],
          "carpet": [
           {
            "aaxis": {
             "endlinecolor": "#2a3f5f",
             "gridcolor": "white",
             "linecolor": "white",
             "minorgridcolor": "white",
             "startlinecolor": "#2a3f5f"
            },
            "baxis": {
             "endlinecolor": "#2a3f5f",
             "gridcolor": "white",
             "linecolor": "white",
             "minorgridcolor": "white",
             "startlinecolor": "#2a3f5f"
            },
            "type": "carpet"
           }
          ],
          "choropleth": [
           {
            "colorbar": {
             "outlinewidth": 0,
             "ticks": ""
            },
            "type": "choropleth"
           }
          ],
          "contour": [
           {
            "colorbar": {
             "outlinewidth": 0,
             "ticks": ""
            },
            "colorscale": [
             [
              0,
              "#0d0887"
             ],
             [
              0.1111111111111111,
              "#46039f"
             ],
             [
              0.2222222222222222,
              "#7201a8"
             ],
             [
              0.3333333333333333,
              "#9c179e"
             ],
             [
              0.4444444444444444,
              "#bd3786"
             ],
             [
              0.5555555555555556,
              "#d8576b"
             ],
             [
              0.6666666666666666,
              "#ed7953"
             ],
             [
              0.7777777777777778,
              "#fb9f3a"
             ],
             [
              0.8888888888888888,
              "#fdca26"
             ],
             [
              1,
              "#f0f921"
             ]
            ],
            "type": "contour"
           }
          ],
          "contourcarpet": [
           {
            "colorbar": {
             "outlinewidth": 0,
             "ticks": ""
            },
            "type": "contourcarpet"
           }
          ],
          "heatmap": [
           {
            "colorbar": {
             "outlinewidth": 0,
             "ticks": ""
            },
            "colorscale": [
             [
              0,
              "#0d0887"
             ],
             [
              0.1111111111111111,
              "#46039f"
             ],
             [
              0.2222222222222222,
              "#7201a8"
             ],
             [
              0.3333333333333333,
              "#9c179e"
             ],
             [
              0.4444444444444444,
              "#bd3786"
             ],
             [
              0.5555555555555556,
              "#d8576b"
             ],
             [
              0.6666666666666666,
              "#ed7953"
             ],
             [
              0.7777777777777778,
              "#fb9f3a"
             ],
             [
              0.8888888888888888,
              "#fdca26"
             ],
             [
              1,
              "#f0f921"
             ]
            ],
            "type": "heatmap"
           }
          ],
          "heatmapgl": [
           {
            "colorbar": {
             "outlinewidth": 0,
             "ticks": ""
            },
            "colorscale": [
             [
              0,
              "#0d0887"
             ],
             [
              0.1111111111111111,
              "#46039f"
             ],
             [
              0.2222222222222222,
              "#7201a8"
             ],
             [
              0.3333333333333333,
              "#9c179e"
             ],
             [
              0.4444444444444444,
              "#bd3786"
             ],
             [
              0.5555555555555556,
              "#d8576b"
             ],
             [
              0.6666666666666666,
              "#ed7953"
             ],
             [
              0.7777777777777778,
              "#fb9f3a"
             ],
             [
              0.8888888888888888,
              "#fdca26"
             ],
             [
              1,
              "#f0f921"
             ]
            ],
            "type": "heatmapgl"
           }
          ],
          "histogram": [
           {
            "marker": {
             "colorbar": {
              "outlinewidth": 0,
              "ticks": ""
             }
            },
            "type": "histogram"
           }
          ],
          "histogram2d": [
           {
            "colorbar": {
             "outlinewidth": 0,
             "ticks": ""
            },
            "colorscale": [
             [
              0,
              "#0d0887"
             ],
             [
              0.1111111111111111,
              "#46039f"
             ],
             [
              0.2222222222222222,
              "#7201a8"
             ],
             [
              0.3333333333333333,
              "#9c179e"
             ],
             [
              0.4444444444444444,
              "#bd3786"
             ],
             [
              0.5555555555555556,
              "#d8576b"
             ],
             [
              0.6666666666666666,
              "#ed7953"
             ],
             [
              0.7777777777777778,
              "#fb9f3a"
             ],
             [
              0.8888888888888888,
              "#fdca26"
             ],
             [
              1,
              "#f0f921"
             ]
            ],
            "type": "histogram2d"
           }
          ],
          "histogram2dcontour": [
           {
            "colorbar": {
             "outlinewidth": 0,
             "ticks": ""
            },
            "colorscale": [
             [
              0,
              "#0d0887"
             ],
             [
              0.1111111111111111,
              "#46039f"
             ],
             [
              0.2222222222222222,
              "#7201a8"
             ],
             [
              0.3333333333333333,
              "#9c179e"
             ],
             [
              0.4444444444444444,
              "#bd3786"
             ],
             [
              0.5555555555555556,
              "#d8576b"
             ],
             [
              0.6666666666666666,
              "#ed7953"
             ],
             [
              0.7777777777777778,
              "#fb9f3a"
             ],
             [
              0.8888888888888888,
              "#fdca26"
             ],
             [
              1,
              "#f0f921"
             ]
            ],
            "type": "histogram2dcontour"
           }
          ],
          "mesh3d": [
           {
            "colorbar": {
             "outlinewidth": 0,
             "ticks": ""
            },
            "type": "mesh3d"
           }
          ],
          "parcoords": [
           {
            "line": {
             "colorbar": {
              "outlinewidth": 0,
              "ticks": ""
             }
            },
            "type": "parcoords"
           }
          ],
          "pie": [
           {
            "automargin": true,
            "type": "pie"
           }
          ],
          "scatter": [
           {
            "marker": {
             "colorbar": {
              "outlinewidth": 0,
              "ticks": ""
             }
            },
            "type": "scatter"
           }
          ],
          "scatter3d": [
           {
            "line": {
             "colorbar": {
              "outlinewidth": 0,
              "ticks": ""
             }
            },
            "marker": {
             "colorbar": {
              "outlinewidth": 0,
              "ticks": ""
             }
            },
            "type": "scatter3d"
           }
          ],
          "scattercarpet": [
           {
            "marker": {
             "colorbar": {
              "outlinewidth": 0,
              "ticks": ""
             }
            },
            "type": "scattercarpet"
           }
          ],
          "scattergeo": [
           {
            "marker": {
             "colorbar": {
              "outlinewidth": 0,
              "ticks": ""
             }
            },
            "type": "scattergeo"
           }
          ],
          "scattergl": [
           {
            "marker": {
             "colorbar": {
              "outlinewidth": 0,
              "ticks": ""
             }
            },
            "type": "scattergl"
           }
          ],
          "scattermapbox": [
           {
            "marker": {
             "colorbar": {
              "outlinewidth": 0,
              "ticks": ""
             }
            },
            "type": "scattermapbox"
           }
          ],
          "scatterpolar": [
           {
            "marker": {
             "colorbar": {
              "outlinewidth": 0,
              "ticks": ""
             }
            },
            "type": "scatterpolar"
           }
          ],
          "scatterpolargl": [
           {
            "marker": {
             "colorbar": {
              "outlinewidth": 0,
              "ticks": ""
             }
            },
            "type": "scatterpolargl"
           }
          ],
          "scatterternary": [
           {
            "marker": {
             "colorbar": {
              "outlinewidth": 0,
              "ticks": ""
             }
            },
            "type": "scatterternary"
           }
          ],
          "surface": [
           {
            "colorbar": {
             "outlinewidth": 0,
             "ticks": ""
            },
            "colorscale": [
             [
              0,
              "#0d0887"
             ],
             [
              0.1111111111111111,
              "#46039f"
             ],
             [
              0.2222222222222222,
              "#7201a8"
             ],
             [
              0.3333333333333333,
              "#9c179e"
             ],
             [
              0.4444444444444444,
              "#bd3786"
             ],
             [
              0.5555555555555556,
              "#d8576b"
             ],
             [
              0.6666666666666666,
              "#ed7953"
             ],
             [
              0.7777777777777778,
              "#fb9f3a"
             ],
             [
              0.8888888888888888,
              "#fdca26"
             ],
             [
              1,
              "#f0f921"
             ]
            ],
            "type": "surface"
           }
          ],
          "table": [
           {
            "cells": {
             "fill": {
              "color": "#EBF0F8"
             },
             "line": {
              "color": "white"
             }
            },
            "header": {
             "fill": {
              "color": "#C8D4E3"
             },
             "line": {
              "color": "white"
             }
            },
            "type": "table"
           }
          ]
         },
         "layout": {
          "annotationdefaults": {
           "arrowcolor": "#2a3f5f",
           "arrowhead": 0,
           "arrowwidth": 1
          },
          "coloraxis": {
           "colorbar": {
            "outlinewidth": 0,
            "ticks": ""
           }
          },
          "colorscale": {
           "diverging": [
            [
             0,
             "#8e0152"
            ],
            [
             0.1,
             "#c51b7d"
            ],
            [
             0.2,
             "#de77ae"
            ],
            [
             0.3,
             "#f1b6da"
            ],
            [
             0.4,
             "#fde0ef"
            ],
            [
             0.5,
             "#f7f7f7"
            ],
            [
             0.6,
             "#e6f5d0"
            ],
            [
             0.7,
             "#b8e186"
            ],
            [
             0.8,
             "#7fbc41"
            ],
            [
             0.9,
             "#4d9221"
            ],
            [
             1,
             "#276419"
            ]
           ],
           "sequential": [
            [
             0,
             "#0d0887"
            ],
            [
             0.1111111111111111,
             "#46039f"
            ],
            [
             0.2222222222222222,
             "#7201a8"
            ],
            [
             0.3333333333333333,
             "#9c179e"
            ],
            [
             0.4444444444444444,
             "#bd3786"
            ],
            [
             0.5555555555555556,
             "#d8576b"
            ],
            [
             0.6666666666666666,
             "#ed7953"
            ],
            [
             0.7777777777777778,
             "#fb9f3a"
            ],
            [
             0.8888888888888888,
             "#fdca26"
            ],
            [
             1,
             "#f0f921"
            ]
           ],
           "sequentialminus": [
            [
             0,
             "#0d0887"
            ],
            [
             0.1111111111111111,
             "#46039f"
            ],
            [
             0.2222222222222222,
             "#7201a8"
            ],
            [
             0.3333333333333333,
             "#9c179e"
            ],
            [
             0.4444444444444444,
             "#bd3786"
            ],
            [
             0.5555555555555556,
             "#d8576b"
            ],
            [
             0.6666666666666666,
             "#ed7953"
            ],
            [
             0.7777777777777778,
             "#fb9f3a"
            ],
            [
             0.8888888888888888,
             "#fdca26"
            ],
            [
             1,
             "#f0f921"
            ]
           ]
          },
          "colorway": [
           "#636efa",
           "#EF553B",
           "#00cc96",
           "#ab63fa",
           "#FFA15A",
           "#19d3f3",
           "#FF6692",
           "#B6E880",
           "#FF97FF",
           "#FECB52"
          ],
          "font": {
           "color": "#2a3f5f"
          },
          "geo": {
           "bgcolor": "white",
           "lakecolor": "white",
           "landcolor": "#E5ECF6",
           "showlakes": true,
           "showland": true,
           "subunitcolor": "white"
          },
          "hoverlabel": {
           "align": "left"
          },
          "hovermode": "closest",
          "mapbox": {
           "style": "light"
          },
          "paper_bgcolor": "white",
          "plot_bgcolor": "#E5ECF6",
          "polar": {
           "angularaxis": {
            "gridcolor": "white",
            "linecolor": "white",
            "ticks": ""
           },
           "bgcolor": "#E5ECF6",
           "radialaxis": {
            "gridcolor": "white",
            "linecolor": "white",
            "ticks": ""
           }
          },
          "scene": {
           "xaxis": {
            "backgroundcolor": "#E5ECF6",
            "gridcolor": "white",
            "gridwidth": 2,
            "linecolor": "white",
            "showbackground": true,
            "ticks": "",
            "zerolinecolor": "white"
           },
           "yaxis": {
            "backgroundcolor": "#E5ECF6",
            "gridcolor": "white",
            "gridwidth": 2,
            "linecolor": "white",
            "showbackground": true,
            "ticks": "",
            "zerolinecolor": "white"
           },
           "zaxis": {
            "backgroundcolor": "#E5ECF6",
            "gridcolor": "white",
            "gridwidth": 2,
            "linecolor": "white",
            "showbackground": true,
            "ticks": "",
            "zerolinecolor": "white"
           }
          },
          "shapedefaults": {
           "line": {
            "color": "#2a3f5f"
           }
          },
          "ternary": {
           "aaxis": {
            "gridcolor": "white",
            "linecolor": "white",
            "ticks": ""
           },
           "baxis": {
            "gridcolor": "white",
            "linecolor": "white",
            "ticks": ""
           },
           "bgcolor": "#E5ECF6",
           "caxis": {
            "gridcolor": "white",
            "linecolor": "white",
            "ticks": ""
           }
          },
          "title": {
           "x": 0.05
          },
          "xaxis": {
           "automargin": true,
           "gridcolor": "white",
           "linecolor": "white",
           "ticks": "",
           "title": {
            "standoff": 15
           },
           "zerolinecolor": "white",
           "zerolinewidth": 2
          },
          "yaxis": {
           "automargin": true,
           "gridcolor": "white",
           "linecolor": "white",
           "ticks": "",
           "title": {
            "standoff": 15
           },
           "zerolinecolor": "white",
           "zerolinewidth": 2
          }
         }
        },
        "xaxis": {
         "anchor": "y",
         "domain": [
          0,
          1
         ],
         "title": {
          "text": "0"
         }
        },
        "yaxis": {
         "anchor": "x",
         "domain": [
          0,
          1
         ],
         "title": {
          "text": "1"
         }
        }
       }
      },
      "text/html": [
       "<div>\n",
       "        \n",
       "        \n",
       "            <div id=\"2f43c228-bcf6-46b4-8695-2b015c7e0b0d\" class=\"plotly-graph-div\" style=\"height:525px; width:100%;\"></div>\n",
       "            <script type=\"text/javascript\">\n",
       "                require([\"plotly\"], function(Plotly) {\n",
       "                    window.PLOTLYENV=window.PLOTLYENV || {};\n",
       "                    \n",
       "                if (document.getElementById(\"2f43c228-bcf6-46b4-8695-2b015c7e0b0d\")) {\n",
       "                    Plotly.newPlot(\n",
       "                        '2f43c228-bcf6-46b4-8695-2b015c7e0b0d',\n",
       "                        [{\"hovertemplate\": \"0=%{x}<br>1=%{y}<extra></extra>\", \"legendgroup\": \"\", \"marker\": {\"color\": \"#636efa\", \"symbol\": \"circle\"}, \"mode\": \"markers\", \"name\": \"\", \"showlegend\": false, \"type\": \"scatter\", \"x\": [-4.099760869083856, -2.4886175317914407, -1.9627284259897764, 1.4502128229689948, 5.66867295295744, 1.4322210509386375], \"xaxis\": \"x\", \"y\": [-2.237626428547512, -0.2130548508613396, 2.9627435091815224, -3.129862837525712, -0.7315523443283998, 3.3493529520814387], \"yaxis\": \"y\"}],\n",
       "                        {\"legend\": {\"tracegroupgap\": 0}, \"margin\": {\"t\": 60}, \"template\": {\"data\": {\"bar\": [{\"error_x\": {\"color\": \"#2a3f5f\"}, \"error_y\": {\"color\": \"#2a3f5f\"}, \"marker\": {\"line\": {\"color\": \"#E5ECF6\", \"width\": 0.5}}, \"type\": \"bar\"}], \"barpolar\": [{\"marker\": {\"line\": {\"color\": \"#E5ECF6\", \"width\": 0.5}}, \"type\": \"barpolar\"}], \"carpet\": [{\"aaxis\": {\"endlinecolor\": \"#2a3f5f\", \"gridcolor\": \"white\", \"linecolor\": \"white\", \"minorgridcolor\": \"white\", \"startlinecolor\": \"#2a3f5f\"}, \"baxis\": {\"endlinecolor\": \"#2a3f5f\", \"gridcolor\": \"white\", \"linecolor\": \"white\", \"minorgridcolor\": \"white\", \"startlinecolor\": \"#2a3f5f\"}, \"type\": \"carpet\"}], \"choropleth\": [{\"colorbar\": {\"outlinewidth\": 0, \"ticks\": \"\"}, \"type\": \"choropleth\"}], \"contour\": [{\"colorbar\": {\"outlinewidth\": 0, \"ticks\": \"\"}, \"colorscale\": [[0.0, \"#0d0887\"], [0.1111111111111111, \"#46039f\"], [0.2222222222222222, \"#7201a8\"], [0.3333333333333333, \"#9c179e\"], [0.4444444444444444, \"#bd3786\"], [0.5555555555555556, \"#d8576b\"], [0.6666666666666666, \"#ed7953\"], [0.7777777777777778, \"#fb9f3a\"], [0.8888888888888888, \"#fdca26\"], [1.0, \"#f0f921\"]], \"type\": \"contour\"}], \"contourcarpet\": [{\"colorbar\": {\"outlinewidth\": 0, \"ticks\": \"\"}, \"type\": \"contourcarpet\"}], \"heatmap\": [{\"colorbar\": {\"outlinewidth\": 0, \"ticks\": \"\"}, \"colorscale\": [[0.0, \"#0d0887\"], [0.1111111111111111, \"#46039f\"], [0.2222222222222222, \"#7201a8\"], [0.3333333333333333, \"#9c179e\"], [0.4444444444444444, \"#bd3786\"], [0.5555555555555556, \"#d8576b\"], [0.6666666666666666, \"#ed7953\"], [0.7777777777777778, \"#fb9f3a\"], [0.8888888888888888, \"#fdca26\"], [1.0, \"#f0f921\"]], \"type\": \"heatmap\"}], \"heatmapgl\": [{\"colorbar\": {\"outlinewidth\": 0, \"ticks\": \"\"}, \"colorscale\": [[0.0, \"#0d0887\"], [0.1111111111111111, \"#46039f\"], [0.2222222222222222, \"#7201a8\"], [0.3333333333333333, \"#9c179e\"], [0.4444444444444444, \"#bd3786\"], [0.5555555555555556, \"#d8576b\"], [0.6666666666666666, \"#ed7953\"], [0.7777777777777778, \"#fb9f3a\"], [0.8888888888888888, \"#fdca26\"], [1.0, \"#f0f921\"]], \"type\": \"heatmapgl\"}], \"histogram\": [{\"marker\": {\"colorbar\": {\"outlinewidth\": 0, \"ticks\": \"\"}}, \"type\": \"histogram\"}], \"histogram2d\": [{\"colorbar\": {\"outlinewidth\": 0, \"ticks\": \"\"}, \"colorscale\": [[0.0, \"#0d0887\"], [0.1111111111111111, \"#46039f\"], [0.2222222222222222, \"#7201a8\"], [0.3333333333333333, \"#9c179e\"], [0.4444444444444444, \"#bd3786\"], [0.5555555555555556, \"#d8576b\"], [0.6666666666666666, \"#ed7953\"], [0.7777777777777778, \"#fb9f3a\"], [0.8888888888888888, \"#fdca26\"], [1.0, \"#f0f921\"]], \"type\": \"histogram2d\"}], \"histogram2dcontour\": [{\"colorbar\": {\"outlinewidth\": 0, \"ticks\": \"\"}, \"colorscale\": [[0.0, \"#0d0887\"], [0.1111111111111111, \"#46039f\"], [0.2222222222222222, \"#7201a8\"], [0.3333333333333333, \"#9c179e\"], [0.4444444444444444, \"#bd3786\"], [0.5555555555555556, \"#d8576b\"], [0.6666666666666666, \"#ed7953\"], [0.7777777777777778, \"#fb9f3a\"], [0.8888888888888888, \"#fdca26\"], [1.0, \"#f0f921\"]], \"type\": \"histogram2dcontour\"}], \"mesh3d\": [{\"colorbar\": {\"outlinewidth\": 0, \"ticks\": \"\"}, \"type\": \"mesh3d\"}], \"parcoords\": [{\"line\": {\"colorbar\": {\"outlinewidth\": 0, \"ticks\": \"\"}}, \"type\": \"parcoords\"}], \"pie\": [{\"automargin\": true, \"type\": \"pie\"}], \"scatter\": [{\"marker\": {\"colorbar\": {\"outlinewidth\": 0, \"ticks\": \"\"}}, \"type\": \"scatter\"}], \"scatter3d\": [{\"line\": {\"colorbar\": {\"outlinewidth\": 0, \"ticks\": \"\"}}, \"marker\": {\"colorbar\": {\"outlinewidth\": 0, \"ticks\": \"\"}}, \"type\": \"scatter3d\"}], \"scattercarpet\": [{\"marker\": {\"colorbar\": {\"outlinewidth\": 0, \"ticks\": \"\"}}, \"type\": \"scattercarpet\"}], \"scattergeo\": [{\"marker\": {\"colorbar\": {\"outlinewidth\": 0, \"ticks\": \"\"}}, \"type\": \"scattergeo\"}], \"scattergl\": [{\"marker\": {\"colorbar\": {\"outlinewidth\": 0, \"ticks\": \"\"}}, \"type\": \"scattergl\"}], \"scattermapbox\": [{\"marker\": {\"colorbar\": {\"outlinewidth\": 0, \"ticks\": \"\"}}, \"type\": \"scattermapbox\"}], \"scatterpolar\": [{\"marker\": {\"colorbar\": {\"outlinewidth\": 0, \"ticks\": \"\"}}, \"type\": \"scatterpolar\"}], \"scatterpolargl\": [{\"marker\": {\"colorbar\": {\"outlinewidth\": 0, \"ticks\": \"\"}}, \"type\": \"scatterpolargl\"}], \"scatterternary\": [{\"marker\": {\"colorbar\": {\"outlinewidth\": 0, \"ticks\": \"\"}}, \"type\": \"scatterternary\"}], \"surface\": [{\"colorbar\": {\"outlinewidth\": 0, \"ticks\": \"\"}, \"colorscale\": [[0.0, \"#0d0887\"], [0.1111111111111111, \"#46039f\"], [0.2222222222222222, \"#7201a8\"], [0.3333333333333333, \"#9c179e\"], [0.4444444444444444, \"#bd3786\"], [0.5555555555555556, \"#d8576b\"], [0.6666666666666666, \"#ed7953\"], [0.7777777777777778, \"#fb9f3a\"], [0.8888888888888888, \"#fdca26\"], [1.0, \"#f0f921\"]], \"type\": \"surface\"}], \"table\": [{\"cells\": {\"fill\": {\"color\": \"#EBF0F8\"}, \"line\": {\"color\": \"white\"}}, \"header\": {\"fill\": {\"color\": \"#C8D4E3\"}, \"line\": {\"color\": \"white\"}}, \"type\": \"table\"}]}, \"layout\": {\"annotationdefaults\": {\"arrowcolor\": \"#2a3f5f\", \"arrowhead\": 0, \"arrowwidth\": 1}, \"coloraxis\": {\"colorbar\": {\"outlinewidth\": 0, \"ticks\": \"\"}}, \"colorscale\": {\"diverging\": [[0, \"#8e0152\"], [0.1, \"#c51b7d\"], [0.2, \"#de77ae\"], [0.3, \"#f1b6da\"], [0.4, \"#fde0ef\"], [0.5, \"#f7f7f7\"], [0.6, \"#e6f5d0\"], [0.7, \"#b8e186\"], [0.8, \"#7fbc41\"], [0.9, \"#4d9221\"], [1, \"#276419\"]], \"sequential\": [[0.0, \"#0d0887\"], [0.1111111111111111, \"#46039f\"], [0.2222222222222222, \"#7201a8\"], [0.3333333333333333, \"#9c179e\"], [0.4444444444444444, \"#bd3786\"], [0.5555555555555556, \"#d8576b\"], [0.6666666666666666, \"#ed7953\"], [0.7777777777777778, \"#fb9f3a\"], [0.8888888888888888, \"#fdca26\"], [1.0, \"#f0f921\"]], \"sequentialminus\": [[0.0, \"#0d0887\"], [0.1111111111111111, \"#46039f\"], [0.2222222222222222, \"#7201a8\"], [0.3333333333333333, \"#9c179e\"], [0.4444444444444444, \"#bd3786\"], [0.5555555555555556, \"#d8576b\"], [0.6666666666666666, \"#ed7953\"], [0.7777777777777778, \"#fb9f3a\"], [0.8888888888888888, \"#fdca26\"], [1.0, \"#f0f921\"]]}, \"colorway\": [\"#636efa\", \"#EF553B\", \"#00cc96\", \"#ab63fa\", \"#FFA15A\", \"#19d3f3\", \"#FF6692\", \"#B6E880\", \"#FF97FF\", \"#FECB52\"], \"font\": {\"color\": \"#2a3f5f\"}, \"geo\": {\"bgcolor\": \"white\", \"lakecolor\": \"white\", \"landcolor\": \"#E5ECF6\", \"showlakes\": true, \"showland\": true, \"subunitcolor\": \"white\"}, \"hoverlabel\": {\"align\": \"left\"}, \"hovermode\": \"closest\", \"mapbox\": {\"style\": \"light\"}, \"paper_bgcolor\": \"white\", \"plot_bgcolor\": \"#E5ECF6\", \"polar\": {\"angularaxis\": {\"gridcolor\": \"white\", \"linecolor\": \"white\", \"ticks\": \"\"}, \"bgcolor\": \"#E5ECF6\", \"radialaxis\": {\"gridcolor\": \"white\", \"linecolor\": \"white\", \"ticks\": \"\"}}, \"scene\": {\"xaxis\": {\"backgroundcolor\": \"#E5ECF6\", \"gridcolor\": \"white\", \"gridwidth\": 2, \"linecolor\": \"white\", \"showbackground\": true, \"ticks\": \"\", \"zerolinecolor\": \"white\"}, \"yaxis\": {\"backgroundcolor\": \"#E5ECF6\", \"gridcolor\": \"white\", \"gridwidth\": 2, \"linecolor\": \"white\", \"showbackground\": true, \"ticks\": \"\", \"zerolinecolor\": \"white\"}, \"zaxis\": {\"backgroundcolor\": \"#E5ECF6\", \"gridcolor\": \"white\", \"gridwidth\": 2, \"linecolor\": \"white\", \"showbackground\": true, \"ticks\": \"\", \"zerolinecolor\": \"white\"}}, \"shapedefaults\": {\"line\": {\"color\": \"#2a3f5f\"}}, \"ternary\": {\"aaxis\": {\"gridcolor\": \"white\", \"linecolor\": \"white\", \"ticks\": \"\"}, \"baxis\": {\"gridcolor\": \"white\", \"linecolor\": \"white\", \"ticks\": \"\"}, \"bgcolor\": \"#E5ECF6\", \"caxis\": {\"gridcolor\": \"white\", \"linecolor\": \"white\", \"ticks\": \"\"}}, \"title\": {\"x\": 0.05}, \"xaxis\": {\"automargin\": true, \"gridcolor\": \"white\", \"linecolor\": \"white\", \"ticks\": \"\", \"title\": {\"standoff\": 15}, \"zerolinecolor\": \"white\", \"zerolinewidth\": 2}, \"yaxis\": {\"automargin\": true, \"gridcolor\": \"white\", \"linecolor\": \"white\", \"ticks\": \"\", \"title\": {\"standoff\": 15}, \"zerolinecolor\": \"white\", \"zerolinewidth\": 2}}}, \"xaxis\": {\"anchor\": \"y\", \"domain\": [0.0, 1.0], \"title\": {\"text\": \"0\"}}, \"yaxis\": {\"anchor\": \"x\", \"domain\": [0.0, 1.0], \"title\": {\"text\": \"1\"}}},\n",
       "                        {\"responsive\": true}\n",
       "                    ).then(function(){\n",
       "                            \n",
       "var gd = document.getElementById('2f43c228-bcf6-46b4-8695-2b015c7e0b0d');\n",
       "var x = new MutationObserver(function (mutations, observer) {{\n",
       "        var display = window.getComputedStyle(gd).display;\n",
       "        if (!display || display === 'none') {{\n",
       "            console.log([gd, 'removed!']);\n",
       "            Plotly.purge(gd);\n",
       "            observer.disconnect();\n",
       "        }}\n",
       "}});\n",
       "\n",
       "// Listen for the removal of the full notebook cells\n",
       "var notebookContainer = gd.closest('#notebook-container');\n",
       "if (notebookContainer) {{\n",
       "    x.observe(notebookContainer, {childList: true});\n",
       "}}\n",
       "\n",
       "// Listen for the clearing of the current output cell\n",
       "var outputEl = gd.closest('.output');\n",
       "if (outputEl) {{\n",
       "    x.observe(outputEl, {childList: true});\n",
       "}}\n",
       "\n",
       "                        })\n",
       "                };\n",
       "                });\n",
       "            </script>\n",
       "        </div>"
      ]
     },
     "metadata": {},
     "output_type": "display_data"
    }
   ],
   "source": [
    "import plotly.express as px\n",
    "\n",
    "components = pcabb.fit_transform(tBrands)\n",
    "fig = px.scatter(components, x=0, y=1) , color=df['species']\n",
    "fig.show()"
   ]
  }
 ],
 "metadata": {
  "kernelspec": {
   "display_name": "Python 3",
   "language": "python",
   "name": "python3"
  },
  "language_info": {
   "codemirror_mode": {
    "name": "ipython",
    "version": 3
   },
   "file_extension": ".py",
   "mimetype": "text/x-python",
   "name": "python",
   "nbconvert_exporter": "python",
   "pygments_lexer": "ipython3",
   "version": "3.7.1"
  }
 },
 "nbformat": 4,
 "nbformat_minor": 2
}
