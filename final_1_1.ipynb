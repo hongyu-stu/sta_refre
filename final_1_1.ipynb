{
  "nbformat": 4,
  "nbformat_minor": 0,
  "metadata": {
    "colab": {
      "name": "final-1-1.ipynb",
      "provenance": [],
      "collapsed_sections": [
        "0GIuKcYLHRCb",
        "SAqzcmnbIazo"
      ],
      "toc_visible": true
    },
    "kernelspec": {
      "display_name": "Python 3",
      "language": "python",
      "name": "python3"
    },
    "language_info": {
      "codemirror_mode": {
        "name": "ipython",
        "version": 3
      },
      "file_extension": ".py",
      "mimetype": "text/x-python",
      "name": "python",
      "nbconvert_exporter": "python",
      "pygments_lexer": "ipython3",
      "version": "3.8.3"
    }
  },
  "cells": [
    {
      "cell_type": "markdown",
      "metadata": {
        "id": "0GIuKcYLHRCb"
      },
      "source": [
        "# Question 1"
      ]
    },
    {
      "cell_type": "code",
      "metadata": {
        "id": "YrC4qAyNXpOA"
      },
      "source": [
        "import pandas as pd\n"
      ],
      "execution_count": null,
      "outputs": []
    },
    {
      "cell_type": "code",
      "metadata": {
        "id": "F15mkj7Zg-LP"
      },
      "source": [
        "import matplotlib.pyplot as plt"
      ],
      "execution_count": null,
      "outputs": []
    },
    {
      "cell_type": "code",
      "metadata": {
        "colab": {
          "base_uri": "https://localhost:8080/"
        },
        "id": "vfajgN8zE2D_",
        "outputId": "d288c829-c9ab-412a-82e7-b89eefe53a73"
      },
      "source": [
        "from google.colab import drive\n",
        "drive.mount('/content/drive')"
      ],
      "execution_count": null,
      "outputs": [
        {
          "output_type": "stream",
          "text": [
            "Mounted at /content/drive\n"
          ],
          "name": "stdout"
        }
      ]
    },
    {
      "cell_type": "code",
      "metadata": {
        "id": "A7ia_5u4WdJ6"
      },
      "source": [
        "fox=pd.read_csv(\"/content/drive/Shareddrives/sta/20200907_FOX_ridehailingdata_012020.csv\")"
      ],
      "execution_count": null,
      "outputs": []
    },
    {
      "cell_type": "markdown",
      "metadata": {
        "id": "MnWcsHsuFf20"
      },
      "source": [
        ""
      ]
    },
    {
      "cell_type": "code",
      "metadata": {
        "colab": {
          "base_uri": "https://localhost:8080/",
          "height": 214
        },
        "id": "g8claZS-YyAY",
        "outputId": "75221978-2f3a-4f55-d106-bc75eb52235a"
      },
      "source": [
        "fox.head()"
      ],
      "execution_count": null,
      "outputs": [
        {
          "output_type": "execute_result",
          "data": {
            "text/html": [
              "<div>\n",
              "<style scoped>\n",
              "    .dataframe tbody tr th:only-of-type {\n",
              "        vertical-align: middle;\n",
              "    }\n",
              "\n",
              "    .dataframe tbody tr th {\n",
              "        vertical-align: top;\n",
              "    }\n",
              "\n",
              "    .dataframe thead th {\n",
              "        text-align: right;\n",
              "    }\n",
              "</style>\n",
              "<table border=\"1\" class=\"dataframe\">\n",
              "  <thead>\n",
              "    <tr style=\"text-align: right;\">\n",
              "      <th></th>\n",
              "      <th>merchant_name</th>\n",
              "      <th>total_paid</th>\n",
              "      <th>promo</th>\n",
              "      <th>duration</th>\n",
              "      <th>distance</th>\n",
              "      <th>email_date</th>\n",
              "      <th>email_time</th>\n",
              "      <th>departure_date</th>\n",
              "      <th>departure_time</th>\n",
              "      <th>arrival_date</th>\n",
              "      <th>arrival_time</th>\n",
              "      <th>departure_address_latitude</th>\n",
              "      <th>departure_address_longitude</th>\n",
              "      <th>arrival_address_latitude</th>\n",
              "      <th>arrival_address_longitude</th>\n",
              "      <th>product_class</th>\n",
              "    </tr>\n",
              "  </thead>\n",
              "  <tbody>\n",
              "    <tr>\n",
              "      <th>0</th>\n",
              "      <td>g7</td>\n",
              "      <td>44.7</td>\n",
              "      <td>0.0</td>\n",
              "      <td>NaN</td>\n",
              "      <td>NaN</td>\n",
              "      <td>2020-01-17</td>\n",
              "      <td>16:55:00</td>\n",
              "      <td>NaN</td>\n",
              "      <td>16:15:00</td>\n",
              "      <td>NaN</td>\n",
              "      <td>NaN</td>\n",
              "      <td>48.83</td>\n",
              "      <td>2.52</td>\n",
              "      <td>48.84</td>\n",
              "      <td>2.31</td>\n",
              "      <td>g7</td>\n",
              "    </tr>\n",
              "    <tr>\n",
              "      <th>1</th>\n",
              "      <td>g7</td>\n",
              "      <td>29.1</td>\n",
              "      <td>0.0</td>\n",
              "      <td>NaN</td>\n",
              "      <td>NaN</td>\n",
              "      <td>2020-01-17</td>\n",
              "      <td>22:35:00</td>\n",
              "      <td>NaN</td>\n",
              "      <td>22:08:00</td>\n",
              "      <td>NaN</td>\n",
              "      <td>NaN</td>\n",
              "      <td>NaN</td>\n",
              "      <td>NaN</td>\n",
              "      <td>NaN</td>\n",
              "      <td>NaN</td>\n",
              "      <td>g7connect</td>\n",
              "    </tr>\n",
              "    <tr>\n",
              "      <th>2</th>\n",
              "      <td>g7</td>\n",
              "      <td>79.9</td>\n",
              "      <td>0.0</td>\n",
              "      <td>NaN</td>\n",
              "      <td>NaN</td>\n",
              "      <td>2020-01-17</td>\n",
              "      <td>07:55:00</td>\n",
              "      <td>NaN</td>\n",
              "      <td>06:17:00</td>\n",
              "      <td>NaN</td>\n",
              "      <td>07:48:00</td>\n",
              "      <td>NaN</td>\n",
              "      <td>NaN</td>\n",
              "      <td>48.90</td>\n",
              "      <td>2.27</td>\n",
              "      <td>g7</td>\n",
              "    </tr>\n",
              "    <tr>\n",
              "      <th>3</th>\n",
              "      <td>g7</td>\n",
              "      <td>9.1</td>\n",
              "      <td>0.0</td>\n",
              "      <td>NaN</td>\n",
              "      <td>NaN</td>\n",
              "      <td>2020-01-17</td>\n",
              "      <td>21:54:00</td>\n",
              "      <td>NaN</td>\n",
              "      <td>21:33:00</td>\n",
              "      <td>NaN</td>\n",
              "      <td>NaN</td>\n",
              "      <td>48.85</td>\n",
              "      <td>2.43</td>\n",
              "      <td>NaN</td>\n",
              "      <td>NaN</td>\n",
              "      <td>g7</td>\n",
              "    </tr>\n",
              "    <tr>\n",
              "      <th>4</th>\n",
              "      <td>g7</td>\n",
              "      <td>53.6</td>\n",
              "      <td>0.0</td>\n",
              "      <td>NaN</td>\n",
              "      <td>NaN</td>\n",
              "      <td>2020-01-17</td>\n",
              "      <td>08:41:00</td>\n",
              "      <td>NaN</td>\n",
              "      <td>07:49:00</td>\n",
              "      <td>NaN</td>\n",
              "      <td>08:43:00</td>\n",
              "      <td>48.89</td>\n",
              "      <td>2.41</td>\n",
              "      <td>NaN</td>\n",
              "      <td>NaN</td>\n",
              "      <td>g7</td>\n",
              "    </tr>\n",
              "  </tbody>\n",
              "</table>\n",
              "</div>"
            ],
            "text/plain": [
              "  merchant_name  total_paid  ...  arrival_address_longitude product_class\n",
              "0            g7        44.7  ...                       2.31            g7\n",
              "1            g7        29.1  ...                        NaN     g7connect\n",
              "2            g7        79.9  ...                       2.27            g7\n",
              "3            g7         9.1  ...                        NaN            g7\n",
              "4            g7        53.6  ...                        NaN            g7\n",
              "\n",
              "[5 rows x 16 columns]"
            ]
          },
          "metadata": {
            "tags": []
          },
          "execution_count": 5
        }
      ]
    },
    {
      "cell_type": "code",
      "metadata": {
        "id": "au7soDf5gP-a"
      },
      "source": [
        ""
      ],
      "execution_count": null,
      "outputs": []
    },
    {
      "cell_type": "code",
      "metadata": {
        "colab": {
          "base_uri": "https://localhost:8080/",
          "height": 282
        },
        "id": "l-OI1T5FfN3X",
        "outputId": "44fd249d-9ce7-483d-fe21-aef923f9a403"
      },
      "source": [
        "fox.describe()\n"
      ],
      "execution_count": null,
      "outputs": [
        {
          "output_type": "execute_result",
          "data": {
            "text/html": [
              "<div>\n",
              "<style scoped>\n",
              "    .dataframe tbody tr th:only-of-type {\n",
              "        vertical-align: middle;\n",
              "    }\n",
              "\n",
              "    .dataframe tbody tr th {\n",
              "        vertical-align: top;\n",
              "    }\n",
              "\n",
              "    .dataframe thead th {\n",
              "        text-align: right;\n",
              "    }\n",
              "</style>\n",
              "<table border=\"1\" class=\"dataframe\">\n",
              "  <thead>\n",
              "    <tr style=\"text-align: right;\">\n",
              "      <th></th>\n",
              "      <th>total_paid</th>\n",
              "      <th>promo</th>\n",
              "      <th>distance</th>\n",
              "      <th>departure_address_latitude</th>\n",
              "      <th>departure_address_longitude</th>\n",
              "      <th>arrival_address_latitude</th>\n",
              "      <th>arrival_address_longitude</th>\n",
              "    </tr>\n",
              "  </thead>\n",
              "  <tbody>\n",
              "    <tr>\n",
              "      <th>count</th>\n",
              "      <td>31815.000000</td>\n",
              "      <td>31815.000000</td>\n",
              "      <td>27644.000000</td>\n",
              "      <td>31341.000000</td>\n",
              "      <td>31341.000000</td>\n",
              "      <td>31189.000000</td>\n",
              "      <td>31189.000000</td>\n",
              "    </tr>\n",
              "    <tr>\n",
              "      <th>mean</th>\n",
              "      <td>18.988601</td>\n",
              "      <td>0.483133</td>\n",
              "      <td>7.170960</td>\n",
              "      <td>48.342012</td>\n",
              "      <td>2.508062</td>\n",
              "      <td>48.353069</td>\n",
              "      <td>2.500512</td>\n",
              "    </tr>\n",
              "    <tr>\n",
              "      <th>std</th>\n",
              "      <td>14.185427</td>\n",
              "      <td>1.987083</td>\n",
              "      <td>7.647575</td>\n",
              "      <td>1.546082</td>\n",
              "      <td>1.401932</td>\n",
              "      <td>1.535332</td>\n",
              "      <td>1.450660</td>\n",
              "    </tr>\n",
              "    <tr>\n",
              "      <th>min</th>\n",
              "      <td>0.000000</td>\n",
              "      <td>0.000000</td>\n",
              "      <td>0.000000</td>\n",
              "      <td>38.690000</td>\n",
              "      <td>-9.440000</td>\n",
              "      <td>38.650000</td>\n",
              "      <td>-9.380000</td>\n",
              "    </tr>\n",
              "    <tr>\n",
              "      <th>25%</th>\n",
              "      <td>9.710000</td>\n",
              "      <td>0.000000</td>\n",
              "      <td>2.570000</td>\n",
              "      <td>48.820000</td>\n",
              "      <td>2.290000</td>\n",
              "      <td>48.820000</td>\n",
              "      <td>2.290000</td>\n",
              "    </tr>\n",
              "    <tr>\n",
              "      <th>50%</th>\n",
              "      <td>15.000000</td>\n",
              "      <td>0.000000</td>\n",
              "      <td>5.070000</td>\n",
              "      <td>48.850000</td>\n",
              "      <td>2.340000</td>\n",
              "      <td>48.850000</td>\n",
              "      <td>2.340000</td>\n",
              "    </tr>\n",
              "    <tr>\n",
              "      <th>75%</th>\n",
              "      <td>23.940000</td>\n",
              "      <td>0.000000</td>\n",
              "      <td>8.990000</td>\n",
              "      <td>48.880000</td>\n",
              "      <td>2.380000</td>\n",
              "      <td>48.880000</td>\n",
              "      <td>2.390000</td>\n",
              "    </tr>\n",
              "    <tr>\n",
              "      <th>max</th>\n",
              "      <td>219.800000</td>\n",
              "      <td>81.100000</td>\n",
              "      <td>143.030000</td>\n",
              "      <td>54.770000</td>\n",
              "      <td>25.270000</td>\n",
              "      <td>54.680000</td>\n",
              "      <td>25.280000</td>\n",
              "    </tr>\n",
              "  </tbody>\n",
              "</table>\n",
              "</div>"
            ],
            "text/plain": [
              "         total_paid  ...  arrival_address_longitude\n",
              "count  31815.000000  ...               31189.000000\n",
              "mean      18.988601  ...                   2.500512\n",
              "std       14.185427  ...                   1.450660\n",
              "min        0.000000  ...                  -9.380000\n",
              "25%        9.710000  ...                   2.290000\n",
              "50%       15.000000  ...                   2.340000\n",
              "75%       23.940000  ...                   2.390000\n",
              "max      219.800000  ...                  25.280000\n",
              "\n",
              "[8 rows x 7 columns]"
            ]
          },
          "metadata": {
            "tags": []
          },
          "execution_count": 6
        }
      ]
    },
    {
      "cell_type": "markdown",
      "metadata": {
        "id": "SAqzcmnbIazo"
      },
      "source": [
        "# Question 2"
      ]
    },
    {
      "cell_type": "code",
      "metadata": {
        "colab": {
          "base_uri": "https://localhost:8080/"
        },
        "id": "IlaO8UbTgJKD",
        "outputId": "8d88bd7d-0e01-4827-ab07-5fb7ac6e190f"
      },
      "source": [
        "fox.isnull().sum()"
      ],
      "execution_count": null,
      "outputs": [
        {
          "output_type": "execute_result",
          "data": {
            "text/plain": [
              "merchant_name                      0\n",
              "total_paid                         0\n",
              "promo                              0\n",
              "duration                        8362\n",
              "distance                        4171\n",
              "email_date                         0\n",
              "email_time                         0\n",
              "departure_date                 27396\n",
              "departure_time                  1516\n",
              "arrival_date                   30731\n",
              "arrival_time                    1162\n",
              "departure_address_latitude       474\n",
              "departure_address_longitude      474\n",
              "arrival_address_latitude         626\n",
              "arrival_address_longitude        626\n",
              "product_class                   8594\n",
              "dtype: int64"
            ]
          },
          "metadata": {
            "tags": []
          },
          "execution_count": 7
        }
      ]
    },
    {
      "cell_type": "markdown",
      "metadata": {
        "id": "hPGBGQpaQTqN"
      },
      "source": [
        "**Interpretation: **Training a model with a dataset that has missing values can drastically impact the machine learning model's quality. Some algorithms such as scikit-learn estimators assume that all values are numerical and have and hold meaningful value. Therefore, the inconsistent and discrete value, such as NaN, can not be processed by regression models."
      ]
    },
    {
      "cell_type": "markdown",
      "metadata": {
        "id": "beUSYHB6HpzZ"
      },
      "source": [
        "# Question 3"
      ]
    },
    {
      "cell_type": "code",
      "metadata": {
        "id": "qRvMgoomgamE"
      },
      "source": [
        "fox_total_paid=fox[\"total_paid\"]"
      ],
      "execution_count": null,
      "outputs": []
    },
    {
      "cell_type": "code",
      "metadata": {
        "colab": {
          "base_uri": "https://localhost:8080/",
          "height": 281
        },
        "id": "avQ6_kr-g40B",
        "outputId": "4226d368-255a-40fc-83bb-c01071b046c5"
      },
      "source": [
        "plt.boxplot(fox_total_paid)\n",
        "plt.title(\"total paid box\")\n",
        "plt.show()"
      ],
      "execution_count": null,
      "outputs": [
        {
          "output_type": "display_data",
          "data": {
            "image/png": "[encoded data removed]",
            "text/plain": [
              "<Figure size 432x288 with 1 Axes>"
            ]
          },
          "metadata": {
            "tags": [],
            "needs_background": "light"
          }
        }
      ]
    },
    {
      "cell_type": "code",
      "metadata": {
        "colab": {
          "base_uri": "https://localhost:8080/",
          "height": 281
        },
        "id": "JfCkbkm6h6V1",
        "outputId": "fbd5628c-fdcf-4cab-9414-e29270836e30"
      },
      "source": [
        "plt.hist(fox_total_paid)\n",
        "plt.title(\"total paid hist\")\n",
        "\n",
        "plt.show()"
      ],
      "execution_count": null,
      "outputs": [
        {
          "output_type": "display_data",
          "data": {
            "image/png": "[encoded data removed]",
            "text/plain": [
              "<Figure size 432x288 with 1 Axes>"
            ]
          },
          "metadata": {
            "tags": [],
            "needs_background": "light"
          }
        }
      ]
    },
    {
      "cell_type": "code",
      "metadata": {
        "id": "OR3BkMY5jm9h"
      },
      "source": [
        "fox_paiddeciles= pd.qcut(fox[\"total_paid\"], q=10,duplicates='drop')"
      ],
      "execution_count": null,
      "outputs": []
    },
    {
      "cell_type": "markdown",
      "metadata": {
        "id": "USmxd18nQeas"
      },
      "source": [
        "**Interpretation:** for total paid, the amount of the most payments are mainly restircted between 0 and 50, only a small proportion of the total paid is beyond 50 euro. and from the box plot is to conclude, there are a lot of outliers beyond the maximum Q3+1.5IQR, some extreme are above 200."
      ]
    },
    {
      "cell_type": "markdown",
      "metadata": {
        "id": "asfwR5-fHwCN"
      },
      "source": [
        "# Question 4"
      ]
    },
    {
      "cell_type": "code",
      "metadata": {
        "colab": {
          "base_uri": "https://localhost:8080/",
          "height": 299
        },
        "id": "T2DzzGTzndOQ",
        "outputId": "c42f92fb-aaa4-4133-8489-c0077a565397"
      },
      "source": [
        "pd.crosstab(fox[\"merchant_name\"],fox_paiddeciles)\n"
      ],
      "execution_count": null,
      "outputs": [
        {
          "output_type": "execute_result",
          "data": {
            "text/html": [
              "<div>\n",
              "<style scoped>\n",
              "    .dataframe tbody tr th:only-of-type {\n",
              "        vertical-align: middle;\n",
              "    }\n",
              "\n",
              "    .dataframe tbody tr th {\n",
              "        vertical-align: top;\n",
              "    }\n",
              "\n",
              "    .dataframe thead th {\n",
              "        text-align: right;\n",
              "    }\n",
              "</style>\n",
              "<table border=\"1\" class=\"dataframe\">\n",
              "  <thead>\n",
              "    <tr style=\"text-align: right;\">\n",
              "      <th>total_paid</th>\n",
              "      <th>(-0.001, 6.74]</th>\n",
              "      <th>(6.74, 8.75]</th>\n",
              "      <th>(8.75, 10.68]</th>\n",
              "      <th>(10.68, 12.696]</th>\n",
              "      <th>(12.696, 15.0]</th>\n",
              "      <th>(15.0, 17.88]</th>\n",
              "      <th>(17.88, 21.64]</th>\n",
              "      <th>(21.64, 26.7]</th>\n",
              "      <th>(26.7, 36.176]</th>\n",
              "      <th>(36.176, 219.8]</th>\n",
              "    </tr>\n",
              "    <tr>\n",
              "      <th>merchant_name</th>\n",
              "      <th></th>\n",
              "      <th></th>\n",
              "      <th></th>\n",
              "      <th></th>\n",
              "      <th></th>\n",
              "      <th></th>\n",
              "      <th></th>\n",
              "      <th></th>\n",
              "      <th></th>\n",
              "      <th></th>\n",
              "    </tr>\n",
              "  </thead>\n",
              "  <tbody>\n",
              "    <tr>\n",
              "      <th>bolt</th>\n",
              "      <td>135</td>\n",
              "      <td>206</td>\n",
              "      <td>179</td>\n",
              "      <td>195</td>\n",
              "      <td>203</td>\n",
              "      <td>148</td>\n",
              "      <td>143</td>\n",
              "      <td>123</td>\n",
              "      <td>135</td>\n",
              "      <td>99</td>\n",
              "    </tr>\n",
              "    <tr>\n",
              "      <th>g7</th>\n",
              "      <td>1</td>\n",
              "      <td>12</td>\n",
              "      <td>28</td>\n",
              "      <td>52</td>\n",
              "      <td>78</td>\n",
              "      <td>126</td>\n",
              "      <td>207</td>\n",
              "      <td>233</td>\n",
              "      <td>294</td>\n",
              "      <td>481</td>\n",
              "    </tr>\n",
              "    <tr>\n",
              "      <th>heetch</th>\n",
              "      <td>102</td>\n",
              "      <td>198</td>\n",
              "      <td>135</td>\n",
              "      <td>145</td>\n",
              "      <td>162</td>\n",
              "      <td>140</td>\n",
              "      <td>155</td>\n",
              "      <td>173</td>\n",
              "      <td>156</td>\n",
              "      <td>112</td>\n",
              "    </tr>\n",
              "    <tr>\n",
              "      <th>kapten</th>\n",
              "      <td>501</td>\n",
              "      <td>533</td>\n",
              "      <td>479</td>\n",
              "      <td>530</td>\n",
              "      <td>537</td>\n",
              "      <td>531</td>\n",
              "      <td>591</td>\n",
              "      <td>574</td>\n",
              "      <td>527</td>\n",
              "      <td>498</td>\n",
              "    </tr>\n",
              "    <tr>\n",
              "      <th>lecab</th>\n",
              "      <td>0</td>\n",
              "      <td>0</td>\n",
              "      <td>0</td>\n",
              "      <td>2</td>\n",
              "      <td>1</td>\n",
              "      <td>0</td>\n",
              "      <td>4</td>\n",
              "      <td>6</td>\n",
              "      <td>6</td>\n",
              "      <td>19</td>\n",
              "    </tr>\n",
              "    <tr>\n",
              "      <th>marcel</th>\n",
              "      <td>29</td>\n",
              "      <td>9</td>\n",
              "      <td>7</td>\n",
              "      <td>20</td>\n",
              "      <td>21</td>\n",
              "      <td>10</td>\n",
              "      <td>16</td>\n",
              "      <td>24</td>\n",
              "      <td>26</td>\n",
              "      <td>34</td>\n",
              "    </tr>\n",
              "    <tr>\n",
              "      <th>uber</th>\n",
              "      <td>2423</td>\n",
              "      <td>2223</td>\n",
              "      <td>2356</td>\n",
              "      <td>2226</td>\n",
              "      <td>2192</td>\n",
              "      <td>2221</td>\n",
              "      <td>2063</td>\n",
              "      <td>2048</td>\n",
              "      <td>2033</td>\n",
              "      <td>1939</td>\n",
              "    </tr>\n",
              "  </tbody>\n",
              "</table>\n",
              "</div>"
            ],
            "text/plain": [
              "total_paid     (-0.001, 6.74]  (6.74, 8.75]  ...  (26.7, 36.176]  (36.176, 219.8]\n",
              "merchant_name                                ...                                 \n",
              "bolt                      135           206  ...             135               99\n",
              "g7                          1            12  ...             294              481\n",
              "heetch                    102           198  ...             156              112\n",
              "kapten                    501           533  ...             527              498\n",
              "lecab                       0             0  ...               6               19\n",
              "marcel                     29             9  ...              26               34\n",
              "uber                     2423          2223  ...            2033             1939\n",
              "\n",
              "[7 rows x 10 columns]"
            ]
          },
          "metadata": {
            "tags": []
          },
          "execution_count": 12
        }
      ]
    },
    {
      "cell_type": "code",
      "metadata": {
        "colab": {
          "base_uri": "https://localhost:8080/",
          "height": 801
        },
        "id": "l8v-MgDg7pO1",
        "outputId": "475e8fc9-9a5a-418c-91e7-8830a76ec405"
      },
      "source": [
        "#question 4\n",
        "import numpy as np\n",
        "f,axes=plt.subplots(3,3, figsize=(20, 13))\n",
        "f.suptitle(\"Total paid per company\", y=0.93)\n",
        "names=np.unique(fox[\"merchant_name\"])\n",
        "for i in range(len(names)):\n",
        "  totalpaid=fox[fox[\"merchant_name\"].isin([names[i]])][\"total_paid\"]\n",
        "  totalpaid.plot.hist(ax=axes[int(i/3),i%3], color='b', alpha = 0.5)\n",
        "  axes[int(i/3),i%3].set_title(names[i])\n",
        "plt.show()\n"
      ],
      "execution_count": null,
      "outputs": [
        {
          "output_type": "display_data",
          "data": {
            "image/png": "[encoded data removed]",
            "text/plain": [
              "<Figure size 1440x936 with 9 Axes>"
            ]
          },
          "metadata": {
            "tags": [],
            "needs_background": "light"
          }
        }
      ]
    },
    {
      "cell_type": "markdown",
      "metadata": {
        "id": "oeaM1HbSkvx5"
      },
      "source": [
        "**Interpretation: **\n",
        "Uber occupies the most portion among all ride hailing.\n",
        "Most people paid less than 20 euros for their travel.\n",
        "And the expenses for the ridehailing are mostly distributed between 0 and 40 euros. Specifically, we can find that the frequency of total paid amount also varies among different companies. for example, \n",
        "for lecab, marcel as well as g7, the total paid amounts are relatively averagely distributed, while the total paid amounts of Uber and Kapten are heavily distributed in lower price level, which implies probably the different pricing, positioning or user preference of these ridehailing companies.\n"
      ]
    },
    {
      "cell_type": "markdown",
      "metadata": {
        "id": "7LsmyGVMH-ZS"
      },
      "source": [
        "# Question 5"
      ]
    },
    {
      "cell_type": "code",
      "metadata": {
        "colab": {
          "base_uri": "https://localhost:8080/",
          "height": 801
        },
        "id": "-zfMfSL5JPYE",
        "outputId": "c8ab6fb5-00b4-4218-d71d-1213406d87b9"
      },
      "source": [
        "R = 6373.0\n",
        "import math\n",
        "distance2=[]\n",
        "for i in range(len(fox[\"departure_address_latitude\"])):\n",
        "  lat1 = math.radians(fox[\"departure_address_latitude\"][i])\n",
        "  lon1 = math.radians(fox[\"departure_address_longitude\"][i])\n",
        "  lat2 = math.radians(fox[\"arrival_address_latitude\"][i])\n",
        "  lon2 = math.radians(fox[\"arrival_address_longitude\"][i])\n",
        "  dlon = lon2 - lon1\n",
        "  dlat = lat2 - lat1\n",
        "  a = math.sin(dlat / 2)**2 + math.cos(lat1) * math.cos(lat2) * math.sin(dlon / 2)**2\n",
        "  c = 2 * math.atan2(math.sqrt(a), math.sqrt(1 - a))\n",
        "  distance = R * c\n",
        "  distance2.append(distance)\n",
        "fox[\"distance2\"] = distance2\n",
        "fox[\"distance2\"] = np.where(fox[\"distance2\"] > 100, np.NaN, fox[\"distance2\"])\n",
        "fox[\"distance2\"] = np.where(fox[\"distance2\"] <=0, np.NaN, fox[\"distance2\"])\n",
        "\n",
        "f,axes=plt.subplots(3,3, figsize=(20, 13))\n",
        "f.suptitle(\"distance2 each company\", y=0.93)\n",
        "for i in range(len(names)):\n",
        "  distance_floats=fox[fox[\"merchant_name\"].isin([names[i]])][\"distance2\"]\n",
        "  distance_floats.plot.hist(ax=axes[int(i/3),i%3], color='b', alpha = 0.5)\n",
        "  axes[int(i/3),i%3].set_title(names[i])\n",
        "plt.show()\n",
        "\n"
      ],
      "execution_count": null,
      "outputs": [
        {
          "output_type": "display_data",
          "data": {
            "image/png": "[encoded data removed]",
            "text/plain": [
              "<Figure size 1440x936 with 9 Axes>"
            ]
          },
          "metadata": {
            "tags": [],
            "needs_background": "light"
          }
        }
      ]
    },
    {
      "cell_type": "markdown",
      "metadata": {
        "id": "EZc6_2WPKqnK"
      },
      "source": [
        "**Interpretation:** from the histograms about the travel distance, we can find that the travel distances are almost under 20km, or more accurately, are mostly under 10 km. We can deduce from these statistcs that customers are prone to use ridehailing for short distance travel. The reason behind this phenomenon can be the higher price relative to public transport or the convenience of the metro and bus.\r\n"
      ]
    },
    {
      "cell_type": "markdown",
      "metadata": {
        "id": "ZNoIXPr2IH1S"
      },
      "source": [
        "# Question 6"
      ]
    },
    {
      "cell_type": "code",
      "metadata": {
        "colab": {
          "base_uri": "https://localhost:8080/",
          "height": 801
        },
        "id": "GqDPE6Jpqegy",
        "outputId": "5971fd5d-579a-4a83-ace9-91ce1ff3f048"
      },
      "source": [
        "\n",
        "a = pd.to_datetime(fox['arrival_time'])\n",
        "b = pd.to_datetime(fox['departure_time'])\n",
        "c = a - b\n",
        "\n",
        "from datetime import timedelta\n",
        "fox[\"duration2\"]= c / timedelta(minutes=1)\n",
        "fox[\"duration2\"] = np.where(fox[\"duration2\"] <= 0, fox[\"duration2\"]+1440, fox[\"duration2\"])\n",
        "fox[\"duration2\"] = np.where(fox[\"duration2\"] > 500, np.NaN, fox[\"duration2\"])\n",
        "\n",
        "\n",
        "f,axes=plt.subplots(3,3, figsize=(20, 13))\n",
        "f.suptitle(\"duration2 each company\", y=0.93)\n",
        "\n",
        "for i in range(len(names)):\n",
        "  duration2=fox[fox[\"merchant_name\"].isin([names[i]])][\"duration2\"]\n",
        "  duration2.plot.hist(ax=axes[int(i/3),i%3], color='b', alpha = 0.5)\n",
        "  axes[int(i/3),i%3].set_title(names[i])\n",
        "plt.show()"
      ],
      "execution_count": null,
      "outputs": [
        {
          "output_type": "display_data",
          "data": {
            "image/png": "[encoded data removed]",
            "text/plain": [
              "<Figure size 1440x936 with 9 Axes>"
            ]
          },
          "metadata": {
            "tags": [],
            "needs_background": "light"
          }
        }
      ]
    },
    {
      "cell_type": "markdown",
      "metadata": {
        "id": "pG7YEwGxJ6QC"
      },
      "source": [
        "Interpretation: Computed the variable “duration2”, we can accurately observe how the duration of a ride is  comprised between 20 and 40 minutes for companies like Bolt and G7,probably because of the lower marginal cost. Uber and Kapten seem to be more successful in an other sector of the market. On brief distances and short runs, they apparently are more efficient, and consequently more attractive."
      ]
    },
    {
      "cell_type": "markdown",
      "metadata": {
        "id": "FYy8nM0aINhX"
      },
      "source": [
        "# Question 7"
      ]
    },
    {
      "cell_type": "code",
      "metadata": {
        "colab": {
          "base_uri": "https://localhost:8080/",
          "height": 801
        },
        "id": "WKIsYr8oF8oI",
        "outputId": "884b400e-a1a2-4263-916c-c0eac36bd8af"
      },
      "source": [
        "#question7(1)\n",
        "f,axes=plt.subplots(3,3, figsize=(20, 13))\n",
        "f.suptitle(\"duration2 each company\", y=0.93)\n",
        "names=np.unique(fox[\"merchant_name\"])\n",
        "for i in range(len(names)):\n",
        "  ax=axes[int(i/3),i%3]\n",
        "  duration2=fox[fox[\"merchant_name\"].isin([names[i]])][\"duration2\"]\n",
        "  ax.scatter(duration2,fox[fox[\"merchant_name\"].isin([names[i]])][\"total_paid\"])\n",
        "  axes[int(i/3),i%3].set_title(names[i])\n",
        "plt.show()\n",
        "\n"
      ],
      "execution_count": null,
      "outputs": [
        {
          "output_type": "display_data",
          "data": {
            "image/png": "[encoded data removed]",
            "text/plain": [
              "<Figure size 1440x936 with 9 Axes>"
            ]
          },
          "metadata": {
            "tags": [],
            "needs_background": "light"
          }
        }
      ]
    },
    {
      "cell_type": "code",
      "metadata": {
        "colab": {
          "base_uri": "https://localhost:8080/",
          "height": 801
        },
        "id": "jAC0q7KNQ7rV",
        "outputId": "e8cb7b7a-e254-4101-cb24-26b11a2ebe24"
      },
      "source": [
        "#question7(2)\n",
        "f,axes=plt.subplots(3,3, figsize=(20, 13))\n",
        "f.suptitle(\"distance2 each company\", y=0.93)\n",
        "names=np.unique(fox[\"merchant_name\"])\n",
        "for i in range(len(names)):\n",
        "  ax=axes[int(i/3),i%3]\n",
        "  distance2=fox[fox[\"merchant_name\"].isin([names[i]])][\"distance2\"]\n",
        "  ax.scatter(distance2,fox[fox[\"merchant_name\"].isin([names[i]])][\"total_paid\"])\n",
        "  axes[int(i/3),i%3].set_title(names[i])\n",
        "plt.show()\n"
      ],
      "execution_count": null,
      "outputs": [
        {
          "output_type": "display_data",
          "data": {
            "image/png": "[encoded data removed]",
            "text/plain": [
              "<Figure size 1440x936 with 9 Axes>"
            ]
          },
          "metadata": {
            "tags": [],
            "needs_background": "light"
          }
        }
      ]
    },
    {
      "cell_type": "markdown",
      "metadata": {
        "id": "9Gb2_HCqIWlN"
      },
      "source": [
        "# Question 8"
      ]
    },
    {
      "cell_type": "code",
      "metadata": {
        "id": "2tuDbwIaStgg",
        "colab": {
          "base_uri": "https://localhost:8080/",
          "height": 282
        },
        "outputId": "7051a31b-71e3-469b-e88e-d48163216f35"
      },
      "source": [
        "#qusetion8\n",
        "duration2_g7=fox[fox.merchant_name==\"g7\"].duration2\n",
        "distance2_g7=fox[fox.merchant_name==\"g7\"].distance2\n",
        "total_paid_g7=fox[fox.merchant_name==\"g7\"].total_paid\n",
        "frames=[duration2_g7,distance2_g7,total_paid_g7]\n",
        "g7=pd.concat(frames,axis=1)\n",
        "g7.columns=[\"duration2\",\"distance2\",\"total_paid\"]\n",
        "g7.describe()"
      ],
      "execution_count": null,
      "outputs": [
        {
          "output_type": "execute_result",
          "data": {
            "text/html": [
              "<div>\n",
              "<style scoped>\n",
              "    .dataframe tbody tr th:only-of-type {\n",
              "        vertical-align: middle;\n",
              "    }\n",
              "\n",
              "    .dataframe tbody tr th {\n",
              "        vertical-align: top;\n",
              "    }\n",
              "\n",
              "    .dataframe thead th {\n",
              "        text-align: right;\n",
              "    }\n",
              "</style>\n",
              "<table border=\"1\" class=\"dataframe\">\n",
              "  <thead>\n",
              "    <tr style=\"text-align: right;\">\n",
              "      <th></th>\n",
              "      <th>duration2</th>\n",
              "      <th>distance2</th>\n",
              "      <th>total_paid</th>\n",
              "    </tr>\n",
              "  </thead>\n",
              "  <tbody>\n",
              "    <tr>\n",
              "      <th>count</th>\n",
              "      <td>1073.000000</td>\n",
              "      <td>638.000000</td>\n",
              "      <td>1512.000000</td>\n",
              "    </tr>\n",
              "    <tr>\n",
              "      <th>mean</th>\n",
              "      <td>31.060578</td>\n",
              "      <td>6.723089</td>\n",
              "      <td>31.975384</td>\n",
              "    </tr>\n",
              "    <tr>\n",
              "      <th>std</th>\n",
              "      <td>16.044686</td>\n",
              "      <td>5.895573</td>\n",
              "      <td>17.384444</td>\n",
              "    </tr>\n",
              "    <tr>\n",
              "      <th>min</th>\n",
              "      <td>2.000000</td>\n",
              "      <td>0.731490</td>\n",
              "      <td>6.400000</td>\n",
              "    </tr>\n",
              "    <tr>\n",
              "      <th>25%</th>\n",
              "      <td>20.000000</td>\n",
              "      <td>3.336895</td>\n",
              "      <td>19.200000</td>\n",
              "    </tr>\n",
              "    <tr>\n",
              "      <th>50%</th>\n",
              "      <td>28.000000</td>\n",
              "      <td>5.125034</td>\n",
              "      <td>27.100000</td>\n",
              "    </tr>\n",
              "    <tr>\n",
              "      <th>75%</th>\n",
              "      <td>39.000000</td>\n",
              "      <td>8.122904</td>\n",
              "      <td>40.450000</td>\n",
              "    </tr>\n",
              "    <tr>\n",
              "      <th>max</th>\n",
              "      <td>120.000000</td>\n",
              "      <td>82.249513</td>\n",
              "      <td>129.000000</td>\n",
              "    </tr>\n",
              "  </tbody>\n",
              "</table>\n",
              "</div>"
            ],
            "text/plain": [
              "         duration2   distance2   total_paid\n",
              "count  1073.000000  638.000000  1512.000000\n",
              "mean     31.060578    6.723089    31.975384\n",
              "std      16.044686    5.895573    17.384444\n",
              "min       2.000000    0.731490     6.400000\n",
              "25%      20.000000    3.336895    19.200000\n",
              "50%      28.000000    5.125034    27.100000\n",
              "75%      39.000000    8.122904    40.450000\n",
              "max     120.000000   82.249513   129.000000"
            ]
          },
          "metadata": {
            "tags": []
          },
          "execution_count": 18
        }
      ]
    },
    {
      "cell_type": "code",
      "metadata": {
        "id": "cSfF8MFZxp6h",
        "colab": {
          "base_uri": "https://localhost:8080/",
          "height": 282
        },
        "outputId": "e96bd8db-0250-4c6e-f7bb-5a5ed933a91b"
      },
      "source": [
        "\n",
        "duration2_uber=fox[fox.merchant_name==\"uber\"].duration2\n",
        "\n",
        "distance2_uber=fox[fox.merchant_name==\"uber\"].distance2\n",
        "total_paid_uber=fox[fox.merchant_name==\"uber\"].total_paid\n",
        "frames1=[duration2_uber,distance2_uber,total_paid_uber]\n",
        "uber=pd.concat(frames1,axis=1)\n",
        "uber.columns=[\"duration2\",\"distance2\",\"total_paid\"]\n",
        "uber.describe()"
      ],
      "execution_count": null,
      "outputs": [
        {
          "output_type": "execute_result",
          "data": {
            "text/html": [
              "<div>\n",
              "<style scoped>\n",
              "    .dataframe tbody tr th:only-of-type {\n",
              "        vertical-align: middle;\n",
              "    }\n",
              "\n",
              "    .dataframe tbody tr th {\n",
              "        vertical-align: top;\n",
              "    }\n",
              "\n",
              "    .dataframe thead th {\n",
              "        text-align: right;\n",
              "    }\n",
              "</style>\n",
              "<table border=\"1\" class=\"dataframe\">\n",
              "  <thead>\n",
              "    <tr style=\"text-align: right;\">\n",
              "      <th></th>\n",
              "      <th>duration2</th>\n",
              "      <th>distance2</th>\n",
              "      <th>total_paid</th>\n",
              "    </tr>\n",
              "  </thead>\n",
              "  <tbody>\n",
              "    <tr>\n",
              "      <th>count</th>\n",
              "      <td>21459.000000</td>\n",
              "      <td>21372.000000</td>\n",
              "      <td>21724.000000</td>\n",
              "    </tr>\n",
              "    <tr>\n",
              "      <th>mean</th>\n",
              "      <td>19.710797</td>\n",
              "      <td>5.863477</td>\n",
              "      <td>18.277290</td>\n",
              "    </tr>\n",
              "    <tr>\n",
              "      <th>std</th>\n",
              "      <td>13.724099</td>\n",
              "      <td>5.788648</td>\n",
              "      <td>13.974138</td>\n",
              "    </tr>\n",
              "    <tr>\n",
              "      <th>min</th>\n",
              "      <td>1.000000</td>\n",
              "      <td>0.643067</td>\n",
              "      <td>0.000000</td>\n",
              "    </tr>\n",
              "    <tr>\n",
              "      <th>25%</th>\n",
              "      <td>11.000000</td>\n",
              "      <td>2.524798</td>\n",
              "      <td>9.417500</td>\n",
              "    </tr>\n",
              "    <tr>\n",
              "      <th>50%</th>\n",
              "      <td>17.000000</td>\n",
              "      <td>4.283984</td>\n",
              "      <td>14.330000</td>\n",
              "    </tr>\n",
              "    <tr>\n",
              "      <th>75%</th>\n",
              "      <td>25.000000</td>\n",
              "      <td>6.947861</td>\n",
              "      <td>22.960000</td>\n",
              "    </tr>\n",
              "    <tr>\n",
              "      <th>max</th>\n",
              "      <td>212.000000</td>\n",
              "      <td>98.926215</td>\n",
              "      <td>219.800000</td>\n",
              "    </tr>\n",
              "  </tbody>\n",
              "</table>\n",
              "</div>"
            ],
            "text/plain": [
              "          duration2     distance2    total_paid\n",
              "count  21459.000000  21372.000000  21724.000000\n",
              "mean      19.710797      5.863477     18.277290\n",
              "std       13.724099      5.788648     13.974138\n",
              "min        1.000000      0.643067      0.000000\n",
              "25%       11.000000      2.524798      9.417500\n",
              "50%       17.000000      4.283984     14.330000\n",
              "75%       25.000000      6.947861     22.960000\n",
              "max      212.000000     98.926215    219.800000"
            ]
          },
          "metadata": {
            "tags": []
          },
          "execution_count": 58
        }
      ]
    },
    {
      "cell_type": "code",
      "metadata": {
        "id": "GzY5M8j-xp6i",
        "colab": {
          "base_uri": "https://localhost:8080/",
          "height": 282
        },
        "outputId": "2827334f-310a-431a-940a-82a580d1d3af"
      },
      "source": [
        "duration2_kapten=fox[fox.merchant_name==\"kapten\"].duration2\n",
        "distance2_kapten=fox[fox.merchant_name==\"kapten\"].distance2\n",
        "total_paid_kapten=fox[fox.merchant_name==\"kapten\"].total_paid\n",
        "frames2=[duration2_kapten,distance2_kapten,total_paid_kapten]\n",
        "kapten=pd.concat(frames2,axis=1)\n",
        "kapten.columns=[\"duration2\",\"distance2\",\"total_paid\"]\n",
        "kapten.describe()"
      ],
      "execution_count": null,
      "outputs": [
        {
          "output_type": "execute_result",
          "data": {
            "text/html": [
              "<div>\n",
              "<style scoped>\n",
              "    .dataframe tbody tr th:only-of-type {\n",
              "        vertical-align: middle;\n",
              "    }\n",
              "\n",
              "    .dataframe tbody tr th {\n",
              "        vertical-align: top;\n",
              "    }\n",
              "\n",
              "    .dataframe thead th {\n",
              "        text-align: right;\n",
              "    }\n",
              "</style>\n",
              "<table border=\"1\" class=\"dataframe\">\n",
              "  <thead>\n",
              "    <tr style=\"text-align: right;\">\n",
              "      <th></th>\n",
              "      <th>duration2</th>\n",
              "      <th>distance2</th>\n",
              "      <th>total_paid</th>\n",
              "    </tr>\n",
              "  </thead>\n",
              "  <tbody>\n",
              "    <tr>\n",
              "      <th>count</th>\n",
              "      <td>5268.000000</td>\n",
              "      <td>5256.000000</td>\n",
              "      <td>5301.000000</td>\n",
              "    </tr>\n",
              "    <tr>\n",
              "      <th>mean</th>\n",
              "      <td>22.201215</td>\n",
              "      <td>6.052417</td>\n",
              "      <td>18.863113</td>\n",
              "    </tr>\n",
              "    <tr>\n",
              "      <th>std</th>\n",
              "      <td>14.036776</td>\n",
              "      <td>5.304502</td>\n",
              "      <td>13.310847</td>\n",
              "    </tr>\n",
              "    <tr>\n",
              "      <th>min</th>\n",
              "      <td>1.000000</td>\n",
              "      <td>0.730905</td>\n",
              "      <td>0.000000</td>\n",
              "    </tr>\n",
              "    <tr>\n",
              "      <th>25%</th>\n",
              "      <td>13.000000</td>\n",
              "      <td>2.925960</td>\n",
              "      <td>10.000000</td>\n",
              "    </tr>\n",
              "    <tr>\n",
              "      <th>50%</th>\n",
              "      <td>19.000000</td>\n",
              "      <td>4.508972</td>\n",
              "      <td>15.350000</td>\n",
              "    </tr>\n",
              "    <tr>\n",
              "      <th>75%</th>\n",
              "      <td>28.000000</td>\n",
              "      <td>7.086602</td>\n",
              "      <td>23.900000</td>\n",
              "    </tr>\n",
              "    <tr>\n",
              "      <th>max</th>\n",
              "      <td>142.000000</td>\n",
              "      <td>56.849316</td>\n",
              "      <td>133.230000</td>\n",
              "    </tr>\n",
              "  </tbody>\n",
              "</table>\n",
              "</div>"
            ],
            "text/plain": [
              "         duration2    distance2   total_paid\n",
              "count  5268.000000  5256.000000  5301.000000\n",
              "mean     22.201215     6.052417    18.863113\n",
              "std      14.036776     5.304502    13.310847\n",
              "min       1.000000     0.730905     0.000000\n",
              "25%      13.000000     2.925960    10.000000\n",
              "50%      19.000000     4.508972    15.350000\n",
              "75%      28.000000     7.086602    23.900000\n",
              "max     142.000000    56.849316   133.230000"
            ]
          },
          "metadata": {
            "tags": []
          },
          "execution_count": 20
        }
      ]
    },
    {
      "cell_type": "markdown",
      "metadata": {
        "id": "Vp3XeeMgJxil"
      },
      "source": [
        "Interpretation: for G7 the mean duration of a single ride is relatively longer than the ones of Kapten and Uber. Kapten results to be the least expensive comparing the amount paid to the duration of a ride. G7 covers the longest rides. Uber seems to be more requested in brief-distance runs as shown in the previous results. G7 has the highest standard deviations in the 3 fields (duration, distance and total paid amount), this should imply less stable tariffs on the rides and more uncertainty on the result obtained. "
      ]
    },
    {
      "cell_type": "markdown",
      "metadata": {
        "id": "rbtmQJLX51tE"
      },
      "source": [
        "## Question 9"
      ]
    },
    {
      "cell_type": "code",
      "metadata": {
        "id": "nPxcds_-xp6j",
        "colab": {
          "base_uri": "https://localhost:8080/"
        },
        "outputId": "5ce0677f-e2c0-4ab4-c110-8291aba18af4"
      },
      "source": [
        "#questions 9 95%confidence interval\n",
        "from scipy.stats import sem, t\n",
        "from scipy import mean\n",
        "confidence = 0.95\n",
        "companys=[uber,kapten,g7]\n",
        "for i in companys:\n",
        "    data = i[\"total_paid\"]\n",
        "\n",
        "    n = len(data)\n",
        "    m = np.mean(data)\n",
        "    std_err = sem(data)\n",
        "    h = std_err * t.ppf((1 + confidence) / 2, n - 1)\n",
        "\n",
        "    start = m - h\n",
        "    print(start)\n",
        "    end = m + h\n",
        "    print(end)"
      ],
      "execution_count": null,
      "outputs": [
        {
          "output_type": "stream",
          "text": [
            "18.09145513438603\n",
            "18.463125053424555\n",
            "18.560561342846785\n",
            "19.284032837857712\n",
            "31.09842112357683\n",
            "32.85234607219042\n"
          ],
          "name": "stdout"
        }
      ]
    },
    {
      "cell_type": "markdown",
      "metadata": {
        "id": "zrN7KGcr9FW_"
      },
      "source": [
        "The 95% confidence interval of \"total paid\" for UBER, Kapten and G7 are \r\n",
        "\r\n",
        "[18.09145513438603,18.463125053424555]\r\n",
        "\r\n",
        "[18.50470760223955,19.22151763828115]\r\n",
        "\r\n",
        "[31.09842112357683,32.85234607219042]\r\n",
        "\r\n",
        "This means that we have 95% confidence at the statement that the computed intervals contains the mean of the \"total paid\".\r\n",
        "\r\n",
        "\r\n"
      ]
    },
    {
      "cell_type": "markdown",
      "metadata": {
        "id": "q5dfmyVs_1Mt"
      },
      "source": [
        "# Question 10"
      ]
    },
    {
      "cell_type": "markdown",
      "metadata": {
        "id": "ImBOruJz9EMP"
      },
      "source": [
        ""
      ]
    },
    {
      "cell_type": "code",
      "metadata": {
        "id": "mvDyXyGmxp6j",
        "colab": {
          "base_uri": "https://localhost:8080/"
        },
        "outputId": "0e9ff8df-fbf8-431c-ee54-a13bbbc597fc"
      },
      "source": [
        "# assumption1: average duration of a ride is equal to 20 minutes\n",
        "# asssumption2: average duration of a ride is not equal to 20 minutes\n",
        "import scipy.stats\n",
        "import scipy\n",
        "from scipy import mean\n",
        "from scipy import stats\n",
        "data=kapten[\"duration2\"]\n",
        "\n",
        "n = len(data)\n",
        "m = np.mean(data)\n",
        "print(m)\n",
        "std_err =sem(data,nan_policy='omit')\n",
        "\n",
        "t=(m-20)/std_err\n",
        "print(t)\n",
        "p=2*(1-scipy.stats.t.cdf(t,df=n-1))\n",
        "print(\"p-value is \",p)\n"
      ],
      "execution_count": null,
      "outputs": [
        {
          "output_type": "stream",
          "text": [
            "22.22990045941807\n",
            "11.477186590353881\n",
            "p-value is  0.0\n"
          ],
          "name": "stdout"
        }
      ]
    },
    {
      "cell_type": "code",
      "metadata": {
        "id": "e2Qi9Kclxp6k",
        "colab": {
          "base_uri": "https://localhost:8080/"
        },
        "outputId": "c6cb572b-62d0-4244-8297-ecd567c008bb"
      },
      "source": [
        "import scipy\n",
        "from scipy import mean\n",
        "\n",
        "data=uber[\"duration2\"]\n",
        "\n",
        "n = len(data)\n",
        "m = np.mean(data)\n",
        "std_err =sem(data,nan_policy='omit')\n",
        "\n",
        "t=(m-20)/std_err\n",
        "print(t)\n",
        "print(scipy.stats.t.ppf(0.005, n-1))\n",
        "print(scipy.stats.t.ppf(0.995, n-1))\n",
        "p=2*scipy.stats.t.cdf(t,df=n-1)\n",
        "print(\"p-value is \",p)"
      ],
      "execution_count": null,
      "outputs": [
        {
          "output_type": "stream",
          "text": [
            "-3.086904566377216\n",
            "-2.5760556513979633\n",
            "2.576055651397963\n",
            "p-value is  0.002025071006450946\n"
          ],
          "name": "stdout"
        }
      ]
    },
    {
      "cell_type": "code",
      "metadata": {
        "id": "5KWgTmiGxp6k",
        "colab": {
          "base_uri": "https://localhost:8080/"
        },
        "outputId": "0f301ea4-292e-4935-bb8f-932fa1769eb1"
      },
      "source": [
        "import scipy\r\n",
        "from scipy import mean\r\n",
        "\r\n",
        "data=g7[\"duration2\"]\r\n",
        "\r\n",
        "n = len(data)\r\n",
        "m = np.mean(data)\r\n",
        "print(m)\r\n",
        "std_err =sem(data,nan_policy='omit')\r\n",
        "\r\n",
        "t=(m-20)/std_err\r\n",
        "print(t)\r\n",
        "print(scipy.stats.t.ppf(0.005, n-1))\r\n",
        "print(scipy.stats.t.ppf(0.995, n-1))\r\n",
        "p=2*(1-scipy.stats.t.cdf(t,df=n-1))\r\n",
        "print(\"p-value is \",p)"
      ],
      "execution_count": null,
      "outputs": [
        {
          "output_type": "stream",
          "text": [
            "31.06057781919851\n",
            "22.58117019117476\n",
            "-2.579087013598488\n",
            "2.5790870135984876\n",
            "p-value is  0.0\n"
          ],
          "name": "stdout"
        }
      ]
    },
    {
      "cell_type": "markdown",
      "metadata": {
        "id": "1ZSuA5XEKWAg"
      },
      "source": [
        "The purpose of this question was to know if whether it would acceptable to say (with a 1% significance level) that the average duration of a ride is equal to 20 minutes for Kapten, G7 and Uber.\n",
        "Our null hypothesis was the average duration is 20 minutes,\n",
        "the rejecting one is that the average is not equal to 20 minutes.\n",
        "\n",
        "The p values for G7, Kapten and Uber are 0.0, 0.0 and 0.002025071006450946\n",
        "\n",
        "We used the T test to test the hypothesis. According to our results, we can not accept the hypothesis that  the average duration of a ride is equal to 20 minutes for G7, Kapten and Uber."
      ]
    },
    {
      "cell_type": "markdown",
      "metadata": {
        "id": "ojUldMvfK94X"
      },
      "source": [
        "## Question 11"
      ]
    },
    {
      "cell_type": "code",
      "metadata": {
        "id": "MbUC1kPgLDfr",
        "colab": {
          "base_uri": "https://localhost:8080/"
        },
        "outputId": "353d205c-260a-4767-a3c4-292b7c793860"
      },
      "source": [
        "from scipy.stats import ttest_ind\r\n",
        "uber3 = fox[fox[\"merchant_name\"]==\"uber\"]\r\n",
        "uberprice = uber3.total_paid\r\n",
        "product_class = uber3.product_class\r\n",
        "df6 = pd.DataFrame({\"uberprice\":uberprice,\"class\":product_class})\r\n",
        "data1 = df6[df6[\"class\"]==\"pool\"][\"uberprice\"]\r\n",
        "data2 = df6[df6[\"class\"]==\"uberx\"][\"uberprice\"]\r\n",
        "stat, p = ttest_ind(data1, data2)\r\n",
        "print('stat=%.3f, p=%.4f' % (stat, p))\r\n",
        "if p > 0.01:\r\n",
        "\tprint('uberx is not more expensive than pool')\r\n",
        "else:\r\n",
        "\tprint('uberx is more expensive than pool')"
      ],
      "execution_count": null,
      "outputs": [
        {
          "output_type": "stream",
          "text": [
            "stat=-13.110, p=0.0000\n",
            "uberx is more expensive than pool\n"
          ],
          "name": "stdout"
        }
      ]
    },
    {
      "cell_type": "markdown",
      "metadata": {
        "id": "uOvBkNomhFSn"
      },
      "source": [
        "What we wanted to know here is the company that is the more expensive, thanks to an equality of means and a t test we can conclude that with a significance level of 1%, Uber is more expensive than Pool\n",
        "Here our p-value is equal to 0,000 since the value we found was -13,110"
      ]
    },
    {
      "cell_type": "code",
      "metadata": {
        "id": "l6bMrxruhuFV"
      },
      "source": [
        ""
      ],
      "execution_count": null,
      "outputs": []
    },
    {
      "cell_type": "markdown",
      "metadata": {
        "id": "sUCkuy_IUpQv"
      },
      "source": [
        "# Question 12"
      ]
    },
    {
      "cell_type": "code",
      "metadata": {
        "id": "hHiaG8fo65sF",
        "colab": {
          "base_uri": "https://localhost:8080/"
        },
        "outputId": "54f84d5f-5a42-4760-9afd-d0fbdf0dcb76"
      },
      "source": [
        "import statsmodels.api as am \n",
        "import statsmodels.formula.api as ols"
      ],
      "execution_count": null,
      "outputs": [
        {
          "output_type": "stream",
          "text": [
            "/usr/local/lib/python3.6/dist-packages/statsmodels/tools/_testing.py:19: FutureWarning: pandas.util.testing is deprecated. Use the functions in the public API at pandas.testing instead.\n",
            "  import pandas.util.testing as tm\n"
          ],
          "name": "stderr"
        }
      ]
    },
    {
      "cell_type": "code",
      "metadata": {
        "colab": {
          "base_uri": "https://localhost:8080/"
        },
        "id": "5-8CqVyd7iH-",
        "outputId": "5d02a110-84b6-4b99-8904-727503317ead"
      },
      "source": [
        "import statsmodels.api as sm\n",
        "from statsmodels.formula.api import ols\n",
        "uber_new = uber[uber['total_paid']>0]\n",
        "model_uber = ols(\"total_paid ~ duration2+distance2\",data=uber_new).fit()\n",
        "model_uber_summary = model_uber.summary()\n",
        "print(model_uber_summary)\n",
        "model_uber.params\n"
      ],
      "execution_count": null,
      "outputs": [
        {
          "output_type": "stream",
          "text": [
            "                            OLS Regression Results                            \n",
            "==============================================================================\n",
            "Dep. Variable:             total_paid   R-squared:                       0.562\n",
            "Model:                            OLS   Adj. R-squared:                  0.562\n",
            "Method:                 Least Squares   F-statistic:                 1.353e+04\n",
            "Date:                Thu, 10 Dec 2020   Prob (F-statistic):               0.00\n",
            "Time:                        10:09:17   Log-Likelihood:                -75455.\n",
            "No. Observations:               21076   AIC:                         1.509e+05\n",
            "Df Residuals:                   21073   BIC:                         1.509e+05\n",
            "Df Model:                           2                                         \n",
            "Covariance Type:            nonrobust                                         \n",
            "==============================================================================\n",
            "                 coef    std err          t      P>|t|      [0.025      0.975]\n",
            "------------------------------------------------------------------------------\n",
            "Intercept      4.0574      0.108     37.688      0.000       3.846       4.268\n",
            "duration2      0.4284      0.005     81.980      0.000       0.418       0.439\n",
            "distance2      0.9801      0.013     78.381      0.000       0.956       1.005\n",
            "==============================================================================\n",
            "Omnibus:                     4662.539   Durbin-Watson:                   1.768\n",
            "Prob(Omnibus):                  0.000   Jarque-Bera (JB):            73995.297\n",
            "Skew:                           0.633   Prob(JB):                         0.00\n",
            "Kurtosis:                      12.092   Cond. No.                         44.5\n",
            "==============================================================================\n",
            "\n",
            "Warnings:\n",
            "[1] Standard Errors assume that the covariance matrix of the errors is correctly specified.\n"
          ],
          "name": "stdout"
        },
        {
          "output_type": "execute_result",
          "data": {
            "text/plain": [
              "Intercept    4.057407\n",
              "duration2    0.428409\n",
              "distance2    0.980052\n",
              "dtype: float64"
            ]
          },
          "metadata": {
            "tags": []
          },
          "execution_count": 54
        }
      ]
    },
    {
      "cell_type": "code",
      "metadata": {
        "id": "31CjpLroWQ6L",
        "colab": {
          "base_uri": "https://localhost:8080/"
        },
        "outputId": "dae80b06-e3d6-4f34-9fde-a59fed87ae75"
      },
      "source": [
        "kapten_new = kapten[kapten['total_paid']>0]\r\n",
        "model_kapten = ols(\"total_paid ~ duration2+distance2\",data=kapten_new).fit()\r\n",
        "model_kapten_summary = model_kapten.summary()\r\n",
        "print(model_kapten_summary)\r\n",
        "model_kapten.params"
      ],
      "execution_count": null,
      "outputs": [
        {
          "output_type": "stream",
          "text": [
            "                            OLS Regression Results                            \n",
            "==============================================================================\n",
            "Dep. Variable:             total_paid   R-squared:                       0.578\n",
            "Model:                            OLS   Adj. R-squared:                  0.578\n",
            "Method:                 Least Squares   F-statistic:                     3577.\n",
            "Date:                Thu, 10 Dec 2020   Prob (F-statistic):               0.00\n",
            "Time:                        10:10:32   Log-Likelihood:                -18669.\n",
            "No. Observations:                5219   AIC:                         3.734e+04\n",
            "Df Residuals:                    5216   BIC:                         3.736e+04\n",
            "Df Model:                           2                                         \n",
            "Covariance Type:            nonrobust                                         \n",
            "==============================================================================\n",
            "                 coef    std err          t      P>|t|      [0.025      0.975]\n",
            "------------------------------------------------------------------------------\n",
            "Intercept      3.9083      0.228     17.133      0.000       3.461       4.356\n",
            "duration2      0.3133      0.010     30.895      0.000       0.293       0.333\n",
            "distance2      1.3301      0.027     49.574      0.000       1.278       1.383\n",
            "==============================================================================\n",
            "Omnibus:                     1767.383   Durbin-Watson:                   1.820\n",
            "Prob(Omnibus):                  0.000   Jarque-Bera (JB):            28654.724\n",
            "Skew:                           1.180   Prob(JB):                         0.00\n",
            "Kurtosis:                      14.234   Cond. No.                         51.7\n",
            "==============================================================================\n",
            "\n",
            "Warnings:\n",
            "[1] Standard Errors assume that the covariance matrix of the errors is correctly specified.\n"
          ],
          "name": "stdout"
        },
        {
          "output_type": "execute_result",
          "data": {
            "text/plain": [
              "Intercept    3.908316\n",
              "duration2    0.313257\n",
              "distance2    1.330141\n",
              "dtype: float64"
            ]
          },
          "metadata": {
            "tags": []
          },
          "execution_count": 55
        }
      ]
    },
    {
      "cell_type": "code",
      "metadata": {
        "id": "7IIb4k7vWc60",
        "colab": {
          "base_uri": "https://localhost:8080/"
        },
        "outputId": "50771b82-bfee-4bd3-d261-67a5fd4367ca"
      },
      "source": [
        "g7_new = g7[g7['total_paid']>0]\r\n",
        "model_g7 = ols(\"total_paid ~ duration2+distance2\",data=g7_new).fit()\r\n",
        "model_g7_summary = model_g7.summary()\r\n",
        "print(model_g7_summary)\r\n",
        "model_g7.params"
      ],
      "execution_count": null,
      "outputs": [
        {
          "output_type": "stream",
          "text": [
            "                            OLS Regression Results                            \n",
            "==============================================================================\n",
            "Dep. Variable:             total_paid   R-squared:                       0.730\n",
            "Model:                            OLS   Adj. R-squared:                  0.729\n",
            "Method:                 Least Squares   F-statistic:                     615.6\n",
            "Date:                Thu, 10 Dec 2020   Prob (F-statistic):          3.81e-130\n",
            "Time:                        10:10:42   Log-Likelihood:                -1583.5\n",
            "No. Observations:                 458   AIC:                             3173.\n",
            "Df Residuals:                     455   BIC:                             3185.\n",
            "Df Model:                           2                                         \n",
            "Covariance Type:            nonrobust                                         \n",
            "==============================================================================\n",
            "                 coef    std err          t      P>|t|      [0.025      0.975]\n",
            "------------------------------------------------------------------------------\n",
            "Intercept      5.3021      0.749      7.077      0.000       3.830       6.774\n",
            "duration2      0.5747      0.023     24.464      0.000       0.529       0.621\n",
            "distance2      0.7765      0.065     11.944      0.000       0.649       0.904\n",
            "==============================================================================\n",
            "Omnibus:                      124.173   Durbin-Watson:                   1.823\n",
            "Prob(Omnibus):                  0.000   Jarque-Bera (JB):             4956.096\n",
            "Skew:                          -0.293   Prob(JB):                         0.00\n",
            "Kurtosis:                      19.105   Cond. No.                         74.4\n",
            "==============================================================================\n",
            "\n",
            "Warnings:\n",
            "[1] Standard Errors assume that the covariance matrix of the errors is correctly specified.\n"
          ],
          "name": "stdout"
        },
        {
          "output_type": "execute_result",
          "data": {
            "text/plain": [
              "Intercept    5.302055\n",
              "duration2    0.574677\n",
              "distance2    0.776510\n",
              "dtype: float64"
            ]
          },
          "metadata": {
            "tags": []
          },
          "execution_count": 56
        }
      ]
    },
    {
      "cell_type": "markdown",
      "metadata": {
        "id": "HsSWCkrJImR_"
      },
      "source": [
        "Interpretation: We used OLS model to do the regression analysis. R-squared coefficient of determination is a statistical measure of how well the regression predictions approximate the real data points. An R-squared of 1 indicates that the regression predictions perfectly fit the data.\r\n",
        "The R-squired values of the three models are 0.562,0.578,0.730\r\n",
        "\r\n",
        "P value: All the P value is 0.000, showing that the slope coefficients are significantly different from zero at the 1 percent confidence level.\r\n"
      ]
    },
    {
      "cell_type": "markdown",
      "metadata": {
        "id": "wWTPVXaYXJLf"
      },
      "source": [
        "# Question 13"
      ]
    },
    {
      "cell_type": "markdown",
      "metadata": {
        "id": "GPRgwstMmAr0"
      },
      "source": [
        "We used T TEST to test this question. According to the results, at 5% significance level, it is statistically correct to say that the expected total\r\n",
        "paid difference is 1 Euro for two different Uber rides of\r\n",
        "the same duration but one of the rides is 1 kilometer longer . \r\n",
        "P value is 0.13382330892673042."
      ]
    },
    {
      "cell_type": "code",
      "metadata": {
        "id": "drxRk7KLcU4a",
        "colab": {
          "base_uri": "https://localhost:8080/"
        },
        "outputId": "c718b145-ed4b-45e1-e50d-465cfe5b4985"
      },
      "source": [
        "t=(0.9805-1)/0.013\r\n",
        "print(t)\r\n",
        "print(scipy.stats.t.ppf(0.025, n-1))\r\n",
        "print(scipy.stats.t.ppf(0.975, n-1))\r\n",
        "p=2*scipy.stats.t.cdf(t,df=n-1)\r\n",
        "print(\"p-value is \",p)\r\n"
      ],
      "execution_count": null,
      "outputs": [
        {
          "output_type": "stream",
          "text": [
            "-1.4999999999999971\n",
            "-1.9615352223411995\n",
            "1.961535222341199\n",
            "p-value is  0.13382330892673042\n"
          ],
          "name": "stdout"
        }
      ]
    },
    {
      "cell_type": "markdown",
      "metadata": {
        "id": "WYfoev35eF5q"
      },
      "source": [
        "# Question 14"
      ]
    },
    {
      "cell_type": "code",
      "metadata": {
        "colab": {
          "base_uri": "https://localhost:8080/"
        },
        "id": "otR3EenMeJgZ",
        "outputId": "01e2fb81-e887-413b-c4f3-967aba65b900"
      },
      "source": [
        "import math\r\n",
        "import numpy as np\r\n",
        "\r\n",
        "R = 6373.0\r\n",
        "\r\n",
        "lat1 = math.radians(48.851749736370245)\r\n",
        "lon1 = math.radians(2.348260109532791)\r\n",
        "lat2 = math.radians(48.947347149459155)\r\n",
        "lon2 = math.radians(2.1538655694927153)\r\n",
        "dlon = lon2 - lon1\r\n",
        "dlat = lat2 - lat1\r\n",
        "\r\n",
        "a = math.sin(dlat / 2)**2 + math.cos(lat1) * math.cos(lat2) * math.sin(dlon / 2)**2\r\n",
        "\r\n",
        "c = 2 * math.atan2(math.sqrt(a), math.sqrt(1 - a))\r\n",
        "distance_14 = R * c\r\n",
        "print(distance_14)\r\n",
        "duration_14 = 55\r\n",
        "\r\n",
        "prediction=model_uber.predict(pd.DataFrame({'duration2':[55], 'distance2':[distance_14]}))\r\n",
        "print(prediction)"
      ],
      "execution_count": null,
      "outputs": [
        {
          "output_type": "stream",
          "text": [
            "17.751339618847926\n",
            "0    45.017161\n",
            "dtype: float64\n"
          ],
          "name": "stdout"
        }
      ]
    },
    {
      "cell_type": "markdown",
      "metadata": {
        "id": "FRfc88iBJgmB"
      },
      "source": [
        "48 is a reasonable price."
      ]
    },
    {
      "cell_type": "code",
      "metadata": {
        "id": "CFYIeaSvFg6j",
        "colab": {
          "base_uri": "https://localhost:8080/"
        },
        "outputId": "efe89600-2b95-4805-f1c1-e89c61104699"
      },
      "source": [
        "prediction=model_kapten.predict(pd.DataFrame({'duration2':[55], 'distance2':[distance_14]}))\n",
        "print(prediction)"
      ],
      "execution_count": null,
      "outputs": [
        {
          "output_type": "stream",
          "text": [
            "0    44.749254\n",
            "dtype: float64\n"
          ],
          "name": "stdout"
        }
      ]
    },
    {
      "cell_type": "code",
      "metadata": {
        "id": "2wu5_FdOFkax",
        "colab": {
          "base_uri": "https://localhost:8080/"
        },
        "outputId": "ef84c345-b6d5-4e2b-b5a0-8479f5779039"
      },
      "source": [
        "prediction=model_g7.predict(pd.DataFrame({'duration2':[55], 'distance2':[distance_14]}))\n",
        "print(prediction)"
      ],
      "execution_count": null,
      "outputs": [
        {
          "output_type": "stream",
          "text": [
            "0    50.693392\n",
            "dtype: float64\n"
          ],
          "name": "stdout"
        }
      ]
    },
    {
      "cell_type": "markdown",
      "metadata": {
        "id": "-548vF5RPFTj"
      },
      "source": [
        "Accoring to the prediction of the model, the expected price for the three company is 45.01, 44.75 and 50.69. Therefore, 47 euro is a reasonable price."
      ]
    },
    {
      "cell_type": "markdown",
      "metadata": {
        "id": "QD__oMdtQU23"
      },
      "source": [
        "# Question 15\n",
        "\n",
        "\n",
        "Q:What could you do to improve the precision of your prediction machine?\n",
        "\n",
        "A:\n",
        "1. A different model: \n",
        "Because now the R-squared values of models are not high, we should consider looking for another model. \n",
        "2. Bigger dataset: \n",
        "A bigger dataset makes the model more precise.\n",
        "3. Treatment of NAN and outliers:\n",
        "From the first several questions we can conclude that there are a lot of NANs and outliers. Getting more information about the real situation, we can come up with a more precise method for NANs and outlier treatment.\n",
        "4. New features:\n",
        "we can extract more information from existing data by creating new features. \n",
        "\n",
        "Q:Are there other ways to transform the available data in a new feature variable?\n",
        "\n",
        "A:\n",
        "I assume that the price depends on the duration, distance, number of availale riders and other factors, so i will add these new feature variables from existing data.\n",
        "\n",
        " 1.Different time slot:\n",
        "Price may vary from peak hours and normal hours, day-time and night-time.\n",
        "2. Location:\n",
        "Price may vary from orders in city and rural areas. The latitude and longtitude are know, so we can know this information.\n",
        "\n",
        "Q：Is there external data which can be helpful\n",
        "\n",
        "A：\n",
        "\n",
        "1.Weather\n",
        "The weather condition will affect the price, because the available riders may depend largely on the weather conditions. Also there might be outliers due to extreme weathers.\n",
        "2. Discount\n",
        "There might be discount on price in some period of time and this affect the demand of riders.\n"
      ]
    }
  ]
}