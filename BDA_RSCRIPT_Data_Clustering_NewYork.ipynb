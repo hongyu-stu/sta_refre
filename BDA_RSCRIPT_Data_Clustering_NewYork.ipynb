{
 "cells": [
  {
   "cell_type": "code",
   "execution_count": 1,
   "metadata": {},
   "outputs": [],
   "source": [
    "from datetime import datetime\n",
    "import pandas as pd \n",
    "import statsmodels.api as sm\n",
    "import numpy as np\n",
    "import matplotlib.pyplot as plt\n",
    "from scipy.stats import norm\n",
    "import statsmodels.api as sm\n",
    "from scipy.optimize import minimize\n",
    "import scipy.stats\n",
    "from scipy import stats\n",
    "from sklearn.metrics import confusion_matrix\n",
    "import warnings\n",
    "warnings.simplefilter('ignore')\n",
    "def keep_cols(DataFrame, keep_these):\n",
    "    \"\"\"Keep only the columns [keep_these] in a DataFrame, delete\n",
    "    all other columns. \n",
    "    \"\"\"\n",
    "    drop_these = list(set(list(DataFrame)) - set(keep_these))\n",
    "    return DataFrame.drop(drop_these, axis = 1)"
   ]
  },
  {
   "cell_type": "code",
   "execution_count": 2,
   "metadata": {},
   "outputs": [],
   "source": [
    "#1. Import the data\n",
    "newyork=pd.read_csv(\"NYC_Free_Public_WiFi_03292017.csv\", sep=\",\")\n",
    "newyorkdf=newyork.pipe(keep_cols, ['LAT', 'LON'])"
   ]
  },
  {
   "cell_type": "code",
   "execution_count": 8,
   "metadata": {},
   "outputs": [
    {
     "data": {
      "text/html": [
       "<div>\n",
       "<style scoped>\n",
       "    .dataframe tbody tr th:only-of-type {\n",
       "        vertical-align: middle;\n",
       "    }\n",
       "\n",
       "    .dataframe tbody tr th {\n",
       "        vertical-align: top;\n",
       "    }\n",
       "\n",
       "    .dataframe thead th {\n",
       "        text-align: right;\n",
       "    }\n",
       "</style>\n",
       "<table border=\"1\" class=\"dataframe\">\n",
       "  <thead>\n",
       "    <tr style=\"text-align: right;\">\n",
       "      <th></th>\n",
       "      <th>BORO</th>\n",
       "      <th>the_geom</th>\n",
       "      <th>TYPE</th>\n",
       "      <th>OBJECTID</th>\n",
       "      <th>PROVIDER</th>\n",
       "      <th>NAME</th>\n",
       "      <th>LAT</th>\n",
       "      <th>LOCATION</th>\n",
       "      <th>LON</th>\n",
       "      <th>X</th>\n",
       "      <th>...</th>\n",
       "      <th>NTACODE</th>\n",
       "      <th>NTANAME</th>\n",
       "      <th>COUNDIST</th>\n",
       "      <th>POSTCODE</th>\n",
       "      <th>BOROCD</th>\n",
       "      <th>CT2010</th>\n",
       "      <th>BOROCT2010</th>\n",
       "      <th>BIN</th>\n",
       "      <th>BBL</th>\n",
       "      <th>DOITT_ID</th>\n",
       "    </tr>\n",
       "  </thead>\n",
       "  <tbody>\n",
       "    <tr>\n",
       "      <th>0</th>\n",
       "      <td>QU</td>\n",
       "      <td>POINT (-73.94458300007643 40.755726999970044)</td>\n",
       "      <td>Free</td>\n",
       "      <td>8641</td>\n",
       "      <td>Spot On Networks</td>\n",
       "      <td>QUEENS BRIDGE - JACOB A. RIIS Settlement House</td>\n",
       "      <td>40.755727</td>\n",
       "      <td>10-25 41 AVENUE</td>\n",
       "      <td>-73.944583</td>\n",
       "      <td>999603.226171</td>\n",
       "      <td>...</td>\n",
       "      <td>QN68</td>\n",
       "      <td>Queensbridge-Ravenswood-Long Island City</td>\n",
       "      <td>26</td>\n",
       "      <td>11101</td>\n",
       "      <td>401</td>\n",
       "      <td>25</td>\n",
       "      <td>4002500</td>\n",
       "      <td>4433386</td>\n",
       "      <td>4004700100</td>\n",
       "      <td>4746</td>\n",
       "    </tr>\n",
       "    <tr>\n",
       "      <th>1</th>\n",
       "      <td>QU</td>\n",
       "      <td>POINT (-73.94413100020707 40.755332999617764)</td>\n",
       "      <td>Free</td>\n",
       "      <td>8642</td>\n",
       "      <td>Spot On Networks</td>\n",
       "      <td>QUEENS BRIDGE - JACOB A. RIIS Settlement House</td>\n",
       "      <td>40.755333</td>\n",
       "      <td>10-43 41 AVENUE</td>\n",
       "      <td>-73.944131</td>\n",
       "      <td>999728.543834</td>\n",
       "      <td>...</td>\n",
       "      <td>QN68</td>\n",
       "      <td>Queensbridge-Ravenswood-Long Island City</td>\n",
       "      <td>26</td>\n",
       "      <td>11101</td>\n",
       "      <td>401</td>\n",
       "      <td>25</td>\n",
       "      <td>4002500</td>\n",
       "      <td>4433386</td>\n",
       "      <td>4004700100</td>\n",
       "      <td>4747</td>\n",
       "    </tr>\n",
       "    <tr>\n",
       "      <th>2</th>\n",
       "      <td>QU</td>\n",
       "      <td>POINT (-73.94516599972107 40.75575100007361)</td>\n",
       "      <td>Free</td>\n",
       "      <td>8643</td>\n",
       "      <td>Spot On Networks</td>\n",
       "      <td>QUEENS BRIDGE - JACOB A. RIIS Settlement House</td>\n",
       "      <td>40.755751</td>\n",
       "      <td>10-05 41 AVENUE</td>\n",
       "      <td>-73.945166</td>\n",
       "      <td>999441.701232</td>\n",
       "      <td>...</td>\n",
       "      <td>QN68</td>\n",
       "      <td>Queensbridge-Ravenswood-Long Island City</td>\n",
       "      <td>26</td>\n",
       "      <td>11101</td>\n",
       "      <td>401</td>\n",
       "      <td>25</td>\n",
       "      <td>4002500</td>\n",
       "      <td>4433386</td>\n",
       "      <td>4004700100</td>\n",
       "      <td>4748</td>\n",
       "    </tr>\n",
       "    <tr>\n",
       "      <th>3</th>\n",
       "      <td>QU</td>\n",
       "      <td>POINT (-73.94516599972107 40.75575100007361)</td>\n",
       "      <td>Free</td>\n",
       "      <td>8644</td>\n",
       "      <td>Spot On Networks</td>\n",
       "      <td>QUEENS BRIDGE - JACOB A. RIIS Settlement House</td>\n",
       "      <td>40.755751</td>\n",
       "      <td>10-05 41 AVENUE</td>\n",
       "      <td>-73.945166</td>\n",
       "      <td>999441.701232</td>\n",
       "      <td>...</td>\n",
       "      <td>QN68</td>\n",
       "      <td>Queensbridge-Ravenswood-Long Island City</td>\n",
       "      <td>26</td>\n",
       "      <td>11101</td>\n",
       "      <td>401</td>\n",
       "      <td>25</td>\n",
       "      <td>4002500</td>\n",
       "      <td>4433386</td>\n",
       "      <td>4004700100</td>\n",
       "      <td>4749</td>\n",
       "    </tr>\n",
       "    <tr>\n",
       "      <th>4</th>\n",
       "      <td>QU</td>\n",
       "      <td>POINT (-73.94516599972107 40.75575100007361)</td>\n",
       "      <td>Free</td>\n",
       "      <td>8645</td>\n",
       "      <td>Spot On Networks</td>\n",
       "      <td>QUEENS BRIDGE - JACOB A. RIIS Settlement House</td>\n",
       "      <td>40.755751</td>\n",
       "      <td>10-05 41 AVENUE</td>\n",
       "      <td>-73.945166</td>\n",
       "      <td>999441.701232</td>\n",
       "      <td>...</td>\n",
       "      <td>QN68</td>\n",
       "      <td>Queensbridge-Ravenswood-Long Island City</td>\n",
       "      <td>26</td>\n",
       "      <td>11101</td>\n",
       "      <td>401</td>\n",
       "      <td>25</td>\n",
       "      <td>4002500</td>\n",
       "      <td>4433386</td>\n",
       "      <td>4004700100</td>\n",
       "      <td>4750</td>\n",
       "    </tr>\n",
       "  </tbody>\n",
       "</table>\n",
       "<p>5 rows × 29 columns</p>\n",
       "</div>"
      ],
      "text/plain": [
       "  BORO                                       the_geom  TYPE  OBJECTID  \\\n",
       "0   QU  POINT (-73.94458300007643 40.755726999970044)  Free      8641   \n",
       "1   QU  POINT (-73.94413100020707 40.755332999617764)  Free      8642   \n",
       "2   QU   POINT (-73.94516599972107 40.75575100007361)  Free      8643   \n",
       "3   QU   POINT (-73.94516599972107 40.75575100007361)  Free      8644   \n",
       "4   QU   POINT (-73.94516599972107 40.75575100007361)  Free      8645   \n",
       "\n",
       "           PROVIDER                                            NAME  \\\n",
       "0  Spot On Networks  QUEENS BRIDGE - JACOB A. RIIS Settlement House   \n",
       "1  Spot On Networks  QUEENS BRIDGE - JACOB A. RIIS Settlement House   \n",
       "2  Spot On Networks  QUEENS BRIDGE - JACOB A. RIIS Settlement House   \n",
       "3  Spot On Networks  QUEENS BRIDGE - JACOB A. RIIS Settlement House   \n",
       "4  Spot On Networks  QUEENS BRIDGE - JACOB A. RIIS Settlement House   \n",
       "\n",
       "         LAT         LOCATION        LON              X   ...     NTACODE  \\\n",
       "0  40.755727  10-25 41 AVENUE -73.944583  999603.226171   ...        QN68   \n",
       "1  40.755333  10-43 41 AVENUE -73.944131  999728.543834   ...        QN68   \n",
       "2  40.755751  10-05 41 AVENUE -73.945166  999441.701232   ...        QN68   \n",
       "3  40.755751  10-05 41 AVENUE -73.945166  999441.701232   ...        QN68   \n",
       "4  40.755751  10-05 41 AVENUE -73.945166  999441.701232   ...        QN68   \n",
       "\n",
       "                                    NTANAME COUNDIST POSTCODE BOROCD CT2010  \\\n",
       "0  Queensbridge-Ravenswood-Long Island City       26    11101    401     25   \n",
       "1  Queensbridge-Ravenswood-Long Island City       26    11101    401     25   \n",
       "2  Queensbridge-Ravenswood-Long Island City       26    11101    401     25   \n",
       "3  Queensbridge-Ravenswood-Long Island City       26    11101    401     25   \n",
       "4  Queensbridge-Ravenswood-Long Island City       26    11101    401     25   \n",
       "\n",
       "  BOROCT2010      BIN         BBL DOITT_ID  \n",
       "0    4002500  4433386  4004700100     4746  \n",
       "1    4002500  4433386  4004700100     4747  \n",
       "2    4002500  4433386  4004700100     4748  \n",
       "3    4002500  4433386  4004700100     4749  \n",
       "4    4002500  4433386  4004700100     4750  \n",
       "\n",
       "[5 rows x 29 columns]"
      ]
     },
     "execution_count": 8,
     "metadata": {},
     "output_type": "execute_result"
    }
   ],
   "source": [
    "newyork.head()"
   ]
  },
  {
   "cell_type": "code",
   "execution_count": 9,
   "metadata": {},
   "outputs": [
    {
     "data": {
      "text/html": [
       "<div>\n",
       "<style scoped>\n",
       "    .dataframe tbody tr th:only-of-type {\n",
       "        vertical-align: middle;\n",
       "    }\n",
       "\n",
       "    .dataframe tbody tr th {\n",
       "        vertical-align: top;\n",
       "    }\n",
       "\n",
       "    .dataframe thead th {\n",
       "        text-align: right;\n",
       "    }\n",
       "</style>\n",
       "<table border=\"1\" class=\"dataframe\">\n",
       "  <thead>\n",
       "    <tr style=\"text-align: right;\">\n",
       "      <th></th>\n",
       "      <th>LAT</th>\n",
       "      <th>LON</th>\n",
       "    </tr>\n",
       "  </thead>\n",
       "  <tbody>\n",
       "    <tr>\n",
       "      <th>0</th>\n",
       "      <td>40.755727</td>\n",
       "      <td>-73.944583</td>\n",
       "    </tr>\n",
       "    <tr>\n",
       "      <th>1</th>\n",
       "      <td>40.755333</td>\n",
       "      <td>-73.944131</td>\n",
       "    </tr>\n",
       "    <tr>\n",
       "      <th>2</th>\n",
       "      <td>40.755751</td>\n",
       "      <td>-73.945166</td>\n",
       "    </tr>\n",
       "    <tr>\n",
       "      <th>3</th>\n",
       "      <td>40.755751</td>\n",
       "      <td>-73.945166</td>\n",
       "    </tr>\n",
       "    <tr>\n",
       "      <th>4</th>\n",
       "      <td>40.755751</td>\n",
       "      <td>-73.945166</td>\n",
       "    </tr>\n",
       "  </tbody>\n",
       "</table>\n",
       "</div>"
      ],
      "text/plain": [
       "         LAT        LON\n",
       "0  40.755727 -73.944583\n",
       "1  40.755333 -73.944131\n",
       "2  40.755751 -73.945166\n",
       "3  40.755751 -73.945166\n",
       "4  40.755751 -73.945166"
      ]
     },
     "execution_count": 9,
     "metadata": {},
     "output_type": "execute_result"
    }
   ],
   "source": [
    "newyorkdf.head()"
   ]
  },
  {
   "cell_type": "code",
   "execution_count": 3,
   "metadata": {},
   "outputs": [],
   "source": [
    "#2. Determine number of clusters\n",
    "wss=[]"
   ]
  },
  {
   "cell_type": "code",
   "execution_count": null,
   "metadata": {},
   "outputs": [],
   "source": []
  },
  {
   "cell_type": "code",
   "execution_count": 4,
   "metadata": {},
   "outputs": [
    {
     "data": {
      "text/plain": [
       "[]"
      ]
     },
     "execution_count": 4,
     "metadata": {},
     "output_type": "execute_result"
    }
   ],
   "source": [
    "wss"
   ]
  },
  {
   "cell_type": "code",
   "execution_count": 5,
   "metadata": {},
   "outputs": [],
   "source": [
    "value1=(newyork.shape[0]-1)*(np.var(newyorkdf['LAT'])+np.var(newyorkdf['LON']))\n",
    "wss.append(value1)"
   ]
  },
  {
   "cell_type": "code",
   "execution_count": 6,
   "metadata": {},
   "outputs": [
    {
     "data": {
      "text/plain": [
       "[27.70665752277275]"
      ]
     },
     "execution_count": 6,
     "metadata": {},
     "output_type": "execute_result"
    }
   ],
   "source": [
    "wss"
   ]
  },
  {
   "cell_type": "code",
   "execution_count": 11,
   "metadata": {},
   "outputs": [
    {
     "data": {
      "text/plain": [
       "[27.70665752277275,\n",
       " 17.475644573747054,\n",
       " 11.025258596320773,\n",
       " 7.645008020823424,\n",
       " 5.752319862432176,\n",
       " 4.877625286222925,\n",
       " 4.060265866003078,\n",
       " 3.3861607564487715,\n",
       " 2.9832757171950934,\n",
       " 2.49186244905398,\n",
       " 2.199272928568439,\n",
       " 2.0360689997992525,\n",
       " 1.8061369659455457,\n",
       " 1.6887771886435288,\n",
       " 1.588193474230056,\n",
       " 1.492057468372561,\n",
       " 1.3702480483274972,\n",
       " 1.3030480481959348,\n",
       " 1.2091938784338803,\n",
       " 1.104488823859984,\n",
       " 17.475644573747054,\n",
       " 11.025258596320773,\n",
       " 7.645008020823424,\n",
       " 5.752319862432176,\n",
       " 4.877625286222925,\n",
       " 4.060265866003078,\n",
       " 3.3861607564487715,\n",
       " 2.9832757171950934,\n",
       " 2.49186244905398,\n",
       " 2.199272928568439,\n",
       " 2.0360689997992525,\n",
       " 1.8061369659455457,\n",
       " 1.6887771886435288,\n",
       " 1.588193474230056,\n",
       " 1.492057468372561,\n",
       " 1.3702480483274972,\n",
       " 1.3030480481959348,\n",
       " 1.2091938784338803,\n",
       " 1.104488823859984]"
      ]
     },
     "execution_count": 11,
     "metadata": {},
     "output_type": "execute_result"
    }
   ],
   "source": [
    "from sklearn.cluster import KMeans\n",
    "for i in range(1,20):\n",
    "    kmeans=KMeans(n_clusters=i+1, random_state=0).fit(newyorkdf)\n",
    "    wss.append(kmeans.inertia_)\n",
    "wss"
   ]
  },
  {
   "cell_type": "code",
   "execution_count": 71,
   "metadata": {},
   "outputs": [
    {
     "data": {
      "image/png": "[encoded data removed]",
      "text/plain": [
       "<Figure size 432x288 with 1 Axes>"
      ]
     },
     "metadata": {
      "needs_background": "light"
     },
     "output_type": "display_data"
    }
   ],
   "source": [
    "plt.plot(wss,'-o')\n",
    "plt.xlabel('Number of Clusters')\n",
    "plt.ylabel('Within groups sum of squares')\n",
    "plt.show()"
   ]
  },
  {
   "cell_type": "code",
   "execution_count": 12,
   "metadata": {},
   "outputs": [
    {
     "data": {
      "text/html": [
       "<div>\n",
       "<style scoped>\n",
       "    .dataframe tbody tr th:only-of-type {\n",
       "        vertical-align: middle;\n",
       "    }\n",
       "\n",
       "    .dataframe tbody tr th {\n",
       "        vertical-align: top;\n",
       "    }\n",
       "\n",
       "    .dataframe thead th {\n",
       "        text-align: right;\n",
       "    }\n",
       "</style>\n",
       "<table border=\"1\" class=\"dataframe\">\n",
       "  <thead>\n",
       "    <tr style=\"text-align: right;\">\n",
       "      <th></th>\n",
       "      <th>fitcluster</th>\n",
       "      <th>LAT_mean</th>\n",
       "      <th>LON_mean</th>\n",
       "    </tr>\n",
       "  </thead>\n",
       "  <tbody>\n",
       "    <tr>\n",
       "      <th>0</th>\n",
       "      <td>1</td>\n",
       "      <td>40.770851</td>\n",
       "      <td>-73.970204</td>\n",
       "    </tr>\n",
       "    <tr>\n",
       "      <th>1</th>\n",
       "      <td>2</td>\n",
       "      <td>40.709714</td>\n",
       "      <td>-73.809734</td>\n",
       "    </tr>\n",
       "    <tr>\n",
       "      <th>2</th>\n",
       "      <td>3</td>\n",
       "      <td>40.592685</td>\n",
       "      <td>-74.108638</td>\n",
       "    </tr>\n",
       "    <tr>\n",
       "      <th>3</th>\n",
       "      <td>4</td>\n",
       "      <td>40.674686</td>\n",
       "      <td>-73.938705</td>\n",
       "    </tr>\n",
       "    <tr>\n",
       "      <th>4</th>\n",
       "      <td>5</td>\n",
       "      <td>40.853063</td>\n",
       "      <td>-73.882515</td>\n",
       "    </tr>\n",
       "    <tr>\n",
       "      <th>5</th>\n",
       "      <td>6</td>\n",
       "      <td>40.748251</td>\n",
       "      <td>-73.899907</td>\n",
       "    </tr>\n",
       "    <tr>\n",
       "      <th>6</th>\n",
       "      <td>7</td>\n",
       "      <td>40.587975</td>\n",
       "      <td>-73.798330</td>\n",
       "    </tr>\n",
       "    <tr>\n",
       "      <th>7</th>\n",
       "      <td>8</td>\n",
       "      <td>40.816125</td>\n",
       "      <td>-73.941150</td>\n",
       "    </tr>\n",
       "    <tr>\n",
       "      <th>8</th>\n",
       "      <td>9</td>\n",
       "      <td>40.689421</td>\n",
       "      <td>-73.993074</td>\n",
       "    </tr>\n",
       "    <tr>\n",
       "      <th>9</th>\n",
       "      <td>10</td>\n",
       "      <td>40.738452</td>\n",
       "      <td>-73.988215</td>\n",
       "    </tr>\n",
       "    <tr>\n",
       "      <th>10</th>\n",
       "      <td>11</td>\n",
       "      <td>40.593272</td>\n",
       "      <td>-73.976567</td>\n",
       "    </tr>\n",
       "  </tbody>\n",
       "</table>\n",
       "</div>"
      ],
      "text/plain": [
       "    fitcluster   LAT_mean   LON_mean\n",
       "0            1  40.770851 -73.970204\n",
       "1            2  40.709714 -73.809734\n",
       "2            3  40.592685 -74.108638\n",
       "3            4  40.674686 -73.938705\n",
       "4            5  40.853063 -73.882515\n",
       "5            6  40.748251 -73.899907\n",
       "6            7  40.587975 -73.798330\n",
       "7            8  40.816125 -73.941150\n",
       "8            9  40.689421 -73.993074\n",
       "9           10  40.738452 -73.988215\n",
       "10          11  40.593272 -73.976567"
      ]
     },
     "execution_count": 12,
     "metadata": {},
     "output_type": "execute_result"
    }
   ],
   "source": [
    "#3. K-Means Clustering\n",
    "fit=KMeans(n_clusters=11, random_state=0).fit(newyorkdf)\n",
    "fitcluster=fit.labels_\n",
    "fitcluster+=1\n",
    "newyorkdf['fitcluster']=fitcluster\n",
    "\n",
    "\n",
    "newyorkdfgrouped =newyorkdf.groupby('fitcluster').agg(['mean'])\n",
    "newyorkdfgrouped.columns = [\"_\".join(x) for x in newyorkdfgrouped.columns.ravel()]\n",
    "newyorkdfgrouped=newyorkdfgrouped.iloc[:,0:7].reset_index()\n",
    "newyorkdfgrouped=newyorkdfgrouped.iloc[:,0:7]\n",
    "newyorkdfgrouped"
   ]
  },
  {
   "cell_type": "code",
   "execution_count": 13,
   "metadata": {},
   "outputs": [
    {
     "data": {
      "text/plain": [
       "<seaborn.axisgrid.FacetGrid at 0x1c19a7be10>"
      ]
     },
     "execution_count": 13,
     "metadata": {},
     "output_type": "execute_result"
    },
    {
     "data": {
      "image/png": "[encoded data removed]",
      "text/plain": [
       "<Figure size 743.7x432 with 1 Axes>"
      ]
     },
     "metadata": {
      "needs_background": "light"
     },
     "output_type": "display_data"
    }
   ],
   "source": [
    "import seaborn\n",
    "from  matplotlib import pyplot\n",
    "\n",
    "fg = seaborn.FacetGrid(data=newyorkdf, hue='fitcluster', aspect=1.6,height=6)\n",
    "fg.map(pyplot.scatter, 'LON', 'LAT').add_legend()\n"
   ]
  },
  {
   "cell_type": "code",
   "execution_count": 74,
   "metadata": {},
   "outputs": [
    {
     "data": {
      "text/plain": [
       "10    631\n",
       "8     592\n",
       "1     565\n",
       "9     414\n",
       "4     253\n",
       "2     235\n",
       "6     220\n",
       "5     204\n",
       "3     100\n",
       "11     94\n",
       "7      37\n",
       "Name: fit, dtype: int64"
      ]
     },
     "execution_count": 74,
     "metadata": {},
     "output_type": "execute_result"
    }
   ],
   "source": [
    "df = pd.DataFrame({'fit':fitcluster})\n",
    "databars=df['fit'].value_counts()\n",
    "databars"
   ]
  },
  {
   "cell_type": "code",
   "execution_count": 77,
   "metadata": {},
   "outputs": [
    {
     "data": {
      "image/png": "[encoded data removed]",
      "text/plain": [
       "<Figure size 432x288 with 1 Axes>"
      ]
     },
     "metadata": {
      "needs_background": "light"
     },
     "output_type": "display_data"
    }
   ],
   "source": [
    "x = [10,8,1,9,4,2,6,5,3,11,7]\n",
    "plt.bar(x, databars, align='center', alpha=0.5)\n",
    "plt.title('Number of Public Wifi spots in New York in the different clusters')\n",
    "plt.show()"
   ]
  },
  {
   "cell_type": "code",
   "execution_count": null,
   "metadata": {},
   "outputs": [],
   "source": []
  }
 ],
 "metadata": {
  "kernelspec": {
   "display_name": "Python 3",
   "language": "python",
   "name": "python3"
  },
  "language_info": {
   "codemirror_mode": {
    "name": "ipython",
    "version": 3
   },
   "file_extension": ".py",
   "mimetype": "text/x-python",
   "name": "python",
   "nbconvert_exporter": "python",
   "pygments_lexer": "ipython3",
   "version": "3.7.1"
  }
 },
 "nbformat": 4,
 "nbformat_minor": 2
}
